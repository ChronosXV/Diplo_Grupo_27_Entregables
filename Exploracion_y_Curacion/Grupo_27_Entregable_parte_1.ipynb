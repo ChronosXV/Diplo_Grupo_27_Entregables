{
  "cells": [
    {
      "cell_type": "markdown",
      "metadata": {
        "id": "e0ff301b-5595-4a0b-a2b8-3d5609a0485d"
      },
      "source": [
        "**Diplomatura en Ciencia de Datos, Aprendizaje Automático y sus Aplicaciones**\n",
        "\n",
        "**Exploración y Curación de Datos**\n",
        "\n",
        "*Edición 2022*\n",
        "\n",
        "**Entregable 2 - Parte 1**\n",
        "\n",
        "**Grupo 27:**\n",
        "\n",
        "**Guillermo Alonso**\n",
        "\n",
        "**María Eugenia Bernaschini**\n",
        "\n",
        "**Juan Cruz Bordón**\n",
        "\n",
        "**Javier Carabajal**\n",
        "\n",
        "----\n",
        "\n",
        "# Trabajo práctico entregable - parte 1\n",
        "\n",
        "En esta notebook, vamos a cargar el conjunto de datos de [la compentencia Kaggle](https://www.kaggle.com/dansbecker/melbourne-housing-snapshot) sobre estimación de precios de ventas de propiedades en Melbourne, Australia.\n",
        "\n",
        "Utilizaremos el conjunto de datos reducido producido por [DanB](https://www.kaggle.com/dansbecker). Hemos subido una copia a un servidor de la Universidad Nacional de Córdoba para facilitar su acceso remoto."
      ],
      "id": "e0ff301b-5595-4a0b-a2b8-3d5609a0485d"
    },
    {
      "cell_type": "code",
      "execution_count": null,
      "metadata": {
        "id": "f5ac98f7-51f3-4f91-ac49-60ef5fe249be"
      },
      "outputs": [],
      "source": [
        "import matplotlib.pyplot as plt\n",
        "import numpy\n",
        "import pandas\n",
        "import plotly\n",
        "import seaborn\n",
        "seaborn.set_context('talk')\n",
        "\n",
        "from sqlalchemy import create_engine, text\n"
      ],
      "id": "f5ac98f7-51f3-4f91-ac49-60ef5fe249be"
    },
    {
      "cell_type": "code",
      "execution_count": null,
      "metadata": {
        "colab": {
          "base_uri": "https://localhost:8080/",
          "height": 306
        },
        "id": "5ba8bfd5-199a-4390-a5b4-11ec9669b3e1",
        "outputId": "4475a763-7e71-4005-df8b-bcfcd9752d06"
      },
      "outputs": [
        {
          "output_type": "execute_result",
          "data": {
            "text/plain": [
              "       Suburb          Address  Rooms Type      Price Method SellerG  \\\n",
              "0  Abbotsford     85 Turner St      2    h  1480000.0      S  Biggin   \n",
              "1  Abbotsford  25 Bloomburg St      2    h  1035000.0      S  Biggin   \n",
              "2  Abbotsford     5 Charles St      3    h  1465000.0     SP  Biggin   \n",
              "\n",
              "        Date  Distance  Postcode  ...  Bathroom  Car  Landsize  BuildingArea  \\\n",
              "0  3/12/2016       2.5    3067.0  ...       1.0  1.0     202.0           NaN   \n",
              "1  4/02/2016       2.5    3067.0  ...       1.0  0.0     156.0          79.0   \n",
              "2  4/03/2017       2.5    3067.0  ...       2.0  0.0     134.0         150.0   \n",
              "\n",
              "   YearBuilt  CouncilArea Lattitude  Longtitude             Regionname  \\\n",
              "0        NaN        Yarra  -37.7996    144.9984  Northern Metropolitan   \n",
              "1     1900.0        Yarra  -37.8079    144.9934  Northern Metropolitan   \n",
              "2     1900.0        Yarra  -37.8093    144.9944  Northern Metropolitan   \n",
              "\n",
              "  Propertycount  \n",
              "0        4019.0  \n",
              "1        4019.0  \n",
              "2        4019.0  \n",
              "\n",
              "[3 rows x 21 columns]"
            ],
            "text/html": [
              "\n",
              "  <div id=\"df-c025f93e-9612-450e-a532-a59b89196d57\">\n",
              "    <div class=\"colab-df-container\">\n",
              "      <div>\n",
              "<style scoped>\n",
              "    .dataframe tbody tr th:only-of-type {\n",
              "        vertical-align: middle;\n",
              "    }\n",
              "\n",
              "    .dataframe tbody tr th {\n",
              "        vertical-align: top;\n",
              "    }\n",
              "\n",
              "    .dataframe thead th {\n",
              "        text-align: right;\n",
              "    }\n",
              "</style>\n",
              "<table border=\"1\" class=\"dataframe\">\n",
              "  <thead>\n",
              "    <tr style=\"text-align: right;\">\n",
              "      <th></th>\n",
              "      <th>Suburb</th>\n",
              "      <th>Address</th>\n",
              "      <th>Rooms</th>\n",
              "      <th>Type</th>\n",
              "      <th>Price</th>\n",
              "      <th>Method</th>\n",
              "      <th>SellerG</th>\n",
              "      <th>Date</th>\n",
              "      <th>Distance</th>\n",
              "      <th>Postcode</th>\n",
              "      <th>...</th>\n",
              "      <th>Bathroom</th>\n",
              "      <th>Car</th>\n",
              "      <th>Landsize</th>\n",
              "      <th>BuildingArea</th>\n",
              "      <th>YearBuilt</th>\n",
              "      <th>CouncilArea</th>\n",
              "      <th>Lattitude</th>\n",
              "      <th>Longtitude</th>\n",
              "      <th>Regionname</th>\n",
              "      <th>Propertycount</th>\n",
              "    </tr>\n",
              "  </thead>\n",
              "  <tbody>\n",
              "    <tr>\n",
              "      <th>0</th>\n",
              "      <td>Abbotsford</td>\n",
              "      <td>85 Turner St</td>\n",
              "      <td>2</td>\n",
              "      <td>h</td>\n",
              "      <td>1480000.0</td>\n",
              "      <td>S</td>\n",
              "      <td>Biggin</td>\n",
              "      <td>3/12/2016</td>\n",
              "      <td>2.5</td>\n",
              "      <td>3067.0</td>\n",
              "      <td>...</td>\n",
              "      <td>1.0</td>\n",
              "      <td>1.0</td>\n",
              "      <td>202.0</td>\n",
              "      <td>NaN</td>\n",
              "      <td>NaN</td>\n",
              "      <td>Yarra</td>\n",
              "      <td>-37.7996</td>\n",
              "      <td>144.9984</td>\n",
              "      <td>Northern Metropolitan</td>\n",
              "      <td>4019.0</td>\n",
              "    </tr>\n",
              "    <tr>\n",
              "      <th>1</th>\n",
              "      <td>Abbotsford</td>\n",
              "      <td>25 Bloomburg St</td>\n",
              "      <td>2</td>\n",
              "      <td>h</td>\n",
              "      <td>1035000.0</td>\n",
              "      <td>S</td>\n",
              "      <td>Biggin</td>\n",
              "      <td>4/02/2016</td>\n",
              "      <td>2.5</td>\n",
              "      <td>3067.0</td>\n",
              "      <td>...</td>\n",
              "      <td>1.0</td>\n",
              "      <td>0.0</td>\n",
              "      <td>156.0</td>\n",
              "      <td>79.0</td>\n",
              "      <td>1900.0</td>\n",
              "      <td>Yarra</td>\n",
              "      <td>-37.8079</td>\n",
              "      <td>144.9934</td>\n",
              "      <td>Northern Metropolitan</td>\n",
              "      <td>4019.0</td>\n",
              "    </tr>\n",
              "    <tr>\n",
              "      <th>2</th>\n",
              "      <td>Abbotsford</td>\n",
              "      <td>5 Charles St</td>\n",
              "      <td>3</td>\n",
              "      <td>h</td>\n",
              "      <td>1465000.0</td>\n",
              "      <td>SP</td>\n",
              "      <td>Biggin</td>\n",
              "      <td>4/03/2017</td>\n",
              "      <td>2.5</td>\n",
              "      <td>3067.0</td>\n",
              "      <td>...</td>\n",
              "      <td>2.0</td>\n",
              "      <td>0.0</td>\n",
              "      <td>134.0</td>\n",
              "      <td>150.0</td>\n",
              "      <td>1900.0</td>\n",
              "      <td>Yarra</td>\n",
              "      <td>-37.8093</td>\n",
              "      <td>144.9944</td>\n",
              "      <td>Northern Metropolitan</td>\n",
              "      <td>4019.0</td>\n",
              "    </tr>\n",
              "  </tbody>\n",
              "</table>\n",
              "<p>3 rows × 21 columns</p>\n",
              "</div>\n",
              "      <button class=\"colab-df-convert\" onclick=\"convertToInteractive('df-c025f93e-9612-450e-a532-a59b89196d57')\"\n",
              "              title=\"Convert this dataframe to an interactive table.\"\n",
              "              style=\"display:none;\">\n",
              "        \n",
              "  <svg xmlns=\"http://www.w3.org/2000/svg\" height=\"24px\"viewBox=\"0 0 24 24\"\n",
              "       width=\"24px\">\n",
              "    <path d=\"M0 0h24v24H0V0z\" fill=\"none\"/>\n",
              "    <path d=\"M18.56 5.44l.94 2.06.94-2.06 2.06-.94-2.06-.94-.94-2.06-.94 2.06-2.06.94zm-11 1L8.5 8.5l.94-2.06 2.06-.94-2.06-.94L8.5 2.5l-.94 2.06-2.06.94zm10 10l.94 2.06.94-2.06 2.06-.94-2.06-.94-.94-2.06-.94 2.06-2.06.94z\"/><path d=\"M17.41 7.96l-1.37-1.37c-.4-.4-.92-.59-1.43-.59-.52 0-1.04.2-1.43.59L10.3 9.45l-7.72 7.72c-.78.78-.78 2.05 0 2.83L4 21.41c.39.39.9.59 1.41.59.51 0 1.02-.2 1.41-.59l7.78-7.78 2.81-2.81c.8-.78.8-2.07 0-2.86zM5.41 20L4 18.59l7.72-7.72 1.47 1.35L5.41 20z\"/>\n",
              "  </svg>\n",
              "      </button>\n",
              "      \n",
              "  <style>\n",
              "    .colab-df-container {\n",
              "      display:flex;\n",
              "      flex-wrap:wrap;\n",
              "      gap: 12px;\n",
              "    }\n",
              "\n",
              "    .colab-df-convert {\n",
              "      background-color: #E8F0FE;\n",
              "      border: none;\n",
              "      border-radius: 50%;\n",
              "      cursor: pointer;\n",
              "      display: none;\n",
              "      fill: #1967D2;\n",
              "      height: 32px;\n",
              "      padding: 0 0 0 0;\n",
              "      width: 32px;\n",
              "    }\n",
              "\n",
              "    .colab-df-convert:hover {\n",
              "      background-color: #E2EBFA;\n",
              "      box-shadow: 0px 1px 2px rgba(60, 64, 67, 0.3), 0px 1px 3px 1px rgba(60, 64, 67, 0.15);\n",
              "      fill: #174EA6;\n",
              "    }\n",
              "\n",
              "    [theme=dark] .colab-df-convert {\n",
              "      background-color: #3B4455;\n",
              "      fill: #D2E3FC;\n",
              "    }\n",
              "\n",
              "    [theme=dark] .colab-df-convert:hover {\n",
              "      background-color: #434B5C;\n",
              "      box-shadow: 0px 1px 3px 1px rgba(0, 0, 0, 0.15);\n",
              "      filter: drop-shadow(0px 1px 2px rgba(0, 0, 0, 0.3));\n",
              "      fill: #FFFFFF;\n",
              "    }\n",
              "  </style>\n",
              "\n",
              "      <script>\n",
              "        const buttonEl =\n",
              "          document.querySelector('#df-c025f93e-9612-450e-a532-a59b89196d57 button.colab-df-convert');\n",
              "        buttonEl.style.display =\n",
              "          google.colab.kernel.accessAllowed ? 'block' : 'none';\n",
              "\n",
              "        async function convertToInteractive(key) {\n",
              "          const element = document.querySelector('#df-c025f93e-9612-450e-a532-a59b89196d57');\n",
              "          const dataTable =\n",
              "            await google.colab.kernel.invokeFunction('convertToInteractive',\n",
              "                                                     [key], {});\n",
              "          if (!dataTable) return;\n",
              "\n",
              "          const docLinkHtml = 'Like what you see? Visit the ' +\n",
              "            '<a target=\"_blank\" href=https://colab.research.google.com/notebooks/data_table.ipynb>data table notebook</a>'\n",
              "            + ' to learn more about interactive tables.';\n",
              "          element.innerHTML = '';\n",
              "          dataTable['output_type'] = 'display_data';\n",
              "          await google.colab.output.renderOutput(dataTable, element);\n",
              "          const docLink = document.createElement('div');\n",
              "          docLink.innerHTML = docLinkHtml;\n",
              "          element.appendChild(docLink);\n",
              "        }\n",
              "      </script>\n",
              "    </div>\n",
              "  </div>\n",
              "  "
            ]
          },
          "metadata": {},
          "execution_count": 2
        }
      ],
      "source": [
        "df_melb = pandas.read_csv('https://cs.famaf.unc.edu.ar/~mteruel/datasets/diplodatos/melb_data.csv')\n",
        "df_melb[:3]"
      ],
      "id": "5ba8bfd5-199a-4390-a5b4-11ec9669b3e1"
    },
    {
      "cell_type": "markdown",
      "metadata": {
        "id": "eoDD4Z0iLmmL"
      },
      "source": [
        "* Verificamos las Columnas que tienen \n",
        "\n",
        "\n",
        "\n"
      ],
      "id": "eoDD4Z0iLmmL"
    },
    {
      "cell_type": "code",
      "execution_count": null,
      "metadata": {
        "colab": {
          "base_uri": "https://localhost:8080/"
        },
        "id": "-E3DR771Lq3x",
        "outputId": "e2834da0-3f6c-4cc1-f3f7-7b0754fff738"
      },
      "outputs": [
        {
          "output_type": "execute_result",
          "data": {
            "text/plain": [
              "['Suburb',\n",
              " 'Address',\n",
              " 'Rooms',\n",
              " 'Type',\n",
              " 'Price',\n",
              " 'Method',\n",
              " 'SellerG',\n",
              " 'Date',\n",
              " 'Distance',\n",
              " 'Postcode',\n",
              " 'Bedroom2',\n",
              " 'Bathroom',\n",
              " 'Car',\n",
              " 'Landsize',\n",
              " 'BuildingArea',\n",
              " 'YearBuilt',\n",
              " 'CouncilArea',\n",
              " 'Lattitude',\n",
              " 'Longtitude',\n",
              " 'Regionname',\n",
              " 'Propertycount']"
            ]
          },
          "metadata": {},
          "execution_count": 3
        }
      ],
      "source": [
        "list(df_melb.columns)\n"
      ],
      "id": "-E3DR771Lq3x"
    },
    {
      "cell_type": "code",
      "execution_count": null,
      "metadata": {
        "colab": {
          "base_uri": "https://localhost:8080/"
        },
        "id": "gOcsvmX_TRSK",
        "outputId": "8f930704-6a55-4dd4-f3ae-a3e6b66ac285"
      },
      "outputs": [
        {
          "output_type": "execute_result",
          "data": {
            "text/plain": [
              "3073.0    359\n",
              "3020.0    306\n",
              "3121.0    292\n",
              "3040.0    290\n",
              "3046.0    284\n",
              "         ... \n",
              "3340.0      1\n",
              "3158.0      1\n",
              "3808.0      1\n",
              "3777.0      1\n",
              "3793.0      1\n",
              "Name: Postcode, Length: 198, dtype: int64"
            ]
          },
          "metadata": {},
          "execution_count": 4
        }
      ],
      "source": [
        "df_melb['Postcode'].value_counts()"
      ],
      "id": "gOcsvmX_TRSK"
    },
    {
      "cell_type": "code",
      "execution_count": null,
      "metadata": {
        "colab": {
          "base_uri": "https://localhost:8080/"
        },
        "id": "5qcIQ0AARogS",
        "outputId": "9334076f-791a-4af5-8351-59723bb43666"
      },
      "outputs": [
        {
          "output_type": "stream",
          "name": "stderr",
          "text": [
            "/usr/local/lib/python3.7/dist-packages/IPython/core/interactiveshell.py:2882: DtypeWarning: Columns (35) have mixed types.Specify dtype option on import or set low_memory=False.\n",
            "  exec(code_obj, self.user_global_ns, self.user_ns)\n"
          ]
        }
      ],
      "source": [
        "interesting_cols = [\n",
        "  'description', 'neighborhood_overview',\n",
        "  'street', 'neighborhood', 'city', 'suburb', 'state', 'zipcode',\n",
        "  'price', 'weekly_price', 'monthly_price',\n",
        "  'latitude', 'longitude',\n",
        "]\n",
        "df_airbnb = pandas.read_csv('https://cs.famaf.unc.edu.ar/~mteruel/datasets/diplodatos/cleansed_listings_dec18.csv',usecols=interesting_cols)"
      ],
      "id": "5qcIQ0AARogS"
    },
    {
      "cell_type": "code",
      "execution_count": null,
      "metadata": {
        "colab": {
          "base_uri": "https://localhost:8080/"
        },
        "id": "66Syc6T2R3Gr",
        "outputId": "d618a127-dc43-48f0-b491-52eba127485b"
      },
      "outputs": [
        {
          "output_type": "execute_result",
          "data": {
            "text/plain": [
              "['description',\n",
              " 'neighborhood_overview',\n",
              " 'street',\n",
              " 'neighborhood',\n",
              " 'city',\n",
              " 'suburb',\n",
              " 'state',\n",
              " 'zipcode',\n",
              " 'latitude',\n",
              " 'longitude',\n",
              " 'price',\n",
              " 'weekly_price',\n",
              " 'monthly_price']"
            ]
          },
          "metadata": {},
          "execution_count": 6
        }
      ],
      "source": [
        "list(df_airbnb.columns)"
      ],
      "id": "66Syc6T2R3Gr"
    },
    {
      "cell_type": "code",
      "execution_count": null,
      "metadata": {
        "colab": {
          "base_uri": "https://localhost:8080/"
        },
        "id": "yVUeLgzFS6TM",
        "outputId": "c02b02c6-41e3-4a80-cf1c-6940e606f4cf"
      },
      "outputs": [
        {
          "output_type": "execute_result",
          "data": {
            "text/plain": [
              "3000.0        2491\n",
              "3000           876\n",
              "3006.0         860\n",
              "3182.0         579\n",
              "3182           556\n",
              "              ... \n",
              "3096             1\n",
              "3812             1\n",
              "3000\\n3000       1\n",
              "3752             1\n",
              "4068.0           1\n",
              "Name: zipcode, Length: 463, dtype: int64"
            ]
          },
          "metadata": {},
          "execution_count": 7
        }
      ],
      "source": [
        "df_airbnb['zipcode'].value_counts()"
      ],
      "id": "yVUeLgzFS6TM"
    },
    {
      "cell_type": "markdown",
      "metadata": {
        "id": "O6T1G5GFUE8o"
      },
      "source": [
        "* Hacemos que todos los valores sean del mismo tipo"
      ],
      "id": "O6T1G5GFUE8o"
    },
    {
      "cell_type": "code",
      "execution_count": null,
      "metadata": {
        "id": "EsQfImCAT7Bo"
      },
      "outputs": [],
      "source": [
        "df_airbnb['zipcode'] = pandas.to_numeric(df_airbnb.zipcode, errors='coerce')"
      ],
      "id": "EsQfImCAT7Bo"
    },
    {
      "cell_type": "code",
      "execution_count": null,
      "metadata": {
        "colab": {
          "base_uri": "https://localhost:8080/"
        },
        "id": "8sP5PsrQUDsG",
        "outputId": "75f3f9cf-1724-457a-8a73-eaa9c93439da"
      },
      "outputs": [
        {
          "output_type": "execute_result",
          "data": {
            "text/plain": [
              "3000.0     3367\n",
              "3006.0     1268\n",
              "3182.0     1135\n",
              "3141.0      881\n",
              "3004.0      728\n",
              "           ... \n",
              "3785.0        1\n",
              "3096.0        1\n",
              "30122.0       1\n",
              "3912.0        1\n",
              "4068.0        1\n",
              "Name: zipcode, Length: 247, dtype: int64"
            ]
          },
          "metadata": {},
          "execution_count": 9
        }
      ],
      "source": [
        "df_airbnb['zipcode'].value_counts()"
      ],
      "id": "8sP5PsrQUDsG"
    },
    {
      "cell_type": "markdown",
      "metadata": {
        "id": "jvVbBS5Si7Hp"
      },
      "source": [
        "* Descargamos el csv normalizado y luego lo volvemos a levantar para pasarlo a tabla"
      ],
      "id": "jvVbBS5Si7Hp"
    },
    {
      "cell_type": "code",
      "source": [
        "df_airbnb.to_csv(\"df_airbnb_NormalizadoZipCod.csv\", index=None)"
      ],
      "metadata": {
        "id": "PaY0UxWK2X9e"
      },
      "id": "PaY0UxWK2X9e",
      "execution_count": null,
      "outputs": []
    },
    {
      "cell_type": "code",
      "execution_count": null,
      "metadata": {
        "id": "lwg0OV-XWFpk"
      },
      "outputs": [],
      "source": [
        "from google.colab import files\n",
        "files.download(\"df_airbnb_NormalizadoZipCod.csv\")"
      ],
      "id": "lwg0OV-XWFpk"
    },
    {
      "cell_type": "code",
      "execution_count": null,
      "metadata": {
        "colab": {
          "base_uri": "https://localhost:8080/",
          "height": 349,
          "resources": {
            "http://localhost:8080/nbextensions/google.colab/files.js": {
              "data": "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",
              "ok": true,
              "headers": [
                [
                  "content-type",
                  "application/javascript"
                ]
              ],
              "status": 200,
              "status_text": ""
            }
          }
        },
        "id": "3FxdoHSrWF0o",
        "outputId": "d0909355-8dce-4d2c-9c5e-3b1a43cc5bb7"
      },
      "outputs": [
        {
          "output_type": "display_data",
          "data": {
            "text/plain": [
              "<IPython.core.display.HTML object>"
            ],
            "text/html": [
              "\n",
              "     <input type=\"file\" id=\"files-a35f6565-3f47-43ae-bb38-99105ae66008\" name=\"files[]\" multiple disabled\n",
              "        style=\"border:none\" />\n",
              "     <output id=\"result-a35f6565-3f47-43ae-bb38-99105ae66008\">\n",
              "      Upload widget is only available when the cell has been executed in the\n",
              "      current browser session. Please rerun this cell to enable.\n",
              "      </output>\n",
              "      <script src=\"/nbextensions/google.colab/files.js\"></script> "
            ]
          },
          "metadata": {}
        },
        {
          "output_type": "error",
          "ename": "KeyboardInterrupt",
          "evalue": "ignored",
          "traceback": [
            "\u001b[0;31m---------------------------------------------------------------------------\u001b[0m",
            "\u001b[0;31mKeyboardInterrupt\u001b[0m                         Traceback (most recent call last)",
            "\u001b[0;32m<ipython-input-12-5c2e8a8d365b>\u001b[0m in \u001b[0;36m<module>\u001b[0;34m()\u001b[0m\n\u001b[1;32m      1\u001b[0m \u001b[0;32mfrom\u001b[0m \u001b[0mgoogle\u001b[0m\u001b[0;34m.\u001b[0m\u001b[0mcolab\u001b[0m \u001b[0;32mimport\u001b[0m \u001b[0mfiles\u001b[0m\u001b[0;34m\u001b[0m\u001b[0;34m\u001b[0m\u001b[0m\n\u001b[0;32m----> 2\u001b[0;31m \u001b[0mfiles\u001b[0m\u001b[0;34m.\u001b[0m\u001b[0mupload\u001b[0m\u001b[0;34m(\u001b[0m\u001b[0;34m)\u001b[0m\u001b[0;34m\u001b[0m\u001b[0;34m\u001b[0m\u001b[0m\n\u001b[0m",
            "\u001b[0;32m/usr/local/lib/python3.7/dist-packages/google/colab/files.py\u001b[0m in \u001b[0;36mupload\u001b[0;34m()\u001b[0m\n\u001b[1;32m     44\u001b[0m   \"\"\"\n\u001b[1;32m     45\u001b[0m \u001b[0;34m\u001b[0m\u001b[0m\n\u001b[0;32m---> 46\u001b[0;31m   \u001b[0muploaded_files\u001b[0m \u001b[0;34m=\u001b[0m \u001b[0m_upload_files\u001b[0m\u001b[0;34m(\u001b[0m\u001b[0mmultiple\u001b[0m\u001b[0;34m=\u001b[0m\u001b[0;32mTrue\u001b[0m\u001b[0;34m)\u001b[0m\u001b[0;34m\u001b[0m\u001b[0;34m\u001b[0m\u001b[0m\n\u001b[0m\u001b[1;32m     47\u001b[0m   \u001b[0;31m# Mapping from original filename to filename as saved locally.\u001b[0m\u001b[0;34m\u001b[0m\u001b[0;34m\u001b[0m\u001b[0;34m\u001b[0m\u001b[0m\n\u001b[1;32m     48\u001b[0m   \u001b[0mlocal_filenames\u001b[0m \u001b[0;34m=\u001b[0m \u001b[0mdict\u001b[0m\u001b[0;34m(\u001b[0m\u001b[0;34m)\u001b[0m\u001b[0;34m\u001b[0m\u001b[0;34m\u001b[0m\u001b[0m\n",
            "\u001b[0;32m/usr/local/lib/python3.7/dist-packages/google/colab/files.py\u001b[0m in \u001b[0;36m_upload_files\u001b[0;34m(multiple)\u001b[0m\n\u001b[1;32m    121\u001b[0m   result = _output.eval_js(\n\u001b[1;32m    122\u001b[0m       'google.colab._files._uploadFiles(\"{input_id}\", \"{output_id}\")'.format(\n\u001b[0;32m--> 123\u001b[0;31m           input_id=input_id, output_id=output_id))\n\u001b[0m\u001b[1;32m    124\u001b[0m   \u001b[0mfiles\u001b[0m \u001b[0;34m=\u001b[0m \u001b[0m_collections\u001b[0m\u001b[0;34m.\u001b[0m\u001b[0mdefaultdict\u001b[0m\u001b[0;34m(\u001b[0m\u001b[0m_six\u001b[0m\u001b[0;34m.\u001b[0m\u001b[0mbinary_type\u001b[0m\u001b[0;34m)\u001b[0m\u001b[0;34m\u001b[0m\u001b[0;34m\u001b[0m\u001b[0m\n\u001b[1;32m    125\u001b[0m \u001b[0;34m\u001b[0m\u001b[0m\n",
            "\u001b[0;32m/usr/local/lib/python3.7/dist-packages/google/colab/output/_js.py\u001b[0m in \u001b[0;36meval_js\u001b[0;34m(script, ignore_result, timeout_sec)\u001b[0m\n\u001b[1;32m     38\u001b[0m   \u001b[0;32mif\u001b[0m \u001b[0mignore_result\u001b[0m\u001b[0;34m:\u001b[0m\u001b[0;34m\u001b[0m\u001b[0;34m\u001b[0m\u001b[0m\n\u001b[1;32m     39\u001b[0m     \u001b[0;32mreturn\u001b[0m\u001b[0;34m\u001b[0m\u001b[0;34m\u001b[0m\u001b[0m\n\u001b[0;32m---> 40\u001b[0;31m   \u001b[0;32mreturn\u001b[0m \u001b[0m_message\u001b[0m\u001b[0;34m.\u001b[0m\u001b[0mread_reply_from_input\u001b[0m\u001b[0;34m(\u001b[0m\u001b[0mrequest_id\u001b[0m\u001b[0;34m,\u001b[0m \u001b[0mtimeout_sec\u001b[0m\u001b[0;34m)\u001b[0m\u001b[0;34m\u001b[0m\u001b[0;34m\u001b[0m\u001b[0m\n\u001b[0m\u001b[1;32m     41\u001b[0m \u001b[0;34m\u001b[0m\u001b[0m\n\u001b[1;32m     42\u001b[0m \u001b[0;34m\u001b[0m\u001b[0m\n",
            "\u001b[0;32m/usr/local/lib/python3.7/dist-packages/google/colab/_message.py\u001b[0m in \u001b[0;36mread_reply_from_input\u001b[0;34m(message_id, timeout_sec)\u001b[0m\n\u001b[1;32m     99\u001b[0m     \u001b[0mreply\u001b[0m \u001b[0;34m=\u001b[0m \u001b[0m_read_next_input_message\u001b[0m\u001b[0;34m(\u001b[0m\u001b[0;34m)\u001b[0m\u001b[0;34m\u001b[0m\u001b[0;34m\u001b[0m\u001b[0m\n\u001b[1;32m    100\u001b[0m     \u001b[0;32mif\u001b[0m \u001b[0mreply\u001b[0m \u001b[0;34m==\u001b[0m \u001b[0m_NOT_READY\u001b[0m \u001b[0;32mor\u001b[0m \u001b[0;32mnot\u001b[0m \u001b[0misinstance\u001b[0m\u001b[0;34m(\u001b[0m\u001b[0mreply\u001b[0m\u001b[0;34m,\u001b[0m \u001b[0mdict\u001b[0m\u001b[0;34m)\u001b[0m\u001b[0;34m:\u001b[0m\u001b[0;34m\u001b[0m\u001b[0;34m\u001b[0m\u001b[0m\n\u001b[0;32m--> 101\u001b[0;31m       \u001b[0mtime\u001b[0m\u001b[0;34m.\u001b[0m\u001b[0msleep\u001b[0m\u001b[0;34m(\u001b[0m\u001b[0;36m0.025\u001b[0m\u001b[0;34m)\u001b[0m\u001b[0;34m\u001b[0m\u001b[0;34m\u001b[0m\u001b[0m\n\u001b[0m\u001b[1;32m    102\u001b[0m       \u001b[0;32mcontinue\u001b[0m\u001b[0;34m\u001b[0m\u001b[0;34m\u001b[0m\u001b[0m\n\u001b[1;32m    103\u001b[0m     if (reply.get('type') == 'colab_reply' and\n",
            "\u001b[0;31mKeyboardInterrupt\u001b[0m: "
          ]
        }
      ],
      "source": [
        "from google.colab import files\n",
        "files.upload()"
      ],
      "id": "3FxdoHSrWF0o"
    },
    {
      "cell_type": "code",
      "execution_count": null,
      "metadata": {
        "id": "Z5Ip0FLbl1Vi"
      },
      "outputs": [],
      "source": [
        "# df_n_airbnb = pandas.read_csv('df_airbnb_NormalizadoZipCod.csv')\n",
        "df_n_airbnb = df_airbnb\n"
      ],
      "id": "Z5Ip0FLbl1Vi"
    },
    {
      "cell_type": "code",
      "execution_count": null,
      "metadata": {
        "id": "MnBe75WimMlw",
        "colab": {
          "base_uri": "https://localhost:8080/"
        },
        "outputId": "9197c6f6-faf6-49a0-d696-ecd9ea301290"
      },
      "outputs": [
        {
          "output_type": "execute_result",
          "data": {
            "text/plain": [
              "['description',\n",
              " 'neighborhood_overview',\n",
              " 'street',\n",
              " 'neighborhood',\n",
              " 'city',\n",
              " 'suburb',\n",
              " 'state',\n",
              " 'zipcode',\n",
              " 'latitude',\n",
              " 'longitude',\n",
              " 'price',\n",
              " 'weekly_price',\n",
              " 'monthly_price']"
            ]
          },
          "metadata": {},
          "execution_count": 15
        }
      ],
      "source": [
        "list(df_n_airbnb.columns)"
      ],
      "id": "MnBe75WimMlw"
    },
    {
      "cell_type": "code",
      "execution_count": null,
      "metadata": {
        "id": "Act58ObImO5y",
        "colab": {
          "base_uri": "https://localhost:8080/"
        },
        "outputId": "de89ced8-a797-4ab3-894e-2b47e1824c87"
      },
      "outputs": [
        {
          "output_type": "execute_result",
          "data": {
            "text/plain": [
              "3000.0     3367\n",
              "3006.0     1268\n",
              "3182.0     1135\n",
              "3141.0      881\n",
              "3004.0      728\n",
              "           ... \n",
              "3785.0        1\n",
              "3096.0        1\n",
              "30122.0       1\n",
              "3912.0        1\n",
              "4068.0        1\n",
              "Name: zipcode, Length: 247, dtype: int64"
            ]
          },
          "metadata": {},
          "execution_count": 16
        }
      ],
      "source": [
        "df_n_airbnb['zipcode'].value_counts()"
      ],
      "id": "Act58ObImO5y"
    },
    {
      "cell_type": "markdown",
      "metadata": {
        "id": "6cffe5bf-2498-498c-aa06-3e61422d91e6"
      },
      "source": [
        "## Ejercicio 1 SQL: \n",
        "\n",
        "1. Crear una base de datos en SQLite utilizando la libreria [SQLalchemy](https://stackoverflow.com/questions/2268050/execute-sql-from-file-in-sqlalchemy).\n",
        "https://docs.sqlalchemy.org/en/14/core/engines.html#sqlite\n",
        "\n",
        "2. Ingestar los datos provistos en 'https://cs.famaf.unc.edu.ar/~mteruel/datasets/diplodatos/melb_data.csv' en una tabla y el dataset generado en clase con datos de airbnb y sus precios por codigo postal en otra.\n",
        "\n",
        "3. Implementar consultas en SQL que respondan con la siguiente información:\n",
        "\n",
        "    - cantidad de registros totales por ciudad.\n",
        "    - cantidad de registros totales por barrio y ciudad.\n",
        "\n",
        "4. Combinar los datasets de ambas tablas ingestadas utilizando el comando JOIN de SQL  para obtener un resultado similar a lo realizado con Pandas en clase.  \n",
        "\n"
      ],
      "id": "6cffe5bf-2498-498c-aa06-3e61422d91e6"
    },
    {
      "cell_type": "code",
      "execution_count": null,
      "metadata": {
        "id": "KMEIws1KOQt1"
      },
      "outputs": [],
      "source": [
        "engine = create_engine('sqlite:///Grupo_27.sqlite3', echo=True)"
      ],
      "id": "KMEIws1KOQt1"
    },
    {
      "cell_type": "code",
      "execution_count": null,
      "metadata": {
        "id": "Yhnqmtf_OQwv",
        "colab": {
          "base_uri": "https://localhost:8080/"
        },
        "outputId": "37feee3f-980f-4ed1-ef72-79bb15206c3b"
      },
      "outputs": [
        {
          "output_type": "stream",
          "name": "stdout",
          "text": [
            "2022-05-18 17:55:02,597 INFO sqlalchemy.engine.Engine PRAGMA main.table_info(\"tabla_melb_data\")\n",
            "2022-05-18 17:55:02,598 INFO sqlalchemy.engine.Engine [raw sql] ()\n",
            "2022-05-18 17:55:02,600 INFO sqlalchemy.engine.Engine PRAGMA temp.table_info(\"tabla_melb_data\")\n",
            "2022-05-18 17:55:02,602 INFO sqlalchemy.engine.Engine [raw sql] ()\n",
            "2022-05-18 17:55:02,614 INFO sqlalchemy.engine.Engine BEGIN (implicit)\n",
            "2022-05-18 17:55:02,617 INFO sqlalchemy.engine.Engine \n",
            "CREATE TABLE tabla_melb_data (\n",
            "\t\"index\" BIGINT, \n",
            "\t\"Suburb\" TEXT, \n",
            "\t\"Address\" TEXT, \n",
            "\t\"Rooms\" BIGINT, \n",
            "\t\"Type\" TEXT, \n",
            "\t\"Price\" FLOAT, \n",
            "\t\"Method\" TEXT, \n",
            "\t\"SellerG\" TEXT, \n",
            "\t\"Date\" TEXT, \n",
            "\t\"Distance\" FLOAT, \n",
            "\t\"Postcode\" FLOAT, \n",
            "\t\"Bedroom2\" FLOAT, \n",
            "\t\"Bathroom\" FLOAT, \n",
            "\t\"Car\" FLOAT, \n",
            "\t\"Landsize\" FLOAT, \n",
            "\t\"BuildingArea\" FLOAT, \n",
            "\t\"YearBuilt\" FLOAT, \n",
            "\t\"CouncilArea\" TEXT, \n",
            "\t\"Lattitude\" FLOAT, \n",
            "\t\"Longtitude\" FLOAT, \n",
            "\t\"Regionname\" TEXT, \n",
            "\t\"Propertycount\" FLOAT\n",
            ")\n",
            "\n",
            "\n",
            "2022-05-18 17:55:02,619 INFO sqlalchemy.engine.Engine [no key 0.00265s] ()\n",
            "2022-05-18 17:55:02,633 INFO sqlalchemy.engine.Engine CREATE INDEX ix_tabla_melb_data_index ON tabla_melb_data (\"index\")\n",
            "2022-05-18 17:55:02,634 INFO sqlalchemy.engine.Engine [no key 0.00188s] ()\n",
            "2022-05-18 17:55:02,648 INFO sqlalchemy.engine.Engine COMMIT\n",
            "2022-05-18 17:55:02,674 INFO sqlalchemy.engine.Engine BEGIN (implicit)\n",
            "2022-05-18 17:55:03,136 INFO sqlalchemy.engine.Engine INSERT INTO tabla_melb_data (\"index\", \"Suburb\", \"Address\", \"Rooms\", \"Type\", \"Price\", \"Method\", \"SellerG\", \"Date\", \"Distance\", \"Postcode\", \"Bedroom2\", \"Bathroom\", \"Car\", \"Landsize\", \"BuildingArea\", \"YearBuilt\", \"CouncilArea\", \"Lattitude\", \"Longtitude\", \"Regionname\", \"Propertycount\") VALUES (?, ?, ?, ?, ?, ?, ?, ?, ?, ?, ?, ?, ?, ?, ?, ?, ?, ?, ?, ?, ?, ?)\n",
            "2022-05-18 17:55:03,138 INFO sqlalchemy.engine.Engine [generated in 0.42567s] ((0, 'Abbotsford', '85 Turner St', 2, 'h', 1480000.0, 'S', 'Biggin', '3/12/2016', 2.5, 3067.0, 2.0, 1.0, 1.0, 202.0, None, None, 'Yarra', -37.7996, 144.9984, 'Northern Metropolitan', 4019.0), (1, 'Abbotsford', '25 Bloomburg St', 2, 'h', 1035000.0, 'S', 'Biggin', '4/02/2016', 2.5, 3067.0, 2.0, 1.0, 0.0, 156.0, 79.0, 1900.0, 'Yarra', -37.8079, 144.9934, 'Northern Metropolitan', 4019.0), (2, 'Abbotsford', '5 Charles St', 3, 'h', 1465000.0, 'SP', 'Biggin', '4/03/2017', 2.5, 3067.0, 3.0, 2.0, 0.0, 134.0, 150.0, 1900.0, 'Yarra', -37.8093, 144.9944, 'Northern Metropolitan', 4019.0), (3, 'Abbotsford', '40 Federation La', 3, 'h', 850000.0, 'PI', 'Biggin', '4/03/2017', 2.5, 3067.0, 3.0, 2.0, 1.0, 94.0, None, None, 'Yarra', -37.7969, 144.9969, 'Northern Metropolitan', 4019.0), (4, 'Abbotsford', '55a Park St', 4, 'h', 1600000.0, 'VB', 'Nelson', '4/06/2016', 2.5, 3067.0, 3.0, 1.0, 2.0, 120.0, 142.0, 2014.0, 'Yarra', -37.8072, 144.9941, 'Northern Metropolitan', 4019.0), (5, 'Abbotsford', '129 Charles St', 2, 'h', 941000.0, 'S', 'Jellis', '7/05/2016', 2.5, 3067.0, 2.0, 1.0, 0.0, 181.0, None, None, 'Yarra', -37.8041, 144.9953, 'Northern Metropolitan', 4019.0), (6, 'Abbotsford', '124 Yarra St', 3, 'h', 1876000.0, 'S', 'Nelson', '7/05/2016', 2.5, 3067.0, 4.0, 2.0, 0.0, 245.0, 210.0, 1910.0, 'Yarra', -37.8024, 144.9993, 'Northern Metropolitan', 4019.0), (7, 'Abbotsford', '98 Charles St', 2, 'h', 1636000.0, 'S', 'Nelson', '8/10/2016', 2.5, 3067.0, 2.0, 1.0, 2.0, 256.0, 107.0, 1890.0, 'Yarra', -37.806, 144.9954, 'Northern Metropolitan', 4019.0)  ... displaying 10 of 13580 total bound parameter sets ...  (13578, 'Williamstown', '96 Verdon St', 4, 'h', 2500000.0, 'PI', 'Sweeney', '26/08/2017', 6.8, 3016.0, 4.0, 1.0, 5.0, 866.0, 157.0, 1920.0, None, -37.85908, 144.89299, 'Western Metropolitan', 6380.0), (13579, 'Yarraville', '6 Agnes St', 4, 'h', 1285000.0, 'SP', 'Village', '26/08/2017', 6.3, 3013.0, 4.0, 1.0, 1.0, 362.0, 112.0, 1920.0, None, -37.81188, 144.88449, 'Western Metropolitan', 6543.0))\n",
            "2022-05-18 17:55:03,242 INFO sqlalchemy.engine.Engine COMMIT\n"
          ]
        }
      ],
      "source": [
        "df_melb.to_sql('tabla_melb_data', con=engine, if_exists=\"replace\")"
      ],
      "id": "Yhnqmtf_OQwv"
    },
    {
      "cell_type": "code",
      "execution_count": null,
      "metadata": {
        "id": "-5Y8OPQ5PHrH"
      },
      "outputs": [],
      "source": [
        "q1=\"SELECT *  FROM tabla_melb_data LIMIT 10 \""
      ],
      "id": "-5Y8OPQ5PHrH"
    },
    {
      "cell_type": "code",
      "execution_count": null,
      "metadata": {
        "id": "9V_P3q7kOQzn",
        "colab": {
          "base_uri": "https://localhost:8080/"
        },
        "outputId": "64191745-de42-414a-e209-b04e079c6923"
      },
      "outputs": [
        {
          "output_type": "stream",
          "name": "stdout",
          "text": [
            "2022-05-18 17:55:03,312 INFO sqlalchemy.engine.Engine SELECT *  FROM tabla_melb_data LIMIT 10 \n",
            "2022-05-18 17:55:03,318 INFO sqlalchemy.engine.Engine [raw sql] ()\n",
            "(0, 'Abbotsford', '85 Turner St', 2, 'h', 1480000.0, 'S', 'Biggin', '3/12/2016', 2.5, 3067.0, 2.0, 1.0, 1.0, 202.0, None, None, 'Yarra', -37.7996, 144.9984, 'Northern Metropolitan', 4019.0)\n",
            "(1, 'Abbotsford', '25 Bloomburg St', 2, 'h', 1035000.0, 'S', 'Biggin', '4/02/2016', 2.5, 3067.0, 2.0, 1.0, 0.0, 156.0, 79.0, 1900.0, 'Yarra', -37.8079, 144.9934, 'Northern Metropolitan', 4019.0)\n",
            "(2, 'Abbotsford', '5 Charles St', 3, 'h', 1465000.0, 'SP', 'Biggin', '4/03/2017', 2.5, 3067.0, 3.0, 2.0, 0.0, 134.0, 150.0, 1900.0, 'Yarra', -37.8093, 144.9944, 'Northern Metropolitan', 4019.0)\n",
            "(3, 'Abbotsford', '40 Federation La', 3, 'h', 850000.0, 'PI', 'Biggin', '4/03/2017', 2.5, 3067.0, 3.0, 2.0, 1.0, 94.0, None, None, 'Yarra', -37.7969, 144.9969, 'Northern Metropolitan', 4019.0)\n",
            "(4, 'Abbotsford', '55a Park St', 4, 'h', 1600000.0, 'VB', 'Nelson', '4/06/2016', 2.5, 3067.0, 3.0, 1.0, 2.0, 120.0, 142.0, 2014.0, 'Yarra', -37.8072, 144.9941, 'Northern Metropolitan', 4019.0)\n",
            "(5, 'Abbotsford', '129 Charles St', 2, 'h', 941000.0, 'S', 'Jellis', '7/05/2016', 2.5, 3067.0, 2.0, 1.0, 0.0, 181.0, None, None, 'Yarra', -37.8041, 144.9953, 'Northern Metropolitan', 4019.0)\n",
            "(6, 'Abbotsford', '124 Yarra St', 3, 'h', 1876000.0, 'S', 'Nelson', '7/05/2016', 2.5, 3067.0, 4.0, 2.0, 0.0, 245.0, 210.0, 1910.0, 'Yarra', -37.8024, 144.9993, 'Northern Metropolitan', 4019.0)\n",
            "(7, 'Abbotsford', '98 Charles St', 2, 'h', 1636000.0, 'S', 'Nelson', '8/10/2016', 2.5, 3067.0, 2.0, 1.0, 2.0, 256.0, 107.0, 1890.0, 'Yarra', -37.806, 144.9954, 'Northern Metropolitan', 4019.0)\n",
            "(8, 'Abbotsford', '6/241 Nicholson St', 1, 'u', 300000.0, 'S', 'Biggin', '8/10/2016', 2.5, 3067.0, 1.0, 1.0, 1.0, 0.0, None, None, 'Yarra', -37.8008, 144.9973, 'Northern Metropolitan', 4019.0)\n",
            "(9, 'Abbotsford', '10 Valiant St', 2, 'h', 1097000.0, 'S', 'Biggin', '8/10/2016', 2.5, 3067.0, 3.0, 1.0, 2.0, 220.0, 75.0, 1900.0, 'Yarra', -37.801, 144.9989, 'Northern Metropolitan', 4019.0)\n"
          ]
        }
      ],
      "source": [
        "with engine.connect() as con:\n",
        "    #for query in q1:\n",
        "      rs = con.execute(q1)\n",
        "      for row in rs:\n",
        "          print(row)\n",
        "\n",
        "    "
      ],
      "id": "9V_P3q7kOQzn"
    },
    {
      "cell_type": "markdown",
      "metadata": {
        "id": "x4-rHYUl6883"
      },
      "source": [
        "* Creamos la tabla de airbnb con los ZipCod normalizados"
      ],
      "id": "x4-rHYUl6883"
    },
    {
      "cell_type": "code",
      "execution_count": null,
      "metadata": {
        "id": "23HyZTBF6srh",
        "colab": {
          "base_uri": "https://localhost:8080/"
        },
        "outputId": "4c4d4c11-a93a-4526-d96c-6252bec8e9da"
      },
      "outputs": [
        {
          "output_type": "stream",
          "name": "stdout",
          "text": [
            "2022-05-18 17:55:03,363 INFO sqlalchemy.engine.Engine PRAGMA main.table_info(\"tabla_df_n_airbnb\")\n",
            "2022-05-18 17:55:03,364 INFO sqlalchemy.engine.Engine [raw sql] ()\n",
            "2022-05-18 17:55:03,371 INFO sqlalchemy.engine.Engine PRAGMA temp.table_info(\"tabla_df_n_airbnb\")\n",
            "2022-05-18 17:55:03,375 INFO sqlalchemy.engine.Engine [raw sql] ()\n",
            "2022-05-18 17:55:03,380 INFO sqlalchemy.engine.Engine BEGIN (implicit)\n",
            "2022-05-18 17:55:03,382 INFO sqlalchemy.engine.Engine \n",
            "CREATE TABLE tabla_df_n_airbnb (\n",
            "\t\"index\" BIGINT, \n",
            "\tdescription TEXT, \n",
            "\tneighborhood_overview TEXT, \n",
            "\tstreet TEXT, \n",
            "\tneighborhood TEXT, \n",
            "\tcity TEXT, \n",
            "\tsuburb TEXT, \n",
            "\tstate TEXT, \n",
            "\tzipcode FLOAT, \n",
            "\tlatitude FLOAT, \n",
            "\tlongitude FLOAT, \n",
            "\tprice BIGINT, \n",
            "\tweekly_price FLOAT, \n",
            "\tmonthly_price FLOAT\n",
            ")\n",
            "\n",
            "\n",
            "2022-05-18 17:55:03,387 INFO sqlalchemy.engine.Engine [no key 0.00445s] ()\n",
            "2022-05-18 17:55:03,402 INFO sqlalchemy.engine.Engine CREATE INDEX ix_tabla_df_n_airbnb_index ON tabla_df_n_airbnb (\"index\")\n",
            "2022-05-18 17:55:03,403 INFO sqlalchemy.engine.Engine [no key 0.00187s] ()\n",
            "2022-05-18 17:55:03,419 INFO sqlalchemy.engine.Engine COMMIT\n",
            "2022-05-18 17:55:03,449 INFO sqlalchemy.engine.Engine BEGIN (implicit)\n",
            "2022-05-18 17:55:04,069 INFO sqlalchemy.engine.Engine INSERT INTO tabla_df_n_airbnb (\"index\", description, neighborhood_overview, street, neighborhood, city, suburb, state, zipcode, latitude, longitude, price, weekly_price, monthly_price) VALUES (?, ?, ?, ?, ?, ?, ?, ?, ?, ?, ?, ?, ?, ?)\n",
            "2022-05-18 17:55:04,072 INFO sqlalchemy.engine.Engine [generated in 0.57183s] ((0, 'House: Clean, New, Modern, Quite, Safe. 10Km from the City. Golf course, Tennis courts, bus stop & shops walking distance!! Rooms: Contains one queen ... (702 characters truncated) ... pproximately what your daily in and out hours might look like.  Note: There is a 5 year old fun loving dog who lives with us and is part of our famil', 'Very safe! Family oriented. Older age group.', 'Bulleen, VIC, Australia', 'Balwyn North', 'Manningham', 'Bulleen', 'VIC', 3105.0, -37.77268393, 145.0921328, 60, None, None), (1, \"A large air conditioned room with queen spring mattress bed in a vintage apartment. Located right outside is a tram to the city just 19 minutes away. ... (702 characters truncated) ... ou east to Bundoora and west to Pacoevale. The Lygon Street tram line that goes past Melbourne University is 10 minutes walk west and Sydney Road and\", \"This hip area is a crossroads between two great cultural strips of inner Northern Melbourne.  Located in East Brunswick, between High St, Northcote a ... (533 characters truncated) ... re three coffee places within 50metres, and the Lomond Hotel Pub right across the road has good live music and there's also a pizza place downstairs.\", 'Brunswick East, VIC, Australia', 'Brunswick', 'Moreland', 'Brunswick East', 'VIC', 3057.0, -37.76650512, 144.9807361, 35, 200.0, 803.0), (2, 'RIGHT IN THE HEART OF ST KILDA! It doesn\\'t get more central than this! A fabulous north facing balcony apartment that offers right in the heart of t ... (703 characters truncated) ... system with iPod dock & DVD/CD player Selection of books, magazines, DVDs, CDs Glass framed console/desk with lamp Bedroom with queen bed, hotel qual', 'A stay at our apartment means you can enjoy some of Melbourne’s best restaurants, bars, cafes, shopping, dining and night life, all at your doorstep. ... (288 characters truncated) ... ith the city skyline as a stunning backdrop. Our apartment is perfectly suited to those wanting an exclusive, authentic urban residential experience.', 'St Kilda, VIC, Australia', 'St Kilda', 'Port Phillip', 'St Kilda', 'VIC', 3182.0, -37.85975502, 144.9773691, 159, 1253.0, 4452.0), (3, \"Comfortable, relaxed house, a home away from  home! This is a shared house, you will be sharing with me, plus the occasional other guest. Rooms are l ... (702 characters truncated) ... om, watch a movie, or TV, or relax in the back yard. Guest's privacy will be respected at all times. If you need information and tips on where to go,\", 'This is a great neighbourhood – it is quiet, yet close to so many things. High Street, Northcote (hip bars, cafes and craft stores) are a 10 minute walk east; Sydney Road (ethnic delights and great food) is 8 minute drive west; city is 30 minutes by tram or train.', 'Thornbury, VIC, Australia', 'Thornbury', 'Darebin', 'Thornbury', 'VIC', 3071.0, -37.75897072, 144.9892279, 50, 250.0, 920.0), (4, 'We offer comfortable accommodation in Inner Melbourne in Clement House, a two storey Victorian built in 1888. Large double bedroom with balcony, priv ... (660 characters truncated) ... n smoking house with an outside courtyard for smokers. The rate for guests that stay for a week are heavily discounted and therefore very attractive.', None, 'St Kilda East, VIC, Australia', 'St Kilda East', 'Port Phillip', 'St Kilda East', 'VIC', 3183.0, -37.8645303, 144.9922379, 69, 400.0, 1900.0), (5, 'Please note: No booking will be accepted with children under the age of 13 years.  Accommodation is non smoking in apartment & on grounds.  All visit ... (702 characters truncated) ... om, toilet & living area with stereo and 32\" LCD TV. A second bedroom (Autumn Room) is available with another Queen size bed for extra travelers if r', 'Our street is quiet & secluded but within walking distance to almost anything you need.', 'Berwick, VIC, Australia', None, 'Casey', 'Berwick', 'VIC', 3806.0, -38.05725414, 145.3393561, 98, 540.0, None), (6, 'Easy to travel from and to the Airport; quiet and safe neighbourhood; a spacious and sunny room; backyard for sun baking; a friendly host who are eas ... (702 characters truncated) ... ovided here for your comfort is in a two bedroom unit with 100sqm backyard(my green garden). This bedroom is airy and bright with big windows. Your r', \"The neighbours are quiet and friendly,  please don't park the car on my driveway because one of our neighbours is doing shifting work as a nurse. There are plenty of space for parking in the guest parking bay and along the street for free.\", 'Reservoir, VIC, Australia', None, 'Darebin', 'Reservoir', 'VIC', 3073.0, -37.69729418, 145.0008156, 50, 335.0, 1400.0), (7, \"Comfortable and spacious room in an apartment close to the heart of Melbourne. High quality bedding and good sound proofing guarantees a good night's ... (702 characters truncated) ... take you right into the CBD, via Lonsdale Street and to Grattan Street, Melbourne University Tram 112 onto Collins Street Jolimont train station (10m\", \"MCG (15min walk) Rod Laver Arena Fitzroy Gardens Smith Street restaurants and bars (10min walk) Melbourne CBD  Parliament House St Vincent's Hospital (12min walk) The Royal Eye and Ear Hospital (11min walk) Keeping active while away: Pool Gym East Melbourne Tennis Club  Fitzroy Gardens\", 'East Melbourne, VIC, Australia', None, 'Melbourne', 'East Melbourne', 'VIC', 3002.0, -37.81026723, 144.98592, 100, None, None)  ... displaying 10 of 22895 total bound parameter sets ...  (22893, \"Immaculately presented and carefully maintained executive courtyard apartment, well spaced floor plan comprises a queen-sized bedroom with large mirr ... (702 characters truncated) ... Melbourne Exhibition and Convention Centres, (The Yarra's) Southbank Promenade (boasting an array of cafes, bars, restaurants and boutiques), The Cro\", \"A plethora of Melbourne highlights are just a few minutes walk away, including Melbourne Exhibition and Convention Centres, (The Yarra's) Southbank P ... (68 characters truncated) ... s), The Crown Casino Complex (offering a further array of dining, shopping and entertainment facilities), Clarendon Street South Melbourne's shopping\", 'Southbank, VIC, Australia', 'Southbank', 'Melbourne', 'Southbank', 'VIC', 3006.0, -37.8277951, 144.9549869, 130, None, None), (22894, \"An ENTIRE apartment unit ALL TO YOURSELF in Melbourne city, only a 5min walk to Melbourne Central and Queen Victoria Markets. Makes this cozy inner-c ... (702 characters truncated) ... s fully equipped and furnished  home is ready to go with: - Air Conditioning & heating  - Wireless internet (Pocket Wi-Fi) BEDROOM  - Queen sized bed\", None, 'Carlton, VIC, Australia', 'Carlton', 'Melbourne', 'Carlton', 'VIC', 3053.0, -37.80518635, 144.9623991, 179, None, None))\n",
            "2022-05-18 17:55:04,330 INFO sqlalchemy.engine.Engine COMMIT\n"
          ]
        }
      ],
      "source": [
        "df_n_airbnb.to_sql('tabla_df_n_airbnb', con=engine, if_exists=\"replace\")"
      ],
      "id": "23HyZTBF6srh"
    },
    {
      "cell_type": "markdown",
      "metadata": {
        "id": "6nfdHVzA-UHc"
      },
      "source": [
        "# -**Cantidad de registros totales por ciudad.**\n",
        "\n",
        "\n"
      ],
      "id": "6nfdHVzA-UHc"
    },
    {
      "cell_type": "code",
      "execution_count": null,
      "metadata": {
        "id": "x41uAQQR7IXG"
      },
      "outputs": [],
      "source": [
        "C1=\"\"\"\n",
        "SELECT \n",
        "  city,\n",
        "  COUNT(A.city)\n",
        "FROM tabla_df_n_airbnb A INNER JOIN tabla_melb_data b \n",
        "  on a.zipcode=b.Postcode \n",
        "GROUP BY city \"\"\""
      ],
      "id": "x41uAQQR7IXG"
    },
    {
      "cell_type": "code",
      "execution_count": null,
      "metadata": {
        "id": "ogQ9oAcA7IaA",
        "colab": {
          "base_uri": "https://localhost:8080/"
        },
        "outputId": "47d0a87d-6a95-41f7-bed3-fb7316ea0f05"
      },
      "outputs": [
        {
          "output_type": "stream",
          "name": "stdout",
          "text": [
            "2022-05-18 17:55:04,465 INFO sqlalchemy.engine.Engine \n",
            "SELECT \n",
            "  city,\n",
            "  COUNT(A.city)\n",
            "FROM tabla_df_n_airbnb A INNER JOIN tabla_melb_data b \n",
            "  on a.zipcode=b.Postcode \n",
            "GROUP BY city \n",
            "2022-05-18 17:55:04,468 INFO sqlalchemy.engine.Engine [raw sql] ()\n",
            " City    Cantidad\n",
            "('Banyule', 25811)\n",
            "('Bayside', 44709)\n",
            "('Boroondara', 100241)\n",
            "('Brimbank', 17517)\n",
            "('Cardinia', 127)\n",
            "('Casey', 1147)\n",
            "('Darebin', 132271)\n",
            "('Frankston', 4842)\n",
            "('Glen Eira', 86747)\n",
            "('Greater Dandenong', 2497)\n",
            "('Hobsons Bay', 26421)\n",
            "('Hume', 6549)\n",
            "('Kingston', 10629)\n",
            "('Knox', 3270)\n",
            "('Manningham', 22708)\n",
            "('Maribyrnong', 84478)\n",
            "('Maroondah', 3520)\n",
            "('Melbourne', 323113)\n",
            "('Melton', 2402)\n",
            "('Monash', 31703)\n",
            "('Moonee Valley', 69999)\n",
            "('Moreland', 181787)\n",
            "('Nillumbik', 1314)\n",
            "('Port Phillip', 317865)\n",
            "('Stonnington', 282675)\n",
            "('Whitehorse', 31562)\n",
            "('Whittlesea', 4814)\n",
            "('Wyndham', 23275)\n",
            "('Yarra', 295074)\n",
            "('Yarra Ranges', 597)\n"
          ]
        }
      ],
      "source": [
        "with engine.connect() as con:\n",
        "    #for query in q1:\n",
        "      rs = con.execute(C1)\n",
        "      print(' City    Cantidad')\n",
        "      for row in rs:\n",
        "          print(row)"
      ],
      "id": "ogQ9oAcA7IaA"
    },
    {
      "cell_type": "markdown",
      "metadata": {
        "id": "Ltfr1W0R-hEM"
      },
      "source": [
        "# -**Cantidad de registros totales por barrio y ciudad**"
      ],
      "id": "Ltfr1W0R-hEM"
    },
    {
      "cell_type": "code",
      "execution_count": null,
      "metadata": {
        "id": "fsnZIeh9-nN6"
      },
      "outputs": [],
      "source": [
        "# Unimos las tablas con el inner join\n",
        "C2=\"\"\"\n",
        "SELECT\n",
        "  neighborhood,\n",
        "  city,\n",
        "  COUNT(A.city)\n",
        "FROM tabla_df_n_airbnb A INNER JOIN tabla_melb_data b \n",
        "  on a.zipcode=b.Postcode \n",
        "GROUP BY \n",
        "  neighborhood,\n",
        "  city \"\"\""
      ],
      "id": "fsnZIeh9-nN6"
    },
    {
      "cell_type": "markdown",
      "metadata": {
        "id": "LEGfbiDROlmd"
      },
      "source": [
        "* Sacamos los barrios  con null"
      ],
      "id": "LEGfbiDROlmd"
    },
    {
      "cell_type": "code",
      "execution_count": null,
      "metadata": {
        "id": "9ahoM3WcOCYc"
      },
      "outputs": [],
      "source": [
        "C3=\"\"\"\n",
        "SELECT\n",
        "  neighborhood,\n",
        "  city,\n",
        "  COUNT(A.city)\n",
        "FROM tabla_df_n_airbnb A INNER JOIN tabla_melb_data b \n",
        "  on a.zipcode=b.Postcode \n",
        "WHERE neighborhood IS NOT NULL\n",
        "GROUP BY \n",
        "  neighborhood,\n",
        "  city \"\"\""
      ],
      "id": "9ahoM3WcOCYc"
    },
    {
      "cell_type": "code",
      "execution_count": null,
      "metadata": {
        "id": "HiO2Oxuv-nVy",
        "colab": {
          "base_uri": "https://localhost:8080/"
        },
        "outputId": "e38ed92a-c652-44d0-e1d3-d7add4221b2a"
      },
      "outputs": [
        {
          "output_type": "stream",
          "name": "stdout",
          "text": [
            "2022-05-18 17:55:05,689 INFO sqlalchemy.engine.Engine \n",
            "SELECT\n",
            "  neighborhood,\n",
            "  city,\n",
            "  COUNT(A.city)\n",
            "FROM tabla_df_n_airbnb A INNER JOIN tabla_melb_data b \n",
            "  on a.zipcode=b.Postcode \n",
            "GROUP BY \n",
            "  neighborhood,\n",
            "  city \n",
            "2022-05-18 17:55:05,691 INFO sqlalchemy.engine.Engine [raw sql] ()\n",
            " neighborhood   city  Cantidad\n",
            "(None, 'Banyule', 21679)\n",
            "(None, 'Bayside', 10299)\n",
            "(None, 'Boroondara', 4423)\n",
            "(None, 'Brimbank', 17517)\n",
            "(None, 'Cardinia', 127)\n",
            "(None, 'Casey', 1147)\n",
            "(None, 'Darebin', 24680)\n",
            "(None, 'Frankston', 4842)\n",
            "(None, 'Glen Eira', 4394)\n",
            "(None, 'Greater Dandenong', 2497)\n",
            "(None, 'Hobsons Bay', 4838)\n",
            "(None, 'Hume', 6549)\n",
            "(None, 'Kingston', 9374)\n",
            "(None, 'Knox', 3270)\n",
            "(None, 'Manningham', 21302)\n",
            "(None, 'Maribyrnong', 10560)\n",
            "(None, 'Maroondah', 3520)\n",
            "(None, 'Melbourne', 10851)\n",
            "(None, 'Melton', 2402)\n",
            "(None, 'Monash', 27243)\n",
            "(None, 'Moonee Valley', 27757)\n",
            "(None, 'Moreland', 28761)\n",
            "(None, 'Nillumbik', 1314)\n",
            "(None, 'Port Phillip', 14715)\n",
            "(None, 'Stonnington', 10049)\n",
            "(None, 'Whitehorse', 27635)\n",
            "(None, 'Whittlesea', 4814)\n",
            "(None, 'Wyndham', 23275)\n",
            "(None, 'Yarra', 11395)\n",
            "(None, 'Yarra Ranges', 597)\n",
            "('Abbotsford', 'Yarra', 15763)\n",
            "('Albert Park', 'Port Phillip', 7291)\n",
            "('Alphington', 'Banyule', 1968)\n",
            "('Alphington', 'Darebin', 1694)\n",
            "('Alphington', 'Yarra', 1232)\n",
            "('Armadale', 'Stonnington', 6439)\n",
            "('Ashburton', 'Boroondara', 1484)\n",
            "('Ashburton', 'Monash', 424)\n",
            "('Balaclava/Ripponlea', 'Glen Eira', 103)\n",
            "('Balaclava/Ripponlea', 'Port Phillip', 5707)\n",
            "('Balwyn', 'Boroondara', 8130)\n",
            "('Balwyn', 'Whitehorse', 2862)\n",
            "('Balwyn North', 'Boroondara', 6669)\n",
            "('Balwyn North', 'Manningham', 1406)\n",
            "('Bentleigh', 'Bayside', 155)\n",
            "('Bentleigh', 'Glen Eira', 20079)\n",
            "('Bentleigh', 'Kingston', 1255)\n",
            "('Bentleigh', 'Monash', 332)\n",
            "('Brighton', 'Bayside', 34124)\n",
            "('Brighton', 'Glen Eira', 324)\n",
            "('Brunswick', 'Melbourne', 1218)\n",
            "('Brunswick', 'Moonee Valley', 7040)\n",
            "('Brunswick', 'Moreland', 117901)\n",
            "('Brunswick', 'Yarra', 662)\n",
            "('Burnley', 'Yarra', 16352)\n",
            "('Camberwell', 'Boroondara', 10878)\n",
            "('Camberwell', 'Whitehorse', 981)\n",
            "('Canterbury', 'Boroondara', 1845)\n",
            "('Carlton', 'Melbourne', 29827)\n",
            "('Carlton', 'Yarra', 153)\n",
            "('Carlton North', 'Melbourne', 530)\n",
            "('Carlton North', 'Yarra', 7011)\n",
            "('Carnegie', 'Glen Eira', 30030)\n",
            "('Carnegie', 'Monash', 2537)\n",
            "('Caulfield', 'Glen Eira', 20690)\n",
            "('Caulfield', 'Stonnington', 196)\n",
            "('Central Business District', 'Melbourne', 153665)\n",
            "('Clifton Hill', 'Yarra', 8850)\n",
            "('Coburg', 'Darebin', 1436)\n",
            "('Coburg', 'Moreland', 34225)\n",
            "('Collingwood', 'Yarra', 18450)\n",
            "('Docklands', 'Melbourne', 2180)\n",
            "('East Melbourne', 'Melbourne', 4008)\n",
            "('East Melbourne', 'Yarra', 176)\n",
            "('Elwood', 'Bayside', 131)\n",
            "('Elwood', 'Port Phillip', 40348)\n",
            "('Fitzroy', 'Yarra', 22567)\n",
            "('Fitzroy North', 'Moreland', 900)\n",
            "('Fitzroy North', 'Yarra', 33404)\n",
            "('Flemington', 'Melbourne', 2205)\n",
            "('Flemington', 'Moonee Valley', 35023)\n",
            "('Footscray', 'Maribyrnong', 51435)\n",
            "('Glen Iris', 'Boroondara', 5795)\n",
            "('Glen Iris', 'Monash', 442)\n",
            "('Glen Iris', 'Stonnington', 8580)\n",
            "('Glen Iris', 'Whitehorse', 84)\n",
            "('Hawthorn', 'Boroondara', 42936)\n",
            "('Kensington', 'Melbourne', 18977)\n",
            "('Kensington', 'Moonee Valley', 179)\n",
            "('Kew', 'Boroondara', 17843)\n",
            "('Malvern', 'Boroondara', 238)\n",
            "('Malvern', 'Stonnington', 2403)\n",
            "('Malvern East', 'Monash', 725)\n",
            "('Malvern East', 'Stonnington', 12448)\n",
            "('Middle Park', 'Port Phillip', 5327)\n",
            "('Newport', 'Hobsons Bay', 7832)\n",
            "('North Melbourne', 'Melbourne', 23001)\n",
            "('Northcote', 'Darebin', 52516)\n",
            "('Northcote', 'Yarra', 684)\n",
            "('Ormond/McKinnon', 'Glen Eira', 10074)\n",
            "('Parkville', 'Melbourne', 3095)\n",
            "('Port Melbourne', 'Melbourne', 174)\n",
            "('Port Melbourne', 'Port Phillip', 36873)\n",
            "('Prahran', 'Stonnington', 46863)\n",
            "('Prahran/Windsor', 'Melbourne', 2013)\n",
            "('Prahran/Windsor', 'Port Phillip', 2404)\n",
            "('Prahran/Windsor', 'Stonnington', 732)\n",
            "('Preston', 'Banyule', 1549)\n",
            "('Preston', 'Darebin', 37789)\n",
            "('Richmond', 'Yarra', 158375)\n",
            "('South Melbourne', 'Port Phillip', 23797)\n",
            "('South Wharf', 'Melbourne', 186)\n",
            "('South Yarra', 'Melbourne', 17978)\n",
            "('South Yarra', 'Port Phillip', 247)\n",
            "('South Yarra', 'Stonnington', 152510)\n",
            "('Southbank', 'Melbourne', 49303)\n",
            "('Southbank', 'Port Phillip', 1848)\n",
            "('Spotswood/South Kingsville', 'Hobsons Bay', 4207)\n",
            "('St Kilda', 'Port Phillip', 174011)\n",
            "('St Kilda', 'Stonnington', 486)\n",
            "('St Kilda East', 'Glen Eira', 1053)\n",
            "('St Kilda East', 'Port Phillip', 4931)\n",
            "('St Kilda East', 'Stonnington', 54)\n",
            "('Thornbury', 'Banyule', 615)\n",
            "('Thornbury', 'Darebin', 14156)\n",
            "('Toorak', 'Stonnington', 11720)\n",
            "('West Melbourne', 'Melbourne', 3902)\n",
            "('Williamstown', 'Hobsons Bay', 9208)\n",
            "('Windsor', 'Port Phillip', 366)\n",
            "('Windsor', 'Stonnington', 30195)\n",
            "('Yarraville/Seddon', 'Hobsons Bay', 336)\n",
            "('Yarraville/Seddon', 'Maribyrnong', 22483)\n"
          ]
        }
      ],
      "source": [
        "with engine.connect() as con:\n",
        "    #for query in q1:\n",
        "      rs = con.execute(C2)\n",
        "      print(' neighborhood   city  Cantidad'   )\n",
        "      for row in rs:\n",
        "          print(row)"
      ],
      "id": "HiO2Oxuv-nVy"
    },
    {
      "cell_type": "markdown",
      "metadata": {
        "id": "3D24NpLGOVH7"
      },
      "source": [
        "* Barrios sin null"
      ],
      "id": "3D24NpLGOVH7"
    },
    {
      "cell_type": "code",
      "execution_count": null,
      "metadata": {
        "id": "du4kbRqeOM_-",
        "colab": {
          "base_uri": "https://localhost:8080/"
        },
        "outputId": "03ed8a87-9e90-47c6-f1fe-2d4607e0c565"
      },
      "outputs": [
        {
          "output_type": "stream",
          "name": "stdout",
          "text": [
            "2022-05-18 17:55:08,297 INFO sqlalchemy.engine.Engine \n",
            "SELECT\n",
            "  neighborhood,\n",
            "  city,\n",
            "  COUNT(A.city)\n",
            "FROM tabla_df_n_airbnb A INNER JOIN tabla_melb_data b \n",
            "  on a.zipcode=b.Postcode \n",
            "WHERE neighborhood IS NOT NULL\n",
            "GROUP BY \n",
            "  neighborhood,\n",
            "  city \n",
            "2022-05-18 17:55:08,299 INFO sqlalchemy.engine.Engine [raw sql] ()\n",
            " neighborhood   city  Cantidad\n",
            "('Abbotsford', 'Yarra', 15763)\n",
            "('Albert Park', 'Port Phillip', 7291)\n",
            "('Alphington', 'Banyule', 1968)\n",
            "('Alphington', 'Darebin', 1694)\n",
            "('Alphington', 'Yarra', 1232)\n",
            "('Armadale', 'Stonnington', 6439)\n",
            "('Ashburton', 'Boroondara', 1484)\n",
            "('Ashburton', 'Monash', 424)\n",
            "('Balaclava/Ripponlea', 'Glen Eira', 103)\n",
            "('Balaclava/Ripponlea', 'Port Phillip', 5707)\n",
            "('Balwyn', 'Boroondara', 8130)\n",
            "('Balwyn', 'Whitehorse', 2862)\n",
            "('Balwyn North', 'Boroondara', 6669)\n",
            "('Balwyn North', 'Manningham', 1406)\n",
            "('Bentleigh', 'Bayside', 155)\n",
            "('Bentleigh', 'Glen Eira', 20079)\n",
            "('Bentleigh', 'Kingston', 1255)\n",
            "('Bentleigh', 'Monash', 332)\n",
            "('Brighton', 'Bayside', 34124)\n",
            "('Brighton', 'Glen Eira', 324)\n",
            "('Brunswick', 'Melbourne', 1218)\n",
            "('Brunswick', 'Moonee Valley', 7040)\n",
            "('Brunswick', 'Moreland', 117901)\n",
            "('Brunswick', 'Yarra', 662)\n",
            "('Burnley', 'Yarra', 16352)\n",
            "('Camberwell', 'Boroondara', 10878)\n",
            "('Camberwell', 'Whitehorse', 981)\n",
            "('Canterbury', 'Boroondara', 1845)\n",
            "('Carlton', 'Melbourne', 29827)\n",
            "('Carlton', 'Yarra', 153)\n",
            "('Carlton North', 'Melbourne', 530)\n",
            "('Carlton North', 'Yarra', 7011)\n",
            "('Carnegie', 'Glen Eira', 30030)\n",
            "('Carnegie', 'Monash', 2537)\n",
            "('Caulfield', 'Glen Eira', 20690)\n",
            "('Caulfield', 'Stonnington', 196)\n",
            "('Central Business District', 'Melbourne', 153665)\n",
            "('Clifton Hill', 'Yarra', 8850)\n",
            "('Coburg', 'Darebin', 1436)\n",
            "('Coburg', 'Moreland', 34225)\n",
            "('Collingwood', 'Yarra', 18450)\n",
            "('Docklands', 'Melbourne', 2180)\n",
            "('East Melbourne', 'Melbourne', 4008)\n",
            "('East Melbourne', 'Yarra', 176)\n",
            "('Elwood', 'Bayside', 131)\n",
            "('Elwood', 'Port Phillip', 40348)\n",
            "('Fitzroy', 'Yarra', 22567)\n",
            "('Fitzroy North', 'Moreland', 900)\n",
            "('Fitzroy North', 'Yarra', 33404)\n",
            "('Flemington', 'Melbourne', 2205)\n",
            "('Flemington', 'Moonee Valley', 35023)\n",
            "('Footscray', 'Maribyrnong', 51435)\n",
            "('Glen Iris', 'Boroondara', 5795)\n",
            "('Glen Iris', 'Monash', 442)\n",
            "('Glen Iris', 'Stonnington', 8580)\n",
            "('Glen Iris', 'Whitehorse', 84)\n",
            "('Hawthorn', 'Boroondara', 42936)\n",
            "('Kensington', 'Melbourne', 18977)\n",
            "('Kensington', 'Moonee Valley', 179)\n",
            "('Kew', 'Boroondara', 17843)\n",
            "('Malvern', 'Boroondara', 238)\n",
            "('Malvern', 'Stonnington', 2403)\n",
            "('Malvern East', 'Monash', 725)\n",
            "('Malvern East', 'Stonnington', 12448)\n",
            "('Middle Park', 'Port Phillip', 5327)\n",
            "('Newport', 'Hobsons Bay', 7832)\n",
            "('North Melbourne', 'Melbourne', 23001)\n",
            "('Northcote', 'Darebin', 52516)\n",
            "('Northcote', 'Yarra', 684)\n",
            "('Ormond/McKinnon', 'Glen Eira', 10074)\n",
            "('Parkville', 'Melbourne', 3095)\n",
            "('Port Melbourne', 'Melbourne', 174)\n",
            "('Port Melbourne', 'Port Phillip', 36873)\n",
            "('Prahran', 'Stonnington', 46863)\n",
            "('Prahran/Windsor', 'Melbourne', 2013)\n",
            "('Prahran/Windsor', 'Port Phillip', 2404)\n",
            "('Prahran/Windsor', 'Stonnington', 732)\n",
            "('Preston', 'Banyule', 1549)\n",
            "('Preston', 'Darebin', 37789)\n",
            "('Richmond', 'Yarra', 158375)\n",
            "('South Melbourne', 'Port Phillip', 23797)\n",
            "('South Wharf', 'Melbourne', 186)\n",
            "('South Yarra', 'Melbourne', 17978)\n",
            "('South Yarra', 'Port Phillip', 247)\n",
            "('South Yarra', 'Stonnington', 152510)\n",
            "('Southbank', 'Melbourne', 49303)\n",
            "('Southbank', 'Port Phillip', 1848)\n",
            "('Spotswood/South Kingsville', 'Hobsons Bay', 4207)\n",
            "('St Kilda', 'Port Phillip', 174011)\n",
            "('St Kilda', 'Stonnington', 486)\n",
            "('St Kilda East', 'Glen Eira', 1053)\n",
            "('St Kilda East', 'Port Phillip', 4931)\n",
            "('St Kilda East', 'Stonnington', 54)\n",
            "('Thornbury', 'Banyule', 615)\n",
            "('Thornbury', 'Darebin', 14156)\n",
            "('Toorak', 'Stonnington', 11720)\n",
            "('West Melbourne', 'Melbourne', 3902)\n",
            "('Williamstown', 'Hobsons Bay', 9208)\n",
            "('Windsor', 'Port Phillip', 366)\n",
            "('Windsor', 'Stonnington', 30195)\n",
            "('Yarraville/Seddon', 'Hobsons Bay', 336)\n",
            "('Yarraville/Seddon', 'Maribyrnong', 22483)\n"
          ]
        }
      ],
      "source": [
        "with engine.connect() as con:\n",
        "    #for query in q1:\n",
        "      rs = con.execute(C3)\n",
        "      print(' neighborhood   city  Cantidad'   )\n",
        "      for row in rs:\n",
        "          print(row)"
      ],
      "id": "du4kbRqeOM_-"
    },
    {
      "cell_type": "markdown",
      "metadata": {
        "id": "c5468c4f-5cdf-4df4-a317-60e1fb0c00db"
      },
      "source": [
        "## Ejercicio 2: \n",
        "\n",
        "1. Seleccionar un subconjunto de columnas que les parezcan relevantes al problema de predicción del valor de la propiedad. Justificar las columnas seleccionadas y las que no lo fueron.\n",
        " - Eliminar los valores extremos que no sean relevantes para la predicción de valores de las propiedades.\n",
        "\n",
        "2. Agregar información adicional respectiva al entorno de una propiedad a partir del [conjunto de datos de AirBnB](https://www.kaggle.com/tylerx/melbourne-airbnb-open-data?select=cleansed_listings_dec18.csv) utilizado en el práctico. \n",
        "  1. Seleccionar qué variables agregar y qué combinaciones aplicar a cada una. Por ejemplo, pueden utilizar solo la columna `price`, o aplicar múltiples transformaciones como la mediana o el mínimo.\n",
        "  1. Utilizar la variable zipcode para unir los conjuntos de datos. Sólo incluir los zipcodes que tengan una cantidad mínima de registros (a elección) como para que la información agregada sea relevante.\n",
        "  2. Investigar al menos otras 2 variables que puedan servir para combinar los datos, y justificar si serían adecuadas o no. Pueden asumir que cuentan con la ayuda de anotadores expertos para encontrar equivalencias entre barrios o direcciones, o que cuentan con algoritmos para encontrar las n ubicaciones más cercanas a una propiedad a partir de sus coordenadas geográficas. **NO** es necesario que realicen la implementación.\n",
        "\n",
        "Pueden leer otras columnas del conjunto de AirBnB además de las que están en `interesting_cols`, si les parecen relevantes."
      ],
      "id": "c5468c4f-5cdf-4df4-a317-60e1fb0c00db"
    },
    {
      "cell_type": "markdown",
      "metadata": {
        "id": "9q0qzfep-MIR"
      },
      "source": [
        "### Ejercicio 2: 1) Selección de columnas relevantes."
      ],
      "id": "9q0qzfep-MIR"
    },
    {
      "cell_type": "code",
      "execution_count": null,
      "metadata": {
        "id": "wC6I6aHA1l7I",
        "colab": {
          "base_uri": "https://localhost:8080/"
        },
        "outputId": "350faafd-294c-4854-9b06-8aa33b760a64"
      },
      "outputs": [
        {
          "output_type": "execute_result",
          "data": {
            "text/plain": [
              "Index(['Suburb', 'Address', 'Rooms', 'Type', 'Price', 'Method', 'SellerG',\n",
              "       'Date', 'Distance', 'Postcode', 'Bedroom2', 'Bathroom', 'Car',\n",
              "       'Landsize', 'BuildingArea', 'YearBuilt', 'CouncilArea', 'Lattitude',\n",
              "       'Longtitude', 'Regionname', 'Propertycount'],\n",
              "      dtype='object')"
            ]
          },
          "metadata": {},
          "execution_count": 28
        }
      ],
      "source": [
        "# Listado de las columnas de df_melb\n",
        "df_melb.columns"
      ],
      "id": "wC6I6aHA1l7I"
    },
    {
      "cell_type": "markdown",
      "metadata": {
        "id": "I9pJZCMr1xHj"
      },
      "source": [
        "Las columnas que creemos relevantes de la base df_melb para predecir el valor de las propiedades son: \n",
        "\n",
        "* **Suburb:**  zona residencial en donde se encuentra ubicada la propiedad.\n",
        "* **Regionname:** nombre de la región general (Norte, Sur, etc.).\n",
        "* **Rooms:** cantidad de ambientes que tiene la casa.\n",
        "* **Type:** tipo de vivienda (casa, departamento, chalé, etc.).\n",
        "* **Price:** precio al que fue vendida la propiedad.\n",
        "* **Date:** fecha de venta, ya que tiene que ver con las condiciones del mercado.\n",
        "* **Distance:** distancia al distrito financiero. \n",
        "* **Postcode:** código postal que usaremos para combinar las bases y tiene que ver con la ubicación de la propiedad.\n",
        "* **Bedroom2:** cantidad de habitaciones.\n",
        "* **Bathroom:** cantidad de baños.\n",
        "* **Car:** cantidad de cocheras.\n",
        "* **Landsize:** tamaño del terreno.\n",
        "* **BuildingArea:** tamaño del terreno edificado.\n",
        "* **YearBuilt:** año de construcción de la propiedad.\n",
        "* **Lattitude:** latitud, tiene que ver con la ubicación de la propiedad.\n",
        "* **Longtitude:** longitud, tiene que ver con la ubicación de la propiedad.\n",
        "* **Propertycount:** cantidad de propiedades que hay en el suburb.\n",
        "\n",
        "Las columnas seleccionadas tienen que ver con la ubicación de la propiedad y con las características de la misma y de su entorno, con lo cual creemos que son relevantes para predecir el valor del inmueble. "
      ],
      "id": "I9pJZCMr1xHj"
    },
    {
      "cell_type": "markdown",
      "metadata": {
        "id": "TWymvTWn15K3"
      },
      "source": [
        "Las columnas que no fueron seleccionadas son:\n",
        "\n",
        "* **Address:** si bien tiene que ver con la ubicación del inmueble (dirección), es una variable difícil de trabajar por su gran variabilidad.\n",
        "* **Method:** tiene que ver con la forma en la que fue vendida la propiedad.\n",
        "* **SellerG:** agencia que llevó a cabo la venta. \n",
        "* **CouncilArea:** esta variable no la seleccionamos ya que creemos que está relacionada con la variable Suburb. \n"
      ],
      "id": "TWymvTWn15K3"
    },
    {
      "cell_type": "code",
      "execution_count": null,
      "metadata": {
        "id": "otmFfp3H2I-i"
      },
      "outputs": [],
      "source": [
        "# Columnas relevantes de df_melb\n",
        "relevant_cols = ['Suburb','Regionname','Rooms','Type', 'Price', 'Date','Distance' ,'Postcode','Bedroom2', 'Bathroom','Car','Landsize','BuildingArea','YearBuilt','Lattitude','Longtitude','Propertycount']"
      ],
      "id": "otmFfp3H2I-i"
    },
    {
      "cell_type": "code",
      "execution_count": null,
      "metadata": {
        "id": "WvP3l7CL2dnh"
      },
      "outputs": [],
      "source": [
        "# Nos quedamos con las columnas relevantes de df_melb\n",
        "df_melb = df_melb[relevant_cols]"
      ],
      "id": "WvP3l7CL2dnh"
    },
    {
      "cell_type": "markdown",
      "metadata": {
        "id": "PZV3BF3V2loO"
      },
      "source": [
        "**Exploración de la variable Price**"
      ],
      "id": "PZV3BF3V2loO"
    },
    {
      "cell_type": "code",
      "execution_count": null,
      "metadata": {
        "id": "Nbx-2uI-2mwe",
        "colab": {
          "base_uri": "https://localhost:8080/"
        },
        "outputId": "17665363-78ab-4344-f7c5-2dabce5f3397"
      },
      "outputs": [
        {
          "output_type": "execute_result",
          "data": {
            "text/plain": [
              "count    1.358000e+04\n",
              "mean     1.075684e+06\n",
              "std      6.393107e+05\n",
              "min      8.500000e+04\n",
              "25%      6.500000e+05\n",
              "50%      9.030000e+05\n",
              "75%      1.330000e+06\n",
              "max      9.000000e+06\n",
              "Name: Price, dtype: float64"
            ]
          },
          "metadata": {},
          "execution_count": 31
        }
      ],
      "source": [
        "# Medidas resumen de la variable Price\n",
        "df_melb['Price'].describe()"
      ],
      "id": "Nbx-2uI-2mwe"
    },
    {
      "cell_type": "code",
      "execution_count": null,
      "metadata": {
        "id": "R9q4Kyqz2wA9",
        "colab": {
          "base_uri": "https://localhost:8080/",
          "height": 220
        },
        "outputId": "132d5cbf-f1c2-4b6f-b335-c3b50816a982"
      },
      "outputs": [
        {
          "output_type": "display_data",
          "data": {
            "text/plain": [
              "<Figure size 2160x360 with 1 Axes>"
            ],
            "image/png": "[encoded data removed]"
          },
          "metadata": {
            "needs_background": "light"
          }
        }
      ],
      "source": [
        "# Distribución de la variable Price\n",
        "seaborn.displot(df_melb['Price'], aspect=6)\n",
        "plt.ticklabel_format(style='plain', axis='x')"
      ],
      "id": "R9q4Kyqz2wA9"
    },
    {
      "cell_type": "code",
      "execution_count": null,
      "metadata": {
        "id": "_yaQxe643Alh",
        "colab": {
          "base_uri": "https://localhost:8080/",
          "height": 301
        },
        "outputId": "559f86c4-1aa8-4e50-d386-f5ccf3215e51"
      },
      "outputs": [
        {
          "output_type": "display_data",
          "data": {
            "text/plain": [
              "<Figure size 864x288 with 1 Axes>"
            ],
            "image/png": "[encoded data removed]"
          },
          "metadata": {
            "needs_background": "light"
          }
        }
      ],
      "source": [
        "# Boxplot para la variable Price\n",
        "plt.figure(figsize=(12, 4))\n",
        "seaborn.boxplot(x=df_melb['Price'])\n",
        "seaborn.despine()"
      ],
      "id": "_yaQxe643Alh"
    },
    {
      "cell_type": "code",
      "execution_count": null,
      "metadata": {
        "id": "Cy47ZOOg3J6O",
        "colab": {
          "base_uri": "https://localhost:8080/"
        },
        "outputId": "95d66dee-875d-4f38-9ae1-1da04008b4c2"
      },
      "outputs": [
        {
          "output_type": "execute_result",
          "data": {
            "text/plain": [
              "0.950    2290050.0\n",
              "0.980    2865360.0\n",
              "0.990    3338150.0\n",
              "0.996    4003420.0\n",
              "0.998    4747630.0\n",
              "Name: Price, dtype: float64"
            ]
          },
          "metadata": {},
          "execution_count": 34
        }
      ],
      "source": [
        "# Algunos cuantiles de la variable Price\n",
        "df_melb['Price'].quantile([.95, .98, .99, .996, .998])"
      ],
      "id": "Cy47ZOOg3J6O"
    },
    {
      "cell_type": "markdown",
      "metadata": {
        "id": "TXGpgi393Pe4"
      },
      "source": [
        "Consideramos como valores extremos de la variable Price a aquellos precios que superan al cuantil 0,996. "
      ],
      "id": "TXGpgi393Pe4"
    },
    {
      "cell_type": "code",
      "execution_count": null,
      "metadata": {
        "id": "zRAgLPWY3RX8"
      },
      "outputs": [],
      "source": [
        "# Eliminamos los valores extremos de la variable Price\n",
        "q996=df_melb['Price'].quantile(0.996)\n",
        "df_melb = df_melb[df_melb['Price']<=q996]"
      ],
      "id": "zRAgLPWY3RX8"
    },
    {
      "cell_type": "code",
      "execution_count": null,
      "metadata": {
        "id": "new71dws3X3v",
        "colab": {
          "base_uri": "https://localhost:8080/",
          "height": 301
        },
        "outputId": "bb9bd3d3-2440-4754-a60e-54a92d5f6f58"
      },
      "outputs": [
        {
          "output_type": "display_data",
          "data": {
            "text/plain": [
              "<Figure size 864x288 with 1 Axes>"
            ],
            "image/png": "[encoded data removed]"
          },
          "metadata": {
            "needs_background": "light"
          }
        }
      ],
      "source": [
        "# Boxplot para la variable Price sin valores extremos\n",
        "plt.figure(figsize=(12, 4))\n",
        "seaborn.boxplot(x=df_melb['Price'])\n",
        "seaborn.despine()"
      ],
      "id": "new71dws3X3v"
    },
    {
      "cell_type": "markdown",
      "metadata": {
        "id": "C3g0hidR3c7U"
      },
      "source": [
        "**Exploración de la variable Suburb**"
      ],
      "id": "C3g0hidR3c7U"
    },
    {
      "cell_type": "code",
      "execution_count": null,
      "metadata": {
        "id": "NlV5eL9j3dxK",
        "colab": {
          "base_uri": "https://localhost:8080/",
          "height": 1000
        },
        "outputId": "73d25cd9-797a-45b3-ec7a-3ab763e3518f"
      },
      "outputs": [
        {
          "output_type": "execute_result",
          "data": {
            "text/plain": [
              "               Suburb  frequency\n",
              "0           Reservoir        359\n",
              "1            Richmond        260\n",
              "2      Bentleigh East        249\n",
              "3             Preston        239\n",
              "4           Brunswick        222\n",
              "5            Essendon        220\n",
              "6         South Yarra        201\n",
              "7           Glen Iris        195\n",
              "8              Coburg        190\n",
              "9           Northcote        187\n",
              "10           Hawthorn        186\n",
              "11           Brighton        180\n",
              "12       Balwyn North        171\n",
              "13        Pascoe Vale        171\n",
              "14                Kew        169\n",
              "15         Yarraville        164\n",
              "16            Glenroy        159\n",
              "17           St Kilda        159\n",
              "18     Port Melbourne        153\n",
              "19       Moonee Ponds        149\n",
              "20           Carnegie        146\n",
              "21          Bentleigh        139\n",
              "22          Thornbury        139\n",
              "23      Brighton East        138\n",
              "24            Newport        137\n",
              "25          Footscray        132\n",
              "26             Elwood        131\n",
              "27            Hampton        130\n",
              "28         Ascot Vale        130\n",
              "29         Camberwell        129\n",
              "30       Surrey Hills        125\n",
              "31            Prahran        122\n",
              "32        Keilor East        121\n",
              "33      Hawthorn East        119\n",
              "34         Kensington        117\n",
              "35          Doncaster        116\n",
              "36       Malvern East        116\n",
              "37           Sunshine        111\n",
              "38     Brunswick West        110\n",
              "39             Balwyn        107\n",
              "40       Williamstown        107\n",
              "41     West Footscray        105\n",
              "42            Fawkner        102\n",
              "43            Ivanhoe         98\n",
              "44        Maribyrnong         96\n",
              "45             Toorak         95\n",
              "46          Maidstone         94\n",
              "47      Fitzroy North         93\n",
              "48  Templestowe Lower         92\n",
              "49           Armadale         90\n",
              "50     Brunswick East         88"
            ],
            "text/html": [
              "\n",
              "  <div id=\"df-7b52e512-2578-48d0-9383-71555da6e939\">\n",
              "    <div class=\"colab-df-container\">\n",
              "      <div>\n",
              "<style scoped>\n",
              "    .dataframe tbody tr th:only-of-type {\n",
              "        vertical-align: middle;\n",
              "    }\n",
              "\n",
              "    .dataframe tbody tr th {\n",
              "        vertical-align: top;\n",
              "    }\n",
              "\n",
              "    .dataframe thead th {\n",
              "        text-align: right;\n",
              "    }\n",
              "</style>\n",
              "<table border=\"1\" class=\"dataframe\">\n",
              "  <thead>\n",
              "    <tr style=\"text-align: right;\">\n",
              "      <th></th>\n",
              "      <th>Suburb</th>\n",
              "      <th>frequency</th>\n",
              "    </tr>\n",
              "  </thead>\n",
              "  <tbody>\n",
              "    <tr>\n",
              "      <th>0</th>\n",
              "      <td>Reservoir</td>\n",
              "      <td>359</td>\n",
              "    </tr>\n",
              "    <tr>\n",
              "      <th>1</th>\n",
              "      <td>Richmond</td>\n",
              "      <td>260</td>\n",
              "    </tr>\n",
              "    <tr>\n",
              "      <th>2</th>\n",
              "      <td>Bentleigh East</td>\n",
              "      <td>249</td>\n",
              "    </tr>\n",
              "    <tr>\n",
              "      <th>3</th>\n",
              "      <td>Preston</td>\n",
              "      <td>239</td>\n",
              "    </tr>\n",
              "    <tr>\n",
              "      <th>4</th>\n",
              "      <td>Brunswick</td>\n",
              "      <td>222</td>\n",
              "    </tr>\n",
              "    <tr>\n",
              "      <th>5</th>\n",
              "      <td>Essendon</td>\n",
              "      <td>220</td>\n",
              "    </tr>\n",
              "    <tr>\n",
              "      <th>6</th>\n",
              "      <td>South Yarra</td>\n",
              "      <td>201</td>\n",
              "    </tr>\n",
              "    <tr>\n",
              "      <th>7</th>\n",
              "      <td>Glen Iris</td>\n",
              "      <td>195</td>\n",
              "    </tr>\n",
              "    <tr>\n",
              "      <th>8</th>\n",
              "      <td>Coburg</td>\n",
              "      <td>190</td>\n",
              "    </tr>\n",
              "    <tr>\n",
              "      <th>9</th>\n",
              "      <td>Northcote</td>\n",
              "      <td>187</td>\n",
              "    </tr>\n",
              "    <tr>\n",
              "      <th>10</th>\n",
              "      <td>Hawthorn</td>\n",
              "      <td>186</td>\n",
              "    </tr>\n",
              "    <tr>\n",
              "      <th>11</th>\n",
              "      <td>Brighton</td>\n",
              "      <td>180</td>\n",
              "    </tr>\n",
              "    <tr>\n",
              "      <th>12</th>\n",
              "      <td>Balwyn North</td>\n",
              "      <td>171</td>\n",
              "    </tr>\n",
              "    <tr>\n",
              "      <th>13</th>\n",
              "      <td>Pascoe Vale</td>\n",
              "      <td>171</td>\n",
              "    </tr>\n",
              "    <tr>\n",
              "      <th>14</th>\n",
              "      <td>Kew</td>\n",
              "      <td>169</td>\n",
              "    </tr>\n",
              "    <tr>\n",
              "      <th>15</th>\n",
              "      <td>Yarraville</td>\n",
              "      <td>164</td>\n",
              "    </tr>\n",
              "    <tr>\n",
              "      <th>16</th>\n",
              "      <td>Glenroy</td>\n",
              "      <td>159</td>\n",
              "    </tr>\n",
              "    <tr>\n",
              "      <th>17</th>\n",
              "      <td>St Kilda</td>\n",
              "      <td>159</td>\n",
              "    </tr>\n",
              "    <tr>\n",
              "      <th>18</th>\n",
              "      <td>Port Melbourne</td>\n",
              "      <td>153</td>\n",
              "    </tr>\n",
              "    <tr>\n",
              "      <th>19</th>\n",
              "      <td>Moonee Ponds</td>\n",
              "      <td>149</td>\n",
              "    </tr>\n",
              "    <tr>\n",
              "      <th>20</th>\n",
              "      <td>Carnegie</td>\n",
              "      <td>146</td>\n",
              "    </tr>\n",
              "    <tr>\n",
              "      <th>21</th>\n",
              "      <td>Bentleigh</td>\n",
              "      <td>139</td>\n",
              "    </tr>\n",
              "    <tr>\n",
              "      <th>22</th>\n",
              "      <td>Thornbury</td>\n",
              "      <td>139</td>\n",
              "    </tr>\n",
              "    <tr>\n",
              "      <th>23</th>\n",
              "      <td>Brighton East</td>\n",
              "      <td>138</td>\n",
              "    </tr>\n",
              "    <tr>\n",
              "      <th>24</th>\n",
              "      <td>Newport</td>\n",
              "      <td>137</td>\n",
              "    </tr>\n",
              "    <tr>\n",
              "      <th>25</th>\n",
              "      <td>Footscray</td>\n",
              "      <td>132</td>\n",
              "    </tr>\n",
              "    <tr>\n",
              "      <th>26</th>\n",
              "      <td>Elwood</td>\n",
              "      <td>131</td>\n",
              "    </tr>\n",
              "    <tr>\n",
              "      <th>27</th>\n",
              "      <td>Hampton</td>\n",
              "      <td>130</td>\n",
              "    </tr>\n",
              "    <tr>\n",
              "      <th>28</th>\n",
              "      <td>Ascot Vale</td>\n",
              "      <td>130</td>\n",
              "    </tr>\n",
              "    <tr>\n",
              "      <th>29</th>\n",
              "      <td>Camberwell</td>\n",
              "      <td>129</td>\n",
              "    </tr>\n",
              "    <tr>\n",
              "      <th>30</th>\n",
              "      <td>Surrey Hills</td>\n",
              "      <td>125</td>\n",
              "    </tr>\n",
              "    <tr>\n",
              "      <th>31</th>\n",
              "      <td>Prahran</td>\n",
              "      <td>122</td>\n",
              "    </tr>\n",
              "    <tr>\n",
              "      <th>32</th>\n",
              "      <td>Keilor East</td>\n",
              "      <td>121</td>\n",
              "    </tr>\n",
              "    <tr>\n",
              "      <th>33</th>\n",
              "      <td>Hawthorn East</td>\n",
              "      <td>119</td>\n",
              "    </tr>\n",
              "    <tr>\n",
              "      <th>34</th>\n",
              "      <td>Kensington</td>\n",
              "      <td>117</td>\n",
              "    </tr>\n",
              "    <tr>\n",
              "      <th>35</th>\n",
              "      <td>Doncaster</td>\n",
              "      <td>116</td>\n",
              "    </tr>\n",
              "    <tr>\n",
              "      <th>36</th>\n",
              "      <td>Malvern East</td>\n",
              "      <td>116</td>\n",
              "    </tr>\n",
              "    <tr>\n",
              "      <th>37</th>\n",
              "      <td>Sunshine</td>\n",
              "      <td>111</td>\n",
              "    </tr>\n",
              "    <tr>\n",
              "      <th>38</th>\n",
              "      <td>Brunswick West</td>\n",
              "      <td>110</td>\n",
              "    </tr>\n",
              "    <tr>\n",
              "      <th>39</th>\n",
              "      <td>Balwyn</td>\n",
              "      <td>107</td>\n",
              "    </tr>\n",
              "    <tr>\n",
              "      <th>40</th>\n",
              "      <td>Williamstown</td>\n",
              "      <td>107</td>\n",
              "    </tr>\n",
              "    <tr>\n",
              "      <th>41</th>\n",
              "      <td>West Footscray</td>\n",
              "      <td>105</td>\n",
              "    </tr>\n",
              "    <tr>\n",
              "      <th>42</th>\n",
              "      <td>Fawkner</td>\n",
              "      <td>102</td>\n",
              "    </tr>\n",
              "    <tr>\n",
              "      <th>43</th>\n",
              "      <td>Ivanhoe</td>\n",
              "      <td>98</td>\n",
              "    </tr>\n",
              "    <tr>\n",
              "      <th>44</th>\n",
              "      <td>Maribyrnong</td>\n",
              "      <td>96</td>\n",
              "    </tr>\n",
              "    <tr>\n",
              "      <th>45</th>\n",
              "      <td>Toorak</td>\n",
              "      <td>95</td>\n",
              "    </tr>\n",
              "    <tr>\n",
              "      <th>46</th>\n",
              "      <td>Maidstone</td>\n",
              "      <td>94</td>\n",
              "    </tr>\n",
              "    <tr>\n",
              "      <th>47</th>\n",
              "      <td>Fitzroy North</td>\n",
              "      <td>93</td>\n",
              "    </tr>\n",
              "    <tr>\n",
              "      <th>48</th>\n",
              "      <td>Templestowe Lower</td>\n",
              "      <td>92</td>\n",
              "    </tr>\n",
              "    <tr>\n",
              "      <th>49</th>\n",
              "      <td>Armadale</td>\n",
              "      <td>90</td>\n",
              "    </tr>\n",
              "    <tr>\n",
              "      <th>50</th>\n",
              "      <td>Brunswick East</td>\n",
              "      <td>88</td>\n",
              "    </tr>\n",
              "  </tbody>\n",
              "</table>\n",
              "</div>\n",
              "      <button class=\"colab-df-convert\" onclick=\"convertToInteractive('df-7b52e512-2578-48d0-9383-71555da6e939')\"\n",
              "              title=\"Convert this dataframe to an interactive table.\"\n",
              "              style=\"display:none;\">\n",
              "        \n",
              "  <svg xmlns=\"http://www.w3.org/2000/svg\" height=\"24px\"viewBox=\"0 0 24 24\"\n",
              "       width=\"24px\">\n",
              "    <path d=\"M0 0h24v24H0V0z\" fill=\"none\"/>\n",
              "    <path d=\"M18.56 5.44l.94 2.06.94-2.06 2.06-.94-2.06-.94-.94-2.06-.94 2.06-2.06.94zm-11 1L8.5 8.5l.94-2.06 2.06-.94-2.06-.94L8.5 2.5l-.94 2.06-2.06.94zm10 10l.94 2.06.94-2.06 2.06-.94-2.06-.94-.94-2.06-.94 2.06-2.06.94z\"/><path d=\"M17.41 7.96l-1.37-1.37c-.4-.4-.92-.59-1.43-.59-.52 0-1.04.2-1.43.59L10.3 9.45l-7.72 7.72c-.78.78-.78 2.05 0 2.83L4 21.41c.39.39.9.59 1.41.59.51 0 1.02-.2 1.41-.59l7.78-7.78 2.81-2.81c.8-.78.8-2.07 0-2.86zM5.41 20L4 18.59l7.72-7.72 1.47 1.35L5.41 20z\"/>\n",
              "  </svg>\n",
              "      </button>\n",
              "      \n",
              "  <style>\n",
              "    .colab-df-container {\n",
              "      display:flex;\n",
              "      flex-wrap:wrap;\n",
              "      gap: 12px;\n",
              "    }\n",
              "\n",
              "    .colab-df-convert {\n",
              "      background-color: #E8F0FE;\n",
              "      border: none;\n",
              "      border-radius: 50%;\n",
              "      cursor: pointer;\n",
              "      display: none;\n",
              "      fill: #1967D2;\n",
              "      height: 32px;\n",
              "      padding: 0 0 0 0;\n",
              "      width: 32px;\n",
              "    }\n",
              "\n",
              "    .colab-df-convert:hover {\n",
              "      background-color: #E2EBFA;\n",
              "      box-shadow: 0px 1px 2px rgba(60, 64, 67, 0.3), 0px 1px 3px 1px rgba(60, 64, 67, 0.15);\n",
              "      fill: #174EA6;\n",
              "    }\n",
              "\n",
              "    [theme=dark] .colab-df-convert {\n",
              "      background-color: #3B4455;\n",
              "      fill: #D2E3FC;\n",
              "    }\n",
              "\n",
              "    [theme=dark] .colab-df-convert:hover {\n",
              "      background-color: #434B5C;\n",
              "      box-shadow: 0px 1px 3px 1px rgba(0, 0, 0, 0.15);\n",
              "      filter: drop-shadow(0px 1px 2px rgba(0, 0, 0, 0.3));\n",
              "      fill: #FFFFFF;\n",
              "    }\n",
              "  </style>\n",
              "\n",
              "      <script>\n",
              "        const buttonEl =\n",
              "          document.querySelector('#df-7b52e512-2578-48d0-9383-71555da6e939 button.colab-df-convert');\n",
              "        buttonEl.style.display =\n",
              "          google.colab.kernel.accessAllowed ? 'block' : 'none';\n",
              "\n",
              "        async function convertToInteractive(key) {\n",
              "          const element = document.querySelector('#df-7b52e512-2578-48d0-9383-71555da6e939');\n",
              "          const dataTable =\n",
              "            await google.colab.kernel.invokeFunction('convertToInteractive',\n",
              "                                                     [key], {});\n",
              "          if (!dataTable) return;\n",
              "\n",
              "          const docLinkHtml = 'Like what you see? Visit the ' +\n",
              "            '<a target=\"_blank\" href=https://colab.research.google.com/notebooks/data_table.ipynb>data table notebook</a>'\n",
              "            + ' to learn more about interactive tables.';\n",
              "          element.innerHTML = '';\n",
              "          dataTable['output_type'] = 'display_data';\n",
              "          await google.colab.output.renderOutput(dataTable, element);\n",
              "          const docLink = document.createElement('div');\n",
              "          docLink.innerHTML = docLinkHtml;\n",
              "          element.appendChild(docLink);\n",
              "        }\n",
              "      </script>\n",
              "    </div>\n",
              "  </div>\n",
              "  "
            ]
          },
          "metadata": {},
          "execution_count": 37
        }
      ],
      "source": [
        "# Freciuencias absolutas Suburb para df_melb\n",
        "Suburb_count = df_melb.Suburb.value_counts()\\\n",
        "    .reset_index()\\\n",
        "    .rename(columns={'index': 'Suburb', 'Suburb': 'frequency'})\n",
        "Suburb_count[:51]"
      ],
      "id": "NlV5eL9j3dxK"
    },
    {
      "cell_type": "code",
      "execution_count": null,
      "metadata": {
        "id": "q8EAWw3G3lb6",
        "colab": {
          "base_uri": "https://localhost:8080/"
        },
        "outputId": "8f39f820-60cc-47a2-8145-bcdbdd39d492"
      },
      "outputs": [
        {
          "output_type": "execute_result",
          "data": {
            "text/plain": [
              "1      21\n",
              "2      15\n",
              "4      14\n",
              "5      10\n",
              "6      10\n",
              "       ..\n",
              "102     1\n",
              "105     1\n",
              "110     1\n",
              "111     1\n",
              "64      1\n",
              "Name: frequency, Length: 115, dtype: int64"
            ]
          },
          "metadata": {},
          "execution_count": 38
        }
      ],
      "source": [
        "# Distribución de las frecuencias de Suburb\n",
        "Suburb_count['frequency'].value_counts()"
      ],
      "id": "q8EAWw3G3lb6"
    },
    {
      "cell_type": "code",
      "execution_count": null,
      "metadata": {
        "id": "kO5HyNkV3ocz",
        "colab": {
          "base_uri": "https://localhost:8080/"
        },
        "outputId": "a755a54e-05a3-4782-fa49-26a354de75d1"
      },
      "outputs": [
        {
          "output_type": "execute_result",
          "data": {
            "text/plain": [
              "count    314.000000\n",
              "mean      43.073248\n",
              "std       54.887550\n",
              "min        1.000000\n",
              "25%        6.250000\n",
              "50%       20.000000\n",
              "75%       58.750000\n",
              "max      359.000000\n",
              "Name: Suburb, dtype: float64"
            ]
          },
          "metadata": {},
          "execution_count": 39
        }
      ],
      "source": [
        "# Medidas resumen para la frecuencia de Suburb\n",
        "df_melb.Suburb.value_counts().describe()"
      ],
      "id": "kO5HyNkV3ocz"
    },
    {
      "cell_type": "markdown",
      "metadata": {
        "id": "pLL0-ErL3v-N"
      },
      "source": [
        "Quitamos de la base df_melb los suburbs con frecuencias menores a 10, ya que consideramos que están poco representados."
      ],
      "id": "pLL0-ErL3v-N"
    },
    {
      "cell_type": "code",
      "execution_count": null,
      "metadata": {
        "id": "SFjGJSTl3zF3"
      },
      "outputs": [],
      "source": [
        "# Quitamos de la base df_melb los suburbs con frecuencia menor a 10.\n",
        "Suburb_principales= Suburb_count[Suburb_count['frequency'] >= 10]\n",
        "\n",
        "df_melb = df_melb[df_melb['Suburb'].isin(Suburb_principales['Suburb'])]"
      ],
      "id": "SFjGJSTl3zF3"
    },
    {
      "cell_type": "code",
      "execution_count": null,
      "metadata": {
        "id": "zGaluF_b3808",
        "colab": {
          "base_uri": "https://localhost:8080/"
        },
        "outputId": "2bb67508-8104-4839-8a72-118fc4e08d2c"
      },
      "outputs": [
        {
          "output_type": "execute_result",
          "data": {
            "text/plain": [
              "13096"
            ]
          },
          "metadata": {},
          "execution_count": 41
        }
      ],
      "source": [
        "len(df_melb)"
      ],
      "id": "zGaluF_b3808"
    },
    {
      "cell_type": "markdown",
      "metadata": {
        "id": "cCH8uUt-4CvA"
      },
      "source": [
        "### Ejercicio 2: 2) Agregado de información adicional de la base df_airbnb."
      ],
      "id": "cCH8uUt-4CvA"
    },
    {
      "cell_type": "code",
      "execution_count": null,
      "metadata": {
        "id": "gd6yuvqN4Epy",
        "colab": {
          "base_uri": "https://localhost:8080/"
        },
        "outputId": "9e96558d-81b0-4a47-9a60-ff4a84b31c8e"
      },
      "outputs": [
        {
          "output_type": "execute_result",
          "data": {
            "text/plain": [
              "Index(['description', 'neighborhood_overview', 'street', 'neighborhood',\n",
              "       'city', 'suburb', 'state', 'zipcode', 'latitude', 'longitude', 'price',\n",
              "       'weekly_price', 'monthly_price'],\n",
              "      dtype='object')"
            ]
          },
          "metadata": {},
          "execution_count": 42
        }
      ],
      "source": [
        "# Lista de columnas de df_airbnb\n",
        "df_airbnb.columns"
      ],
      "id": "gd6yuvqN4Epy"
    },
    {
      "cell_type": "code",
      "execution_count": null,
      "metadata": {
        "id": "Z8EBeeRg4Ke4"
      },
      "outputs": [],
      "source": [
        "# Selección de columnas relevantes de la base df_airbnb\n",
        "relevant_cols = ['zipcode','price',\n",
        "       'weekly_price', 'monthly_price']"
      ],
      "id": "Z8EBeeRg4Ke4"
    },
    {
      "cell_type": "markdown",
      "metadata": {
        "id": "CKShM2XM4U3E"
      },
      "source": [
        "**Exploración de la variable price de df_airbnb**"
      ],
      "id": "CKShM2XM4U3E"
    },
    {
      "cell_type": "code",
      "execution_count": null,
      "metadata": {
        "id": "MlajRvN34VuO",
        "colab": {
          "base_uri": "https://localhost:8080/"
        },
        "outputId": "58976f81-3209-4914-b0cc-5f4c747f25fe"
      },
      "outputs": [
        {
          "output_type": "execute_result",
          "data": {
            "text/plain": [
              "count    22895.000000\n",
              "mean       148.004368\n",
              "std        210.883253\n",
              "min          0.000000\n",
              "25%         71.000000\n",
              "50%        111.000000\n",
              "75%        165.000000\n",
              "max      12624.000000\n",
              "Name: price, dtype: float64"
            ]
          },
          "metadata": {},
          "execution_count": 44
        }
      ],
      "source": [
        "# Medidas resumen de la variable price\n",
        "df_airbnb['price'].describe()"
      ],
      "id": "MlajRvN34VuO"
    },
    {
      "cell_type": "code",
      "execution_count": null,
      "metadata": {
        "id": "ASdPqIPQ4btb",
        "colab": {
          "base_uri": "https://localhost:8080/"
        },
        "outputId": "f042b030-dfe7-4bbd-a0e0-29412d152b60"
      },
      "outputs": [
        {
          "output_type": "execute_result",
          "data": {
            "text/plain": [
              "0.950     352.0\n",
              "0.980     595.0\n",
              "0.990     800.0\n",
              "0.995     999.0\n",
              "0.998    1501.0\n",
              "Name: price, dtype: float64"
            ]
          },
          "metadata": {},
          "execution_count": 45
        }
      ],
      "source": [
        "# Algunos cuantiles de variable price\n",
        "df_airbnb['price'].quantile([.95, .98, .99, .995, .998])"
      ],
      "id": "ASdPqIPQ4btb"
    },
    {
      "cell_type": "code",
      "execution_count": null,
      "metadata": {
        "id": "1-tD0sXT4hi3",
        "colab": {
          "base_uri": "https://localhost:8080/",
          "height": 220
        },
        "outputId": "416af1b6-aac8-4de4-c357-f330baf550bd"
      },
      "outputs": [
        {
          "output_type": "display_data",
          "data": {
            "text/plain": [
              "<Figure size 2160x360 with 1 Axes>"
            ],
            "image/png": "[encoded data removed]"
          },
          "metadata": {
            "needs_background": "light"
          }
        }
      ],
      "source": [
        "# Distribución de la variable price\n",
        "seaborn.displot(df_airbnb['price'], aspect=6)\n",
        "plt.ticklabel_format(style='plain', axis='x')"
      ],
      "id": "1-tD0sXT4hi3"
    },
    {
      "cell_type": "markdown",
      "metadata": {
        "id": "DQJbrUJq4q9k"
      },
      "source": [
        "Consideramos como valores atípicos para la variable price a aquellos precios que superan al cuantil 0,998."
      ],
      "id": "DQJbrUJq4q9k"
    },
    {
      "cell_type": "code",
      "execution_count": null,
      "metadata": {
        "id": "o8UG8kuA4rz5"
      },
      "outputs": [],
      "source": [
        "# Quitamos los valores atípicos para la variable price\n",
        "q998=df_airbnb['price'].quantile(0.998)\n",
        "\n",
        "df_airbnb = df_airbnb[df_airbnb['price']<=q998]"
      ],
      "id": "o8UG8kuA4rz5"
    },
    {
      "cell_type": "code",
      "execution_count": null,
      "metadata": {
        "id": "yNks8x7y4y7T",
        "colab": {
          "base_uri": "https://localhost:8080/",
          "height": 220
        },
        "outputId": "e6674bf1-3827-4435-8aaf-aaed851e2844"
      },
      "outputs": [
        {
          "output_type": "display_data",
          "data": {
            "text/plain": [
              "<Figure size 2160x360 with 1 Axes>"
            ],
            "image/png": "[encoded data removed]"
          },
          "metadata": {
            "needs_background": "light"
          }
        }
      ],
      "source": [
        "# Distribución de la variable price sin valores atípicos\n",
        "seaborn.displot(df_airbnb['price'], aspect=6)\n",
        "plt.ticklabel_format(style='plain', axis='x')"
      ],
      "id": "yNks8x7y4y7T"
    },
    {
      "cell_type": "code",
      "execution_count": null,
      "metadata": {
        "id": "iA6PlSLa46lx",
        "colab": {
          "base_uri": "https://localhost:8080/"
        },
        "outputId": "eec3d52d-4835-4d8d-ffc5-88f6ed0908eb"
      },
      "outputs": [
        {
          "output_type": "execute_result",
          "data": {
            "text/plain": [
              "count    22852.000000\n",
              "mean       142.640732\n",
              "std        130.043500\n",
              "min          0.000000\n",
              "25%         71.000000\n",
              "50%        109.000000\n",
              "75%        165.000000\n",
              "max       1501.000000\n",
              "Name: price, dtype: float64"
            ]
          },
          "metadata": {},
          "execution_count": 49
        }
      ],
      "source": [
        "# Medidas resumen de la variable price sin valores atípicos\n",
        "df_airbnb['price'].describe()"
      ],
      "id": "iA6PlSLa46lx"
    },
    {
      "cell_type": "markdown",
      "metadata": {
        "id": "vtQ-bdh35DCy"
      },
      "source": [
        "**Exploración de la variable monthly_price**"
      ],
      "id": "vtQ-bdh35DCy"
    },
    {
      "cell_type": "code",
      "execution_count": null,
      "metadata": {
        "id": "sDDc3fXe5Dxv",
        "colab": {
          "base_uri": "https://localhost:8080/",
          "height": 220
        },
        "outputId": "ac9d77fc-02f2-4957-8cfa-be155f518579"
      },
      "outputs": [
        {
          "output_type": "display_data",
          "data": {
            "text/plain": [
              "<Figure size 2160x360 with 1 Axes>"
            ],
            "image/png": "[encoded data removed]"
          },
          "metadata": {
            "needs_background": "light"
          }
        }
      ],
      "source": [
        "# Distribución de la variable monthly_price\n",
        "seaborn.displot(df_airbnb['monthly_price'], aspect=6)\n",
        "plt.ticklabel_format(style='plain', axis='x')"
      ],
      "id": "sDDc3fXe5Dxv"
    },
    {
      "cell_type": "code",
      "execution_count": null,
      "metadata": {
        "id": "mCXbZcRU5Nbz",
        "colab": {
          "base_uri": "https://localhost:8080/"
        },
        "outputId": "785b0dd9-4820-465f-e9b3-acfa8cef4c6b"
      },
      "outputs": [
        {
          "output_type": "execute_result",
          "data": {
            "text/plain": [
              "count     1889.000000\n",
              "mean      3200.462679\n",
              "std       2608.618552\n",
              "min        400.000000\n",
              "25%       1700.000000\n",
              "50%       2800.000000\n",
              "75%       3900.000000\n",
              "max      54258.000000\n",
              "Name: monthly_price, dtype: float64"
            ]
          },
          "metadata": {},
          "execution_count": 51
        }
      ],
      "source": [
        "# Medidas resumen de la variable monthly_price\n",
        "df_airbnb['monthly_price'].describe()"
      ],
      "id": "mCXbZcRU5Nbz"
    },
    {
      "cell_type": "markdown",
      "metadata": {
        "id": "mgxd5gXT5SV-"
      },
      "source": [
        "**Exploración de la variable weekly_price**"
      ],
      "id": "mgxd5gXT5SV-"
    },
    {
      "cell_type": "code",
      "execution_count": null,
      "metadata": {
        "id": "KgqV9Ktd5TSq",
        "colab": {
          "base_uri": "https://localhost:8080/",
          "height": 220
        },
        "outputId": "65b9f06e-2f4a-4889-9ac6-b6625d649516"
      },
      "outputs": [
        {
          "output_type": "display_data",
          "data": {
            "text/plain": [
              "<Figure size 2160x360 with 1 Axes>"
            ],
            "image/png": "[encoded data removed]"
          },
          "metadata": {
            "needs_background": "light"
          }
        }
      ],
      "source": [
        "# Distribución de la variable weekly_price\n",
        "seaborn.displot(df_airbnb['weekly_price'], aspect=6)\n",
        "plt.ticklabel_format(style='plain', axis='x')"
      ],
      "id": "KgqV9Ktd5TSq"
    },
    {
      "cell_type": "code",
      "execution_count": null,
      "metadata": {
        "id": "nlRPRBXz5X2Z",
        "colab": {
          "base_uri": "https://localhost:8080/"
        },
        "outputId": "fcfd0dbc-39ce-47aa-9fea-4fbc0e37e084"
      },
      "outputs": [
        {
          "output_type": "execute_result",
          "data": {
            "text/plain": [
              "count    2520.000000\n",
              "mean      891.958333\n",
              "std       729.128422\n",
              "min        91.000000\n",
              "25%       450.000000\n",
              "50%       747.000000\n",
              "75%      1060.000000\n",
              "max      9899.000000\n",
              "Name: weekly_price, dtype: float64"
            ]
          },
          "metadata": {},
          "execution_count": 53
        }
      ],
      "source": [
        "# Medidas resumen de la variable weekly_price\n",
        "df_airbnb['weekly_price'].describe()"
      ],
      "id": "nlRPRBXz5X2Z"
    },
    {
      "cell_type": "markdown",
      "metadata": {
        "id": "eh65eBEk5bCG"
      },
      "source": [
        "Notar que las variables price, monthly_price y weekly_price tienen distribuciones asimétricas a derecha. Por esta razón creemos conveniente utilizar la mediana en lugar de la media como medida de posición central. "
      ],
      "id": "eh65eBEk5bCG"
    },
    {
      "cell_type": "markdown",
      "metadata": {
        "id": "8Xbi5H-S5da6"
      },
      "source": [
        "**Exploración de la variable zipcode**"
      ],
      "id": "8Xbi5H-S5da6"
    },
    {
      "cell_type": "code",
      "execution_count": null,
      "metadata": {
        "id": "89vPoNRD5jNr",
        "colab": {
          "base_uri": "https://localhost:8080/",
          "height": 363
        },
        "outputId": "726d275e-6dee-4045-a971-516954072732"
      },
      "outputs": [
        {
          "output_type": "execute_result",
          "data": {
            "text/plain": [
              "   Zipcode  frequency\n",
              "0   3000.0       3363\n",
              "1   3006.0       1263\n",
              "2   3182.0       1133\n",
              "3   3141.0        877\n",
              "4   3004.0        727\n",
              "5   3121.0        628\n",
              "6   3008.0        616\n",
              "7   3053.0        538\n",
              "8   3181.0        460\n",
              "9   3056.0        446"
            ],
            "text/html": [
              "\n",
              "  <div id=\"df-c8fff644-1e25-451c-9f04-52a6a8e42869\">\n",
              "    <div class=\"colab-df-container\">\n",
              "      <div>\n",
              "<style scoped>\n",
              "    .dataframe tbody tr th:only-of-type {\n",
              "        vertical-align: middle;\n",
              "    }\n",
              "\n",
              "    .dataframe tbody tr th {\n",
              "        vertical-align: top;\n",
              "    }\n",
              "\n",
              "    .dataframe thead th {\n",
              "        text-align: right;\n",
              "    }\n",
              "</style>\n",
              "<table border=\"1\" class=\"dataframe\">\n",
              "  <thead>\n",
              "    <tr style=\"text-align: right;\">\n",
              "      <th></th>\n",
              "      <th>Zipcode</th>\n",
              "      <th>frequency</th>\n",
              "    </tr>\n",
              "  </thead>\n",
              "  <tbody>\n",
              "    <tr>\n",
              "      <th>0</th>\n",
              "      <td>3000.0</td>\n",
              "      <td>3363</td>\n",
              "    </tr>\n",
              "    <tr>\n",
              "      <th>1</th>\n",
              "      <td>3006.0</td>\n",
              "      <td>1263</td>\n",
              "    </tr>\n",
              "    <tr>\n",
              "      <th>2</th>\n",
              "      <td>3182.0</td>\n",
              "      <td>1133</td>\n",
              "    </tr>\n",
              "    <tr>\n",
              "      <th>3</th>\n",
              "      <td>3141.0</td>\n",
              "      <td>877</td>\n",
              "    </tr>\n",
              "    <tr>\n",
              "      <th>4</th>\n",
              "      <td>3004.0</td>\n",
              "      <td>727</td>\n",
              "    </tr>\n",
              "    <tr>\n",
              "      <th>5</th>\n",
              "      <td>3121.0</td>\n",
              "      <td>628</td>\n",
              "    </tr>\n",
              "    <tr>\n",
              "      <th>6</th>\n",
              "      <td>3008.0</td>\n",
              "      <td>616</td>\n",
              "    </tr>\n",
              "    <tr>\n",
              "      <th>7</th>\n",
              "      <td>3053.0</td>\n",
              "      <td>538</td>\n",
              "    </tr>\n",
              "    <tr>\n",
              "      <th>8</th>\n",
              "      <td>3181.0</td>\n",
              "      <td>460</td>\n",
              "    </tr>\n",
              "    <tr>\n",
              "      <th>9</th>\n",
              "      <td>3056.0</td>\n",
              "      <td>446</td>\n",
              "    </tr>\n",
              "  </tbody>\n",
              "</table>\n",
              "</div>\n",
              "      <button class=\"colab-df-convert\" onclick=\"convertToInteractive('df-c8fff644-1e25-451c-9f04-52a6a8e42869')\"\n",
              "              title=\"Convert this dataframe to an interactive table.\"\n",
              "              style=\"display:none;\">\n",
              "        \n",
              "  <svg xmlns=\"http://www.w3.org/2000/svg\" height=\"24px\"viewBox=\"0 0 24 24\"\n",
              "       width=\"24px\">\n",
              "    <path d=\"M0 0h24v24H0V0z\" fill=\"none\"/>\n",
              "    <path d=\"M18.56 5.44l.94 2.06.94-2.06 2.06-.94-2.06-.94-.94-2.06-.94 2.06-2.06.94zm-11 1L8.5 8.5l.94-2.06 2.06-.94-2.06-.94L8.5 2.5l-.94 2.06-2.06.94zm10 10l.94 2.06.94-2.06 2.06-.94-2.06-.94-.94-2.06-.94 2.06-2.06.94z\"/><path d=\"M17.41 7.96l-1.37-1.37c-.4-.4-.92-.59-1.43-.59-.52 0-1.04.2-1.43.59L10.3 9.45l-7.72 7.72c-.78.78-.78 2.05 0 2.83L4 21.41c.39.39.9.59 1.41.59.51 0 1.02-.2 1.41-.59l7.78-7.78 2.81-2.81c.8-.78.8-2.07 0-2.86zM5.41 20L4 18.59l7.72-7.72 1.47 1.35L5.41 20z\"/>\n",
              "  </svg>\n",
              "      </button>\n",
              "      \n",
              "  <style>\n",
              "    .colab-df-container {\n",
              "      display:flex;\n",
              "      flex-wrap:wrap;\n",
              "      gap: 12px;\n",
              "    }\n",
              "\n",
              "    .colab-df-convert {\n",
              "      background-color: #E8F0FE;\n",
              "      border: none;\n",
              "      border-radius: 50%;\n",
              "      cursor: pointer;\n",
              "      display: none;\n",
              "      fill: #1967D2;\n",
              "      height: 32px;\n",
              "      padding: 0 0 0 0;\n",
              "      width: 32px;\n",
              "    }\n",
              "\n",
              "    .colab-df-convert:hover {\n",
              "      background-color: #E2EBFA;\n",
              "      box-shadow: 0px 1px 2px rgba(60, 64, 67, 0.3), 0px 1px 3px 1px rgba(60, 64, 67, 0.15);\n",
              "      fill: #174EA6;\n",
              "    }\n",
              "\n",
              "    [theme=dark] .colab-df-convert {\n",
              "      background-color: #3B4455;\n",
              "      fill: #D2E3FC;\n",
              "    }\n",
              "\n",
              "    [theme=dark] .colab-df-convert:hover {\n",
              "      background-color: #434B5C;\n",
              "      box-shadow: 0px 1px 3px 1px rgba(0, 0, 0, 0.15);\n",
              "      filter: drop-shadow(0px 1px 2px rgba(0, 0, 0, 0.3));\n",
              "      fill: #FFFFFF;\n",
              "    }\n",
              "  </style>\n",
              "\n",
              "      <script>\n",
              "        const buttonEl =\n",
              "          document.querySelector('#df-c8fff644-1e25-451c-9f04-52a6a8e42869 button.colab-df-convert');\n",
              "        buttonEl.style.display =\n",
              "          google.colab.kernel.accessAllowed ? 'block' : 'none';\n",
              "\n",
              "        async function convertToInteractive(key) {\n",
              "          const element = document.querySelector('#df-c8fff644-1e25-451c-9f04-52a6a8e42869');\n",
              "          const dataTable =\n",
              "            await google.colab.kernel.invokeFunction('convertToInteractive',\n",
              "                                                     [key], {});\n",
              "          if (!dataTable) return;\n",
              "\n",
              "          const docLinkHtml = 'Like what you see? Visit the ' +\n",
              "            '<a target=\"_blank\" href=https://colab.research.google.com/notebooks/data_table.ipynb>data table notebook</a>'\n",
              "            + ' to learn more about interactive tables.';\n",
              "          element.innerHTML = '';\n",
              "          dataTable['output_type'] = 'display_data';\n",
              "          await google.colab.output.renderOutput(dataTable, element);\n",
              "          const docLink = document.createElement('div');\n",
              "          docLink.innerHTML = docLinkHtml;\n",
              "          element.appendChild(docLink);\n",
              "        }\n",
              "      </script>\n",
              "    </div>\n",
              "  </div>\n",
              "  "
            ]
          },
          "metadata": {},
          "execution_count": 54
        }
      ],
      "source": [
        "# Freciuencias absolutas zipcode para df_airbnb\n",
        "zipcode_count = df_airbnb.zipcode.value_counts()\\\n",
        "    .reset_index()\\\n",
        "    .rename(columns={'index': 'Zipcode', 'zipcode': 'frequency'})\n",
        "zipcode_count[:10]"
      ],
      "id": "89vPoNRD5jNr"
    },
    {
      "cell_type": "code",
      "execution_count": null,
      "metadata": {
        "id": "t9MS0bQg5nkT",
        "colab": {
          "base_uri": "https://localhost:8080/"
        },
        "outputId": "7220710c-1a2f-4922-e9c5-aa41275e3d09"
      },
      "outputs": [
        {
          "output_type": "execute_result",
          "data": {
            "text/plain": [
              "count     247.000000\n",
              "mean       91.931174\n",
              "std       261.520444\n",
              "min         1.000000\n",
              "25%         8.500000\n",
              "50%        27.000000\n",
              "75%        73.000000\n",
              "max      3363.000000\n",
              "Name: zipcode, dtype: float64"
            ]
          },
          "metadata": {},
          "execution_count": 55
        }
      ],
      "source": [
        "# Medidas resumen para las frecuencias de zipcode\n",
        "df_airbnb.zipcode.value_counts().describe()"
      ],
      "id": "t9MS0bQg5nkT"
    },
    {
      "cell_type": "markdown",
      "metadata": {
        "id": "RNv5_y_Z5q1T"
      },
      "source": [
        "Tomaremos aquellos zipcodes con frecuencias mayores o iguales a 9, ya que a partir de esa frecuencias creemos que son relevantes. "
      ],
      "id": "RNv5_y_Z5q1T"
    },
    {
      "cell_type": "code",
      "execution_count": null,
      "metadata": {
        "id": "X0AsieGD5sqE"
      },
      "outputs": [],
      "source": [
        "# Quitamos de la base df_airbnb aquellos zipcodes con frecuencias menores a 9\n",
        "zipcode_principales= zipcode_count[zipcode_count['frequency'] >= 9]\n",
        "\n",
        "df_airbnb = df_airbnb[df_airbnb['zipcode'].isin(zipcode_principales['Zipcode'])]"
      ],
      "id": "X0AsieGD5sqE"
    },
    {
      "cell_type": "code",
      "execution_count": null,
      "metadata": {
        "id": "-n168m1D5wht",
        "colab": {
          "base_uri": "https://localhost:8080/"
        },
        "outputId": "bb389c9e-1d69-4316-a8fb-51b7b5208479"
      },
      "outputs": [
        {
          "output_type": "execute_result",
          "data": {
            "text/plain": [
              "count     185.000000\n",
              "mean      121.427027\n",
              "std       296.565882\n",
              "min         9.000000\n",
              "25%        21.000000\n",
              "50%        42.000000\n",
              "75%       104.000000\n",
              "max      3363.000000\n",
              "Name: zipcode, dtype: float64"
            ]
          },
          "metadata": {},
          "execution_count": 57
        }
      ],
      "source": [
        "df_airbnb['zipcode'].value_counts().describe()"
      ],
      "id": "-n168m1D5wht"
    },
    {
      "cell_type": "markdown",
      "metadata": {
        "id": "DttjenC05zrT"
      },
      "source": [
        "A continuación agrupamos los precios, precios semanales y precios mensuales por código postal tomando la mediana, ya que vimos en el análisis exploratorio que las distribuciones son asimétricas a derecha. "
      ],
      "id": "DttjenC05zrT"
    },
    {
      "cell_type": "code",
      "execution_count": null,
      "metadata": {
        "id": "mQkz2s9253z2"
      },
      "outputs": [],
      "source": [
        "# Agrupación de los precios por códigos postales de la base df_airbnb considerando la mediana.\n",
        "relevant_cols = ['price', 'weekly_price', 'monthly_price', 'zipcode']\n",
        "\n",
        "# Pass a dictionary where the keys are the original columns to aggregate and\n",
        "# the values are the operations (or list of operations).\n",
        "airbnb_price_by_zipcode = df_airbnb[relevant_cols].groupby('zipcode')\\\n",
        "  .agg({'price': ['median', 'count'], 'weekly_price': 'median',\n",
        "        'monthly_price': 'median'})\\\n",
        "  .reset_index()\n",
        "# Flatten the two level columns\n",
        "airbnb_price_by_zipcode.columns = [\n",
        "  ' '.join(col).strip()\n",
        "  for col in airbnb_price_by_zipcode.columns.values]\n",
        "# Rename columns\n",
        "airbnb_price_by_zipcode = airbnb_price_by_zipcode.rename(\n",
        "    columns={'price median': 'airbnb_price_median',\n",
        "             'price count': 'airbnb_record_count',\n",
        "             'weekly_price median': 'airbnb_weekly_price_median',\n",
        "             'monthly_price median': 'airbnb_monthly_price_median'}\n",
        ")"
      ],
      "id": "mQkz2s9253z2"
    },
    {
      "cell_type": "code",
      "execution_count": null,
      "metadata": {
        "id": "3uX4e1vd5--9",
        "colab": {
          "base_uri": "https://localhost:8080/",
          "height": 363
        },
        "outputId": "5ba27a95-d90b-4bc1-f447-3bbbede37ecb"
      },
      "outputs": [
        {
          "output_type": "execute_result",
          "data": {
            "text/plain": [
              "   zipcode  airbnb_price_median  airbnb_record_count  \\\n",
              "0   3000.0                129.0                 3363   \n",
              "1   3002.0                130.0                  196   \n",
              "2   3003.0                120.0                  267   \n",
              "3   3004.0                130.0                  727   \n",
              "4   3006.0                150.0                 1263   \n",
              "5   3008.0                138.0                  616   \n",
              "6   3011.0                 65.0                  198   \n",
              "7   3012.0                 90.5                   76   \n",
              "8   3013.0                108.5                   82   \n",
              "9   3015.0                 96.0                   65   \n",
              "\n",
              "   airbnb_weekly_price_median  airbnb_monthly_price_median  \n",
              "0                       857.0                       3469.0  \n",
              "1                       775.0                       3300.0  \n",
              "2                       728.0                       2500.0  \n",
              "3                      1000.0                       3895.0  \n",
              "4                      1099.5                       3955.0  \n",
              "5                       850.0                       2902.0  \n",
              "6                       350.0                       1300.0  \n",
              "7                       365.0                       1900.0  \n",
              "8                       800.0                       2000.0  \n",
              "9                       559.5                       1974.0  "
            ],
            "text/html": [
              "\n",
              "  <div id=\"df-77122242-55a6-4568-972b-5910c5c48c44\">\n",
              "    <div class=\"colab-df-container\">\n",
              "      <div>\n",
              "<style scoped>\n",
              "    .dataframe tbody tr th:only-of-type {\n",
              "        vertical-align: middle;\n",
              "    }\n",
              "\n",
              "    .dataframe tbody tr th {\n",
              "        vertical-align: top;\n",
              "    }\n",
              "\n",
              "    .dataframe thead th {\n",
              "        text-align: right;\n",
              "    }\n",
              "</style>\n",
              "<table border=\"1\" class=\"dataframe\">\n",
              "  <thead>\n",
              "    <tr style=\"text-align: right;\">\n",
              "      <th></th>\n",
              "      <th>zipcode</th>\n",
              "      <th>airbnb_price_median</th>\n",
              "      <th>airbnb_record_count</th>\n",
              "      <th>airbnb_weekly_price_median</th>\n",
              "      <th>airbnb_monthly_price_median</th>\n",
              "    </tr>\n",
              "  </thead>\n",
              "  <tbody>\n",
              "    <tr>\n",
              "      <th>0</th>\n",
              "      <td>3000.0</td>\n",
              "      <td>129.0</td>\n",
              "      <td>3363</td>\n",
              "      <td>857.0</td>\n",
              "      <td>3469.0</td>\n",
              "    </tr>\n",
              "    <tr>\n",
              "      <th>1</th>\n",
              "      <td>3002.0</td>\n",
              "      <td>130.0</td>\n",
              "      <td>196</td>\n",
              "      <td>775.0</td>\n",
              "      <td>3300.0</td>\n",
              "    </tr>\n",
              "    <tr>\n",
              "      <th>2</th>\n",
              "      <td>3003.0</td>\n",
              "      <td>120.0</td>\n",
              "      <td>267</td>\n",
              "      <td>728.0</td>\n",
              "      <td>2500.0</td>\n",
              "    </tr>\n",
              "    <tr>\n",
              "      <th>3</th>\n",
              "      <td>3004.0</td>\n",
              "      <td>130.0</td>\n",
              "      <td>727</td>\n",
              "      <td>1000.0</td>\n",
              "      <td>3895.0</td>\n",
              "    </tr>\n",
              "    <tr>\n",
              "      <th>4</th>\n",
              "      <td>3006.0</td>\n",
              "      <td>150.0</td>\n",
              "      <td>1263</td>\n",
              "      <td>1099.5</td>\n",
              "      <td>3955.0</td>\n",
              "    </tr>\n",
              "    <tr>\n",
              "      <th>5</th>\n",
              "      <td>3008.0</td>\n",
              "      <td>138.0</td>\n",
              "      <td>616</td>\n",
              "      <td>850.0</td>\n",
              "      <td>2902.0</td>\n",
              "    </tr>\n",
              "    <tr>\n",
              "      <th>6</th>\n",
              "      <td>3011.0</td>\n",
              "      <td>65.0</td>\n",
              "      <td>198</td>\n",
              "      <td>350.0</td>\n",
              "      <td>1300.0</td>\n",
              "    </tr>\n",
              "    <tr>\n",
              "      <th>7</th>\n",
              "      <td>3012.0</td>\n",
              "      <td>90.5</td>\n",
              "      <td>76</td>\n",
              "      <td>365.0</td>\n",
              "      <td>1900.0</td>\n",
              "    </tr>\n",
              "    <tr>\n",
              "      <th>8</th>\n",
              "      <td>3013.0</td>\n",
              "      <td>108.5</td>\n",
              "      <td>82</td>\n",
              "      <td>800.0</td>\n",
              "      <td>2000.0</td>\n",
              "    </tr>\n",
              "    <tr>\n",
              "      <th>9</th>\n",
              "      <td>3015.0</td>\n",
              "      <td>96.0</td>\n",
              "      <td>65</td>\n",
              "      <td>559.5</td>\n",
              "      <td>1974.0</td>\n",
              "    </tr>\n",
              "  </tbody>\n",
              "</table>\n",
              "</div>\n",
              "      <button class=\"colab-df-convert\" onclick=\"convertToInteractive('df-77122242-55a6-4568-972b-5910c5c48c44')\"\n",
              "              title=\"Convert this dataframe to an interactive table.\"\n",
              "              style=\"display:none;\">\n",
              "        \n",
              "  <svg xmlns=\"http://www.w3.org/2000/svg\" height=\"24px\"viewBox=\"0 0 24 24\"\n",
              "       width=\"24px\">\n",
              "    <path d=\"M0 0h24v24H0V0z\" fill=\"none\"/>\n",
              "    <path d=\"M18.56 5.44l.94 2.06.94-2.06 2.06-.94-2.06-.94-.94-2.06-.94 2.06-2.06.94zm-11 1L8.5 8.5l.94-2.06 2.06-.94-2.06-.94L8.5 2.5l-.94 2.06-2.06.94zm10 10l.94 2.06.94-2.06 2.06-.94-2.06-.94-.94-2.06-.94 2.06-2.06.94z\"/><path d=\"M17.41 7.96l-1.37-1.37c-.4-.4-.92-.59-1.43-.59-.52 0-1.04.2-1.43.59L10.3 9.45l-7.72 7.72c-.78.78-.78 2.05 0 2.83L4 21.41c.39.39.9.59 1.41.59.51 0 1.02-.2 1.41-.59l7.78-7.78 2.81-2.81c.8-.78.8-2.07 0-2.86zM5.41 20L4 18.59l7.72-7.72 1.47 1.35L5.41 20z\"/>\n",
              "  </svg>\n",
              "      </button>\n",
              "      \n",
              "  <style>\n",
              "    .colab-df-container {\n",
              "      display:flex;\n",
              "      flex-wrap:wrap;\n",
              "      gap: 12px;\n",
              "    }\n",
              "\n",
              "    .colab-df-convert {\n",
              "      background-color: #E8F0FE;\n",
              "      border: none;\n",
              "      border-radius: 50%;\n",
              "      cursor: pointer;\n",
              "      display: none;\n",
              "      fill: #1967D2;\n",
              "      height: 32px;\n",
              "      padding: 0 0 0 0;\n",
              "      width: 32px;\n",
              "    }\n",
              "\n",
              "    .colab-df-convert:hover {\n",
              "      background-color: #E2EBFA;\n",
              "      box-shadow: 0px 1px 2px rgba(60, 64, 67, 0.3), 0px 1px 3px 1px rgba(60, 64, 67, 0.15);\n",
              "      fill: #174EA6;\n",
              "    }\n",
              "\n",
              "    [theme=dark] .colab-df-convert {\n",
              "      background-color: #3B4455;\n",
              "      fill: #D2E3FC;\n",
              "    }\n",
              "\n",
              "    [theme=dark] .colab-df-convert:hover {\n",
              "      background-color: #434B5C;\n",
              "      box-shadow: 0px 1px 3px 1px rgba(0, 0, 0, 0.15);\n",
              "      filter: drop-shadow(0px 1px 2px rgba(0, 0, 0, 0.3));\n",
              "      fill: #FFFFFF;\n",
              "    }\n",
              "  </style>\n",
              "\n",
              "      <script>\n",
              "        const buttonEl =\n",
              "          document.querySelector('#df-77122242-55a6-4568-972b-5910c5c48c44 button.colab-df-convert');\n",
              "        buttonEl.style.display =\n",
              "          google.colab.kernel.accessAllowed ? 'block' : 'none';\n",
              "\n",
              "        async function convertToInteractive(key) {\n",
              "          const element = document.querySelector('#df-77122242-55a6-4568-972b-5910c5c48c44');\n",
              "          const dataTable =\n",
              "            await google.colab.kernel.invokeFunction('convertToInteractive',\n",
              "                                                     [key], {});\n",
              "          if (!dataTable) return;\n",
              "\n",
              "          const docLinkHtml = 'Like what you see? Visit the ' +\n",
              "            '<a target=\"_blank\" href=https://colab.research.google.com/notebooks/data_table.ipynb>data table notebook</a>'\n",
              "            + ' to learn more about interactive tables.';\n",
              "          element.innerHTML = '';\n",
              "          dataTable['output_type'] = 'display_data';\n",
              "          await google.colab.output.renderOutput(dataTable, element);\n",
              "          const docLink = document.createElement('div');\n",
              "          docLink.innerHTML = docLinkHtml;\n",
              "          element.appendChild(docLink);\n",
              "        }\n",
              "      </script>\n",
              "    </div>\n",
              "  </div>\n",
              "  "
            ]
          },
          "metadata": {},
          "execution_count": 59
        }
      ],
      "source": [
        "airbnb_price_by_zipcode[:10]"
      ],
      "id": "3uX4e1vd5--9"
    },
    {
      "cell_type": "markdown",
      "metadata": {
        "id": "o__wGLrL6Ccn"
      },
      "source": [
        "Por último combinamos las bases df_melb y df_airbnb a través de un left merge. "
      ],
      "id": "o__wGLrL6Ccn"
    },
    {
      "cell_type": "code",
      "execution_count": null,
      "metadata": {
        "id": "i52AWUqT6FZe",
        "colab": {
          "base_uri": "https://localhost:8080/",
          "height": 386
        },
        "outputId": "b595487c-6369-4506-e9a5-9a638d4628a5"
      },
      "outputs": [
        {
          "output_type": "execute_result",
          "data": {
            "text/plain": [
              "            Suburb             Regionname  Rooms Type      Price        Date  \\\n",
              "8320      St Kilda  Southern Metropolitan      3    u  1190000.0  29/04/2017   \n",
              "9227   Tullamarine   Western Metropolitan      2    t   355000.0   3/06/2017   \n",
              "5847      St Kilda  Southern Metropolitan      2    u   580000.0  27/11/2016   \n",
              "6691    Yarraville   Western Metropolitan      3    h   840000.0  28/08/2016   \n",
              "10063       Epping  Northern Metropolitan      3    h   573000.0  27/05/2017   \n",
              "\n",
              "       Distance  Postcode  Bedroom2  Bathroom  ...  BuildingArea  YearBuilt  \\\n",
              "8320        6.1    3182.0       3.0       1.0  ...         140.0     1955.0   \n",
              "9227       12.9    3043.0       2.0       1.0  ...           NaN        NaN   \n",
              "5847        6.1    3182.0       2.0       1.0  ...         102.0     1995.0   \n",
              "6691        7.0    3013.0       4.0       1.0  ...         127.0     1970.0   \n",
              "10063      19.6    3076.0       3.0       2.0  ...         125.0     1990.0   \n",
              "\n",
              "       Lattitude  Longtitude  Propertycount  zipcode  airbnb_price_median  \\\n",
              "8320   -37.86230   144.97720        13240.0   3182.0                118.0   \n",
              "9227   -37.68837   144.87122         3296.0   3043.0                 71.0   \n",
              "5847   -37.85680   144.98730        13240.0   3182.0                118.0   \n",
              "6691   -37.82200   144.89040         6543.0   3013.0                108.5   \n",
              "10063  -37.64097   145.05757        10926.0   3076.0                 48.0   \n",
              "\n",
              "       airbnb_record_count  airbnb_weekly_price_median  \\\n",
              "8320                1133.0                       815.0   \n",
              "9227                  29.0                       700.0   \n",
              "5847                1133.0                       815.0   \n",
              "6691                  82.0                       800.0   \n",
              "10063                 17.0                       435.0   \n",
              "\n",
              "       airbnb_monthly_price_median  \n",
              "8320                        3100.0  \n",
              "9227                        1502.0  \n",
              "5847                        3100.0  \n",
              "6691                        2000.0  \n",
              "10063                       1620.0  \n",
              "\n",
              "[5 rows x 22 columns]"
            ],
            "text/html": [
              "\n",
              "  <div id=\"df-30665b50-1e67-4358-9a17-52346cfb9955\">\n",
              "    <div class=\"colab-df-container\">\n",
              "      <div>\n",
              "<style scoped>\n",
              "    .dataframe tbody tr th:only-of-type {\n",
              "        vertical-align: middle;\n",
              "    }\n",
              "\n",
              "    .dataframe tbody tr th {\n",
              "        vertical-align: top;\n",
              "    }\n",
              "\n",
              "    .dataframe thead th {\n",
              "        text-align: right;\n",
              "    }\n",
              "</style>\n",
              "<table border=\"1\" class=\"dataframe\">\n",
              "  <thead>\n",
              "    <tr style=\"text-align: right;\">\n",
              "      <th></th>\n",
              "      <th>Suburb</th>\n",
              "      <th>Regionname</th>\n",
              "      <th>Rooms</th>\n",
              "      <th>Type</th>\n",
              "      <th>Price</th>\n",
              "      <th>Date</th>\n",
              "      <th>Distance</th>\n",
              "      <th>Postcode</th>\n",
              "      <th>Bedroom2</th>\n",
              "      <th>Bathroom</th>\n",
              "      <th>...</th>\n",
              "      <th>BuildingArea</th>\n",
              "      <th>YearBuilt</th>\n",
              "      <th>Lattitude</th>\n",
              "      <th>Longtitude</th>\n",
              "      <th>Propertycount</th>\n",
              "      <th>zipcode</th>\n",
              "      <th>airbnb_price_median</th>\n",
              "      <th>airbnb_record_count</th>\n",
              "      <th>airbnb_weekly_price_median</th>\n",
              "      <th>airbnb_monthly_price_median</th>\n",
              "    </tr>\n",
              "  </thead>\n",
              "  <tbody>\n",
              "    <tr>\n",
              "      <th>8320</th>\n",
              "      <td>St Kilda</td>\n",
              "      <td>Southern Metropolitan</td>\n",
              "      <td>3</td>\n",
              "      <td>u</td>\n",
              "      <td>1190000.0</td>\n",
              "      <td>29/04/2017</td>\n",
              "      <td>6.1</td>\n",
              "      <td>3182.0</td>\n",
              "      <td>3.0</td>\n",
              "      <td>1.0</td>\n",
              "      <td>...</td>\n",
              "      <td>140.0</td>\n",
              "      <td>1955.0</td>\n",
              "      <td>-37.86230</td>\n",
              "      <td>144.97720</td>\n",
              "      <td>13240.0</td>\n",
              "      <td>3182.0</td>\n",
              "      <td>118.0</td>\n",
              "      <td>1133.0</td>\n",
              "      <td>815.0</td>\n",
              "      <td>3100.0</td>\n",
              "    </tr>\n",
              "    <tr>\n",
              "      <th>9227</th>\n",
              "      <td>Tullamarine</td>\n",
              "      <td>Western Metropolitan</td>\n",
              "      <td>2</td>\n",
              "      <td>t</td>\n",
              "      <td>355000.0</td>\n",
              "      <td>3/06/2017</td>\n",
              "      <td>12.9</td>\n",
              "      <td>3043.0</td>\n",
              "      <td>2.0</td>\n",
              "      <td>1.0</td>\n",
              "      <td>...</td>\n",
              "      <td>NaN</td>\n",
              "      <td>NaN</td>\n",
              "      <td>-37.68837</td>\n",
              "      <td>144.87122</td>\n",
              "      <td>3296.0</td>\n",
              "      <td>3043.0</td>\n",
              "      <td>71.0</td>\n",
              "      <td>29.0</td>\n",
              "      <td>700.0</td>\n",
              "      <td>1502.0</td>\n",
              "    </tr>\n",
              "    <tr>\n",
              "      <th>5847</th>\n",
              "      <td>St Kilda</td>\n",
              "      <td>Southern Metropolitan</td>\n",
              "      <td>2</td>\n",
              "      <td>u</td>\n",
              "      <td>580000.0</td>\n",
              "      <td>27/11/2016</td>\n",
              "      <td>6.1</td>\n",
              "      <td>3182.0</td>\n",
              "      <td>2.0</td>\n",
              "      <td>1.0</td>\n",
              "      <td>...</td>\n",
              "      <td>102.0</td>\n",
              "      <td>1995.0</td>\n",
              "      <td>-37.85680</td>\n",
              "      <td>144.98730</td>\n",
              "      <td>13240.0</td>\n",
              "      <td>3182.0</td>\n",
              "      <td>118.0</td>\n",
              "      <td>1133.0</td>\n",
              "      <td>815.0</td>\n",
              "      <td>3100.0</td>\n",
              "    </tr>\n",
              "    <tr>\n",
              "      <th>6691</th>\n",
              "      <td>Yarraville</td>\n",
              "      <td>Western Metropolitan</td>\n",
              "      <td>3</td>\n",
              "      <td>h</td>\n",
              "      <td>840000.0</td>\n",
              "      <td>28/08/2016</td>\n",
              "      <td>7.0</td>\n",
              "      <td>3013.0</td>\n",
              "      <td>4.0</td>\n",
              "      <td>1.0</td>\n",
              "      <td>...</td>\n",
              "      <td>127.0</td>\n",
              "      <td>1970.0</td>\n",
              "      <td>-37.82200</td>\n",
              "      <td>144.89040</td>\n",
              "      <td>6543.0</td>\n",
              "      <td>3013.0</td>\n",
              "      <td>108.5</td>\n",
              "      <td>82.0</td>\n",
              "      <td>800.0</td>\n",
              "      <td>2000.0</td>\n",
              "    </tr>\n",
              "    <tr>\n",
              "      <th>10063</th>\n",
              "      <td>Epping</td>\n",
              "      <td>Northern Metropolitan</td>\n",
              "      <td>3</td>\n",
              "      <td>h</td>\n",
              "      <td>573000.0</td>\n",
              "      <td>27/05/2017</td>\n",
              "      <td>19.6</td>\n",
              "      <td>3076.0</td>\n",
              "      <td>3.0</td>\n",
              "      <td>2.0</td>\n",
              "      <td>...</td>\n",
              "      <td>125.0</td>\n",
              "      <td>1990.0</td>\n",
              "      <td>-37.64097</td>\n",
              "      <td>145.05757</td>\n",
              "      <td>10926.0</td>\n",
              "      <td>3076.0</td>\n",
              "      <td>48.0</td>\n",
              "      <td>17.0</td>\n",
              "      <td>435.0</td>\n",
              "      <td>1620.0</td>\n",
              "    </tr>\n",
              "  </tbody>\n",
              "</table>\n",
              "<p>5 rows × 22 columns</p>\n",
              "</div>\n",
              "      <button class=\"colab-df-convert\" onclick=\"convertToInteractive('df-30665b50-1e67-4358-9a17-52346cfb9955')\"\n",
              "              title=\"Convert this dataframe to an interactive table.\"\n",
              "              style=\"display:none;\">\n",
              "        \n",
              "  <svg xmlns=\"http://www.w3.org/2000/svg\" height=\"24px\"viewBox=\"0 0 24 24\"\n",
              "       width=\"24px\">\n",
              "    <path d=\"M0 0h24v24H0V0z\" fill=\"none\"/>\n",
              "    <path d=\"M18.56 5.44l.94 2.06.94-2.06 2.06-.94-2.06-.94-.94-2.06-.94 2.06-2.06.94zm-11 1L8.5 8.5l.94-2.06 2.06-.94-2.06-.94L8.5 2.5l-.94 2.06-2.06.94zm10 10l.94 2.06.94-2.06 2.06-.94-2.06-.94-.94-2.06-.94 2.06-2.06.94z\"/><path d=\"M17.41 7.96l-1.37-1.37c-.4-.4-.92-.59-1.43-.59-.52 0-1.04.2-1.43.59L10.3 9.45l-7.72 7.72c-.78.78-.78 2.05 0 2.83L4 21.41c.39.39.9.59 1.41.59.51 0 1.02-.2 1.41-.59l7.78-7.78 2.81-2.81c.8-.78.8-2.07 0-2.86zM5.41 20L4 18.59l7.72-7.72 1.47 1.35L5.41 20z\"/>\n",
              "  </svg>\n",
              "      </button>\n",
              "      \n",
              "  <style>\n",
              "    .colab-df-container {\n",
              "      display:flex;\n",
              "      flex-wrap:wrap;\n",
              "      gap: 12px;\n",
              "    }\n",
              "\n",
              "    .colab-df-convert {\n",
              "      background-color: #E8F0FE;\n",
              "      border: none;\n",
              "      border-radius: 50%;\n",
              "      cursor: pointer;\n",
              "      display: none;\n",
              "      fill: #1967D2;\n",
              "      height: 32px;\n",
              "      padding: 0 0 0 0;\n",
              "      width: 32px;\n",
              "    }\n",
              "\n",
              "    .colab-df-convert:hover {\n",
              "      background-color: #E2EBFA;\n",
              "      box-shadow: 0px 1px 2px rgba(60, 64, 67, 0.3), 0px 1px 3px 1px rgba(60, 64, 67, 0.15);\n",
              "      fill: #174EA6;\n",
              "    }\n",
              "\n",
              "    [theme=dark] .colab-df-convert {\n",
              "      background-color: #3B4455;\n",
              "      fill: #D2E3FC;\n",
              "    }\n",
              "\n",
              "    [theme=dark] .colab-df-convert:hover {\n",
              "      background-color: #434B5C;\n",
              "      box-shadow: 0px 1px 3px 1px rgba(0, 0, 0, 0.15);\n",
              "      filter: drop-shadow(0px 1px 2px rgba(0, 0, 0, 0.3));\n",
              "      fill: #FFFFFF;\n",
              "    }\n",
              "  </style>\n",
              "\n",
              "      <script>\n",
              "        const buttonEl =\n",
              "          document.querySelector('#df-30665b50-1e67-4358-9a17-52346cfb9955 button.colab-df-convert');\n",
              "        buttonEl.style.display =\n",
              "          google.colab.kernel.accessAllowed ? 'block' : 'none';\n",
              "\n",
              "        async function convertToInteractive(key) {\n",
              "          const element = document.querySelector('#df-30665b50-1e67-4358-9a17-52346cfb9955');\n",
              "          const dataTable =\n",
              "            await google.colab.kernel.invokeFunction('convertToInteractive',\n",
              "                                                     [key], {});\n",
              "          if (!dataTable) return;\n",
              "\n",
              "          const docLinkHtml = 'Like what you see? Visit the ' +\n",
              "            '<a target=\"_blank\" href=https://colab.research.google.com/notebooks/data_table.ipynb>data table notebook</a>'\n",
              "            + ' to learn more about interactive tables.';\n",
              "          element.innerHTML = '';\n",
              "          dataTable['output_type'] = 'display_data';\n",
              "          await google.colab.output.renderOutput(dataTable, element);\n",
              "          const docLink = document.createElement('div');\n",
              "          docLink.innerHTML = docLinkHtml;\n",
              "          element.appendChild(docLink);\n",
              "        }\n",
              "      </script>\n",
              "    </div>\n",
              "  </div>\n",
              "  "
            ]
          },
          "metadata": {},
          "execution_count": 60
        }
      ],
      "source": [
        "# Unión de las bases de datos df_melb y airbnb_price_by_zipcode a izquierda\n",
        "merged_sales_df = df_melb.merge(\n",
        "    airbnb_price_by_zipcode, how='left',\n",
        "    left_on='Postcode', right_on='zipcode'\n",
        ")\n",
        "merged_sales_df.sample(5)"
      ],
      "id": "i52AWUqT6FZe"
    },
    {
      "cell_type": "code",
      "execution_count": null,
      "metadata": {
        "id": "UHQff-ns6Kpg",
        "colab": {
          "base_uri": "https://localhost:8080/"
        },
        "outputId": "a0331481-69d7-4bde-918f-86bf8f1ee1c7"
      },
      "outputs": [
        {
          "output_type": "execute_result",
          "data": {
            "text/plain": [
              "13096"
            ]
          },
          "metadata": {},
          "execution_count": 61
        }
      ],
      "source": [
        "len(merged_sales_df)"
      ],
      "id": "UHQff-ns6Kpg"
    },
    {
      "cell_type": "markdown",
      "metadata": {
        "id": "1E93QUGv6oeg"
      },
      "source": [
        "### Ejercicio 2: 3) "
      ],
      "id": "1E93QUGv6oeg"
    },
    {
      "cell_type": "code",
      "execution_count": null,
      "metadata": {
        "id": "G-klqJ3aXAGA",
        "colab": {
          "base_uri": "https://localhost:8080/",
          "height": 423
        },
        "outputId": "012eb03e-9f5d-4af2-8cab-55c5feca65f2"
      },
      "outputs": [
        {
          "output_type": "stream",
          "name": "stdout",
          "text": [
            "212\n",
            "count     148\n",
            "unique      4\n",
            "top         1\n",
            "freq       99\n",
            "Name: unique, dtype: int64\n"
          ]
        },
        {
          "output_type": "execute_result",
          "data": {
            "text/plain": [
              "<matplotlib.axes._subplots.AxesSubplot at 0x7fed412abe90>"
            ]
          },
          "metadata": {},
          "execution_count": 62
        },
        {
          "output_type": "display_data",
          "data": {
            "text/plain": [
              "<Figure size 432x288 with 1 Axes>"
            ],
            "image/png": "[encoded data removed]"
          },
          "metadata": {
            "needs_background": "light"
          }
        }
      ],
      "source": [
        "# Analisis de distribucion de suburbios por codigo postal\n",
        "suburb_list = df_melb.Suburb.unique()\n",
        "print(len(suburb_list))\n",
        "df_melb_postcode = df_melb.groupby('Postcode').Suburb.describe().unique\n",
        "print(df_melb_postcode.describe())\n",
        "seaborn.histplot(df_melb_postcode, discrete = True)\n",
        "# plt.ticklabel_format(style='plain', axis='x')\n"
      ],
      "id": "G-klqJ3aXAGA"
    },
    {
      "cell_type": "markdown",
      "metadata": {
        "id": "cajRti40Nb_H"
      },
      "source": [
        "**Variable 1:** Latitud y Longitud\n",
        "\n",
        "Asumiendo que se cuenta con los algoritmos necesarios para dividir al área que se investiga en subareas cuadradas de igual superficie, definidas por la geoposición (latitud y longitud) de sus cuatro vertices, a cada propiedad le corresponderia estar en determinada área. \n",
        "\n",
        "Si a las dos bases de datos le sumamos una columna llamada \"SubAreaID\" podriamos combinarlas en base a dicha columna. \n",
        "Si bien tiene como ventaja que si se elige un tamaño de area pequeño podremos combinar de mejor manera la base de Airbnb a la de Melbourne, se requiere realizar una operacion de transformación por fila de los valores de longitud y latitud al valor SubAreaID.\n",
        "\n",
        "Más allá del costo computacional que esta combinacion implicaría, creemos que es adecuado hacerla porque se podria hacer una predicción más precisa del precio de determinada propiedad.\n",
        "\n",
        "**Variable 2:** Suburb\n",
        "\n",
        "Si se puede contar con las equivalencias entre suburbios de ambas bases de datos, se podrian combinar mediante la variable \"Suburb\" posterior a hacer la curación necesaria.\n",
        "\n",
        "Consideramos que si se tiene a disposición la gente necesaria para encontrar las equivalencias, la variable puede ser adecuada para realizar la combinación de las bases de datos debido a que un suburbio representa un área geográfica menor o igual al código postal, por lo que al menos la predicción va a ser igual de precisa que el metodo de combinación por código postal.\n"
      ],
      "id": "cajRti40Nb_H"
    },
    {
      "cell_type": "markdown",
      "metadata": {
        "id": "c5303f27-3b15-441b-b291-8caf1c734139"
      },
      "source": [
        "## Ejercicio 3:\n",
        "\n",
        "Crear y guardar un nuevo conjunto de datos con todas las transformaciones realizadas anteriormente."
      ],
      "id": "c5303f27-3b15-441b-b291-8caf1c734139"
    },
    {
      "cell_type": "code",
      "execution_count": null,
      "metadata": {
        "id": "Y9OWiZ646Oir"
      },
      "outputs": [],
      "source": [
        "# Creamos el nuevo conjunto de datos\n",
        "merged_sales_df.to_csv(\"melb_data_extended.csv\", index=None)"
      ],
      "id": "Y9OWiZ646Oir"
    },
    {
      "cell_type": "code",
      "execution_count": null,
      "metadata": {
        "colab": {
          "base_uri": "https://localhost:8080/",
          "height": 34
        },
        "id": "f3st6h816QS4",
        "outputId": "71c1f031-0f84-4323-951c-1247e9c0752a"
      },
      "outputs": [
        {
          "output_type": "display_data",
          "data": {
            "text/plain": [
              "<IPython.core.display.Javascript object>"
            ],
            "application/javascript": [
              "\n",
              "    async function download(id, filename, size) {\n",
              "      if (!google.colab.kernel.accessAllowed) {\n",
              "        return;\n",
              "      }\n",
              "      const div = document.createElement('div');\n",
              "      const label = document.createElement('label');\n",
              "      label.textContent = `Downloading \"${filename}\": `;\n",
              "      div.appendChild(label);\n",
              "      const progress = document.createElement('progress');\n",
              "      progress.max = size;\n",
              "      div.appendChild(progress);\n",
              "      document.body.appendChild(div);\n",
              "\n",
              "      const buffers = [];\n",
              "      let downloaded = 0;\n",
              "\n",
              "      const channel = await google.colab.kernel.comms.open(id);\n",
              "      // Send a message to notify the kernel that we're ready.\n",
              "      channel.send({})\n",
              "\n",
              "      for await (const message of channel.messages) {\n",
              "        // Send a message to notify the kernel that we're ready.\n",
              "        channel.send({})\n",
              "        if (message.buffers) {\n",
              "          for (const buffer of message.buffers) {\n",
              "            buffers.push(buffer);\n",
              "            downloaded += buffer.byteLength;\n",
              "            progress.value = downloaded;\n",
              "          }\n",
              "        }\n",
              "      }\n",
              "      const blob = new Blob(buffers, {type: 'application/binary'});\n",
              "      const a = document.createElement('a');\n",
              "      a.href = window.URL.createObjectURL(blob);\n",
              "      a.download = filename;\n",
              "      div.appendChild(a);\n",
              "      a.click();\n",
              "      div.remove();\n",
              "    }\n",
              "  "
            ]
          },
          "metadata": {}
        },
        {
          "output_type": "display_data",
          "data": {
            "text/plain": [
              "<IPython.core.display.Javascript object>"
            ],
            "application/javascript": [
              "download(\"download_ef0cfb3e-376f-4f3c-a8f6-85b4d0ade666\", \"melb_data_extended.csv\", 1963148)"
            ]
          },
          "metadata": {}
        }
      ],
      "source": [
        "# Guardamos el nuevo conjunto de datos\n",
        "from google.colab import files\n",
        "files.download('melb_data_extended.csv') "
      ],
      "id": "f3st6h816QS4"
    },
    {
      "cell_type": "markdown",
      "metadata": {
        "id": "abfd3eeb-d466-424b-b58e-d1364ac39206"
      },
      "source": [
        "## Ejercicios opcionales:\n",
        "\n",
        "1. Armar un script en python (archivo .py) [ETL](https://towardsdatascience.com/what-to-log-from-python-etl-pipelines-9e0cfe29950e) que corra los pasos de extraccion, transformacion y carga, armando una funcion para cada etapa del proceso y luego un main que corra todos los pasos requeridos.\n",
        "\n",
        "2. Armar un DAG en Apache Airflow que corra el ETL. (https://airflow.apache.org/docs/apache-airflow/stable/tutorial.html)"
      ],
      "id": "abfd3eeb-d466-424b-b58e-d1364ac39206"
    }
  ],
  "metadata": {
    "colab": {
      "collapsed_sections": [],
      "name": "Entregable_parte_1.ipynb",
      "provenance": []
    },
    "kernelspec": {
      "display_name": "Python 3",
      "language": "python",
      "name": "python3"
    },
    "language_info": {
      "codemirror_mode": {
        "name": "ipython",
        "version": 3
      },
      "file_extension": ".py",
      "mimetype": "text/x-python",
      "name": "python",
      "nbconvert_exporter": "python",
      "pygments_lexer": "ipython3",
      "version": "3.8.8"
    }
  },
  "nbformat": 4,
  "nbformat_minor": 5
}