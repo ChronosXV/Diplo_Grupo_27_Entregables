{
 "cells": [
  {
   "cell_type": "markdown",
   "id": "e0ff301b-5595-4a0b-a2b8-3d5609a0485d",
   "metadata": {
    "id": "e0ff301b-5595-4a0b-a2b8-3d5609a0485d"
   },
   "source": [
    "**Diplomatura en Ciencia de Datos, Aprendizaje Automático y sus Aplicaciones**\n",
    "\n",
    "**Exploración y Curación de Datos**\n",
    "\n",
    "*Edición 2022*\n",
    "\n",
    "**Entregable 2 - Parte 1**\n",
    "\n",
    "**Grupo 27:**\n",
    "\n",
    "**Guillermo Alonso**\n",
    "\n",
    "**María Eugenia Bernaschini**\n",
    "\n",
    "**Juan Cruz Bordón**\n",
    "\n",
    "**Javier Carabajal**\n",
    "\n",
    "----\n",
    "\n",
    "# Trabajo práctico entregable - parte 1\n",
    "\n",
    "En esta notebook, vamos a cargar el conjunto de datos de [la compentencia Kaggle](https://www.kaggle.com/dansbecker/melbourne-housing-snapshot) sobre estimación de precios de ventas de propiedades en Melbourne, Australia.\n",
    "\n",
    "Utilizaremos el conjunto de datos reducido producido por [DanB](https://www.kaggle.com/dansbecker). Hemos subido una copia a un servidor de la Universidad Nacional de Córdoba para facilitar su acceso remoto."
   ]
  },
  {
   "cell_type": "code",
   "execution_count": null,
   "id": "f5ac98f7-51f3-4f91-ac49-60ef5fe249be",
   "metadata": {
    "id": "f5ac98f7-51f3-4f91-ac49-60ef5fe249be"
   },
   "outputs": [],
   "source": [
    "import matplotlib.pyplot as plt\n",
    "import numpy\n",
    "import pandas\n",
    "import plotly\n",
    "import seaborn\n",
    "seaborn.set_context('talk')\n",
    "\n",
    "from sqlalchemy import create_engine, text\n"
   ]
  },
  {
   "cell_type": "code",
   "execution_count": null,
   "id": "5ba8bfd5-199a-4390-a5b4-11ec9669b3e1",
   "metadata": {
    "colab": {
     "base_uri": "https://localhost:8080/",
     "height": 306
    },
    "id": "5ba8bfd5-199a-4390-a5b4-11ec9669b3e1",
    "outputId": "04feb7c1-adc8-4d01-f532-1bd6a14969df"
   },
   "outputs": [
    {
     "data": {
      "text/html": [
       "\n",
       "  <div id=\"df-ca9835af-4f22-47af-8ca4-edf9ffe3ce38\">\n",
       "    <div class=\"colab-df-container\">\n",
       "      <div>\n",
       "<style scoped>\n",
       "    .dataframe tbody tr th:only-of-type {\n",
       "        vertical-align: middle;\n",
       "    }\n",
       "\n",
       "    .dataframe tbody tr th {\n",
       "        vertical-align: top;\n",
       "    }\n",
       "\n",
       "    .dataframe thead th {\n",
       "        text-align: right;\n",
       "    }\n",
       "</style>\n",
       "<table border=\"1\" class=\"dataframe\">\n",
       "  <thead>\n",
       "    <tr style=\"text-align: right;\">\n",
       "      <th></th>\n",
       "      <th>Suburb</th>\n",
       "      <th>Address</th>\n",
       "      <th>Rooms</th>\n",
       "      <th>Type</th>\n",
       "      <th>Price</th>\n",
       "      <th>Method</th>\n",
       "      <th>SellerG</th>\n",
       "      <th>Date</th>\n",
       "      <th>Distance</th>\n",
       "      <th>Postcode</th>\n",
       "      <th>...</th>\n",
       "      <th>Bathroom</th>\n",
       "      <th>Car</th>\n",
       "      <th>Landsize</th>\n",
       "      <th>BuildingArea</th>\n",
       "      <th>YearBuilt</th>\n",
       "      <th>CouncilArea</th>\n",
       "      <th>Lattitude</th>\n",
       "      <th>Longtitude</th>\n",
       "      <th>Regionname</th>\n",
       "      <th>Propertycount</th>\n",
       "    </tr>\n",
       "  </thead>\n",
       "  <tbody>\n",
       "    <tr>\n",
       "      <th>0</th>\n",
       "      <td>Abbotsford</td>\n",
       "      <td>85 Turner St</td>\n",
       "      <td>2</td>\n",
       "      <td>h</td>\n",
       "      <td>1480000.0</td>\n",
       "      <td>S</td>\n",
       "      <td>Biggin</td>\n",
       "      <td>3/12/2016</td>\n",
       "      <td>2.5</td>\n",
       "      <td>3067.0</td>\n",
       "      <td>...</td>\n",
       "      <td>1.0</td>\n",
       "      <td>1.0</td>\n",
       "      <td>202.0</td>\n",
       "      <td>NaN</td>\n",
       "      <td>NaN</td>\n",
       "      <td>Yarra</td>\n",
       "      <td>-37.7996</td>\n",
       "      <td>144.9984</td>\n",
       "      <td>Northern Metropolitan</td>\n",
       "      <td>4019.0</td>\n",
       "    </tr>\n",
       "    <tr>\n",
       "      <th>1</th>\n",
       "      <td>Abbotsford</td>\n",
       "      <td>25 Bloomburg St</td>\n",
       "      <td>2</td>\n",
       "      <td>h</td>\n",
       "      <td>1035000.0</td>\n",
       "      <td>S</td>\n",
       "      <td>Biggin</td>\n",
       "      <td>4/02/2016</td>\n",
       "      <td>2.5</td>\n",
       "      <td>3067.0</td>\n",
       "      <td>...</td>\n",
       "      <td>1.0</td>\n",
       "      <td>0.0</td>\n",
       "      <td>156.0</td>\n",
       "      <td>79.0</td>\n",
       "      <td>1900.0</td>\n",
       "      <td>Yarra</td>\n",
       "      <td>-37.8079</td>\n",
       "      <td>144.9934</td>\n",
       "      <td>Northern Metropolitan</td>\n",
       "      <td>4019.0</td>\n",
       "    </tr>\n",
       "    <tr>\n",
       "      <th>2</th>\n",
       "      <td>Abbotsford</td>\n",
       "      <td>5 Charles St</td>\n",
       "      <td>3</td>\n",
       "      <td>h</td>\n",
       "      <td>1465000.0</td>\n",
       "      <td>SP</td>\n",
       "      <td>Biggin</td>\n",
       "      <td>4/03/2017</td>\n",
       "      <td>2.5</td>\n",
       "      <td>3067.0</td>\n",
       "      <td>...</td>\n",
       "      <td>2.0</td>\n",
       "      <td>0.0</td>\n",
       "      <td>134.0</td>\n",
       "      <td>150.0</td>\n",
       "      <td>1900.0</td>\n",
       "      <td>Yarra</td>\n",
       "      <td>-37.8093</td>\n",
       "      <td>144.9944</td>\n",
       "      <td>Northern Metropolitan</td>\n",
       "      <td>4019.0</td>\n",
       "    </tr>\n",
       "  </tbody>\n",
       "</table>\n",
       "<p>3 rows × 21 columns</p>\n",
       "</div>\n",
       "      <button class=\"colab-df-convert\" onclick=\"convertToInteractive('df-ca9835af-4f22-47af-8ca4-edf9ffe3ce38')\"\n",
       "              title=\"Convert this dataframe to an interactive table.\"\n",
       "              style=\"display:none;\">\n",
       "        \n",
       "  <svg xmlns=\"http://www.w3.org/2000/svg\" height=\"24px\"viewBox=\"0 0 24 24\"\n",
       "       width=\"24px\">\n",
       "    <path d=\"M0 0h24v24H0V0z\" fill=\"none\"/>\n",
       "    <path d=\"M18.56 5.44l.94 2.06.94-2.06 2.06-.94-2.06-.94-.94-2.06-.94 2.06-2.06.94zm-11 1L8.5 8.5l.94-2.06 2.06-.94-2.06-.94L8.5 2.5l-.94 2.06-2.06.94zm10 10l.94 2.06.94-2.06 2.06-.94-2.06-.94-.94-2.06-.94 2.06-2.06.94z\"/><path d=\"M17.41 7.96l-1.37-1.37c-.4-.4-.92-.59-1.43-.59-.52 0-1.04.2-1.43.59L10.3 9.45l-7.72 7.72c-.78.78-.78 2.05 0 2.83L4 21.41c.39.39.9.59 1.41.59.51 0 1.02-.2 1.41-.59l7.78-7.78 2.81-2.81c.8-.78.8-2.07 0-2.86zM5.41 20L4 18.59l7.72-7.72 1.47 1.35L5.41 20z\"/>\n",
       "  </svg>\n",
       "      </button>\n",
       "      \n",
       "  <style>\n",
       "    .colab-df-container {\n",
       "      display:flex;\n",
       "      flex-wrap:wrap;\n",
       "      gap: 12px;\n",
       "    }\n",
       "\n",
       "    .colab-df-convert {\n",
       "      background-color: #E8F0FE;\n",
       "      border: none;\n",
       "      border-radius: 50%;\n",
       "      cursor: pointer;\n",
       "      display: none;\n",
       "      fill: #1967D2;\n",
       "      height: 32px;\n",
       "      padding: 0 0 0 0;\n",
       "      width: 32px;\n",
       "    }\n",
       "\n",
       "    .colab-df-convert:hover {\n",
       "      background-color: #E2EBFA;\n",
       "      box-shadow: 0px 1px 2px rgba(60, 64, 67, 0.3), 0px 1px 3px 1px rgba(60, 64, 67, 0.15);\n",
       "      fill: #174EA6;\n",
       "    }\n",
       "\n",
       "    [theme=dark] .colab-df-convert {\n",
       "      background-color: #3B4455;\n",
       "      fill: #D2E3FC;\n",
       "    }\n",
       "\n",
       "    [theme=dark] .colab-df-convert:hover {\n",
       "      background-color: #434B5C;\n",
       "      box-shadow: 0px 1px 3px 1px rgba(0, 0, 0, 0.15);\n",
       "      filter: drop-shadow(0px 1px 2px rgba(0, 0, 0, 0.3));\n",
       "      fill: #FFFFFF;\n",
       "    }\n",
       "  </style>\n",
       "\n",
       "      <script>\n",
       "        const buttonEl =\n",
       "          document.querySelector('#df-ca9835af-4f22-47af-8ca4-edf9ffe3ce38 button.colab-df-convert');\n",
       "        buttonEl.style.display =\n",
       "          google.colab.kernel.accessAllowed ? 'block' : 'none';\n",
       "\n",
       "        async function convertToInteractive(key) {\n",
       "          const element = document.querySelector('#df-ca9835af-4f22-47af-8ca4-edf9ffe3ce38');\n",
       "          const dataTable =\n",
       "            await google.colab.kernel.invokeFunction('convertToInteractive',\n",
       "                                                     [key], {});\n",
       "          if (!dataTable) return;\n",
       "\n",
       "          const docLinkHtml = 'Like what you see? Visit the ' +\n",
       "            '<a target=\"_blank\" href=https://colab.research.google.com/notebooks/data_table.ipynb>data table notebook</a>'\n",
       "            + ' to learn more about interactive tables.';\n",
       "          element.innerHTML = '';\n",
       "          dataTable['output_type'] = 'display_data';\n",
       "          await google.colab.output.renderOutput(dataTable, element);\n",
       "          const docLink = document.createElement('div');\n",
       "          docLink.innerHTML = docLinkHtml;\n",
       "          element.appendChild(docLink);\n",
       "        }\n",
       "      </script>\n",
       "    </div>\n",
       "  </div>\n",
       "  "
      ],
      "text/plain": [
       "       Suburb          Address  Rooms Type      Price Method SellerG  \\\n",
       "0  Abbotsford     85 Turner St      2    h  1480000.0      S  Biggin   \n",
       "1  Abbotsford  25 Bloomburg St      2    h  1035000.0      S  Biggin   \n",
       "2  Abbotsford     5 Charles St      3    h  1465000.0     SP  Biggin   \n",
       "\n",
       "        Date  Distance  Postcode  ...  Bathroom  Car  Landsize  BuildingArea  \\\n",
       "0  3/12/2016       2.5    3067.0  ...       1.0  1.0     202.0           NaN   \n",
       "1  4/02/2016       2.5    3067.0  ...       1.0  0.0     156.0          79.0   \n",
       "2  4/03/2017       2.5    3067.0  ...       2.0  0.0     134.0         150.0   \n",
       "\n",
       "   YearBuilt  CouncilArea Lattitude  Longtitude             Regionname  \\\n",
       "0        NaN        Yarra  -37.7996    144.9984  Northern Metropolitan   \n",
       "1     1900.0        Yarra  -37.8079    144.9934  Northern Metropolitan   \n",
       "2     1900.0        Yarra  -37.8093    144.9944  Northern Metropolitan   \n",
       "\n",
       "  Propertycount  \n",
       "0        4019.0  \n",
       "1        4019.0  \n",
       "2        4019.0  \n",
       "\n",
       "[3 rows x 21 columns]"
      ]
     },
     "execution_count": 3,
     "metadata": {},
     "output_type": "execute_result"
    }
   ],
   "source": [
    "df_melb = pandas.read_csv('https://cs.famaf.unc.edu.ar/~mteruel/datasets/diplodatos/melb_data.csv')\n",
    "df_melb[:3]"
   ]
  },
  {
   "cell_type": "markdown",
   "id": "eoDD4Z0iLmmL",
   "metadata": {
    "id": "eoDD4Z0iLmmL"
   },
   "source": [
    "* Verificamos las Columnas que tienen \n",
    "\n",
    "\n",
    "\n"
   ]
  },
  {
   "cell_type": "code",
   "execution_count": null,
   "id": "-E3DR771Lq3x",
   "metadata": {
    "colab": {
     "base_uri": "https://localhost:8080/"
    },
    "id": "-E3DR771Lq3x",
    "outputId": "0f4e0100-690c-41fb-e7c8-a291a10656f6"
   },
   "outputs": [
    {
     "data": {
      "text/plain": [
       "['Suburb',\n",
       " 'Address',\n",
       " 'Rooms',\n",
       " 'Type',\n",
       " 'Price',\n",
       " 'Method',\n",
       " 'SellerG',\n",
       " 'Date',\n",
       " 'Distance',\n",
       " 'Postcode',\n",
       " 'Bedroom2',\n",
       " 'Bathroom',\n",
       " 'Car',\n",
       " 'Landsize',\n",
       " 'BuildingArea',\n",
       " 'YearBuilt',\n",
       " 'CouncilArea',\n",
       " 'Lattitude',\n",
       " 'Longtitude',\n",
       " 'Regionname',\n",
       " 'Propertycount']"
      ]
     },
     "execution_count": 4,
     "metadata": {},
     "output_type": "execute_result"
    }
   ],
   "source": [
    "list(df_melb.columns)\n"
   ]
  },
  {
   "cell_type": "code",
   "execution_count": null,
   "id": "gOcsvmX_TRSK",
   "metadata": {
    "colab": {
     "base_uri": "https://localhost:8080/"
    },
    "id": "gOcsvmX_TRSK",
    "outputId": "939ec8d1-229d-447f-f1ae-e1edb0afcd4c"
   },
   "outputs": [
    {
     "data": {
      "text/plain": [
       "3073.0    359\n",
       "3020.0    306\n",
       "3121.0    292\n",
       "3040.0    290\n",
       "3046.0    284\n",
       "         ... \n",
       "3340.0      1\n",
       "3158.0      1\n",
       "3808.0      1\n",
       "3777.0      1\n",
       "3793.0      1\n",
       "Name: Postcode, Length: 198, dtype: int64"
      ]
     },
     "execution_count": 5,
     "metadata": {},
     "output_type": "execute_result"
    }
   ],
   "source": [
    "df_melb['Postcode'].value_counts()"
   ]
  },
  {
   "cell_type": "code",
   "execution_count": null,
   "id": "5qcIQ0AARogS",
   "metadata": {
    "colab": {
     "base_uri": "https://localhost:8080/"
    },
    "id": "5qcIQ0AARogS",
    "outputId": "1d1de8e6-b323-40b3-e054-043f2450ff0b"
   },
   "outputs": [
    {
     "name": "stderr",
     "output_type": "stream",
     "text": [
      "/usr/local/lib/python3.7/dist-packages/IPython/core/interactiveshell.py:2882: DtypeWarning: Columns (35) have mixed types.Specify dtype option on import or set low_memory=False.\n",
      "  exec(code_obj, self.user_global_ns, self.user_ns)\n"
     ]
    }
   ],
   "source": [
    "interesting_cols = [\n",
    "  'description', 'neighborhood_overview',\n",
    "  'street', 'neighborhood', 'city', 'suburb', 'state', 'zipcode',\n",
    "  'price', 'weekly_price', 'monthly_price',\n",
    "  'latitude', 'longitude',\n",
    "]\n",
    "df_airbnb = pandas.read_csv('https://cs.famaf.unc.edu.ar/~mteruel/datasets/diplodatos/cleansed_listings_dec18.csv',usecols=interesting_cols)"
   ]
  },
  {
   "cell_type": "code",
   "execution_count": null,
   "id": "66Syc6T2R3Gr",
   "metadata": {
    "colab": {
     "base_uri": "https://localhost:8080/"
    },
    "id": "66Syc6T2R3Gr",
    "outputId": "d9c708b2-7dcc-4f3c-af36-f1d3bf13d321"
   },
   "outputs": [
    {
     "data": {
      "text/plain": [
       "['description',\n",
       " 'neighborhood_overview',\n",
       " 'street',\n",
       " 'neighborhood',\n",
       " 'city',\n",
       " 'suburb',\n",
       " 'state',\n",
       " 'zipcode',\n",
       " 'latitude',\n",
       " 'longitude',\n",
       " 'price',\n",
       " 'weekly_price',\n",
       " 'monthly_price']"
      ]
     },
     "execution_count": 7,
     "metadata": {},
     "output_type": "execute_result"
    }
   ],
   "source": [
    "list(df_airbnb.columns)"
   ]
  },
  {
   "cell_type": "code",
   "execution_count": null,
   "id": "yVUeLgzFS6TM",
   "metadata": {
    "colab": {
     "base_uri": "https://localhost:8080/"
    },
    "id": "yVUeLgzFS6TM",
    "outputId": "71eec003-77e4-4a2b-c3ef-2f8994240e15"
   },
   "outputs": [
    {
     "data": {
      "text/plain": [
       "3000.0        2491\n",
       "3000           876\n",
       "3006.0         860\n",
       "3182.0         579\n",
       "3182           556\n",
       "              ... \n",
       "3096             1\n",
       "3812             1\n",
       "3000\\n3000       1\n",
       "3752             1\n",
       "4068.0           1\n",
       "Name: zipcode, Length: 463, dtype: int64"
      ]
     },
     "execution_count": 8,
     "metadata": {},
     "output_type": "execute_result"
    }
   ],
   "source": [
    "df_airbnb['zipcode'].value_counts()"
   ]
  },
  {
   "cell_type": "markdown",
   "id": "O6T1G5GFUE8o",
   "metadata": {
    "id": "O6T1G5GFUE8o"
   },
   "source": [
    "* Hacemos que todos los valores sean del mismo tipo"
   ]
  },
  {
   "cell_type": "code",
   "execution_count": null,
   "id": "EsQfImCAT7Bo",
   "metadata": {
    "id": "EsQfImCAT7Bo"
   },
   "outputs": [],
   "source": [
    "df_airbnb['zipcode'] = pandas.to_numeric(df_airbnb.zipcode, errors='coerce')"
   ]
  },
  {
   "cell_type": "code",
   "execution_count": null,
   "id": "8sP5PsrQUDsG",
   "metadata": {
    "colab": {
     "base_uri": "https://localhost:8080/"
    },
    "id": "8sP5PsrQUDsG",
    "outputId": "aa3f6189-e9a9-4168-b02b-cd00e120144d"
   },
   "outputs": [
    {
     "data": {
      "text/plain": [
       "3000.0     3367\n",
       "3006.0     1268\n",
       "3182.0     1135\n",
       "3141.0      881\n",
       "3004.0      728\n",
       "           ... \n",
       "3785.0        1\n",
       "3096.0        1\n",
       "30122.0       1\n",
       "3912.0        1\n",
       "4068.0        1\n",
       "Name: zipcode, Length: 247, dtype: int64"
      ]
     },
     "execution_count": 10,
     "metadata": {},
     "output_type": "execute_result"
    }
   ],
   "source": [
    "df_airbnb['zipcode'].value_counts()"
   ]
  },
  {
   "cell_type": "markdown",
   "id": "jvVbBS5Si7Hp",
   "metadata": {
    "id": "jvVbBS5Si7Hp"
   },
   "source": [
    "* Descargamos el csv normalizado y luego lo volvemos a levantar para pasarlo a tabla"
   ]
  },
  {
   "cell_type": "code",
   "execution_count": null,
   "id": "lwg0OV-XWFpk",
   "metadata": {
    "id": "lwg0OV-XWFpk"
   },
   "outputs": [],
   "source": [
    "from google.colab import files\n",
    "files.download(\"df_airbnb_NormalizadoZipCod.csv\")"
   ]
  },
  {
   "cell_type": "code",
   "execution_count": null,
   "id": "3FxdoHSrWF0o",
   "metadata": {
    "id": "3FxdoHSrWF0o"
   },
   "outputs": [],
   "source": [
    "from google.colab import files\n",
    "files.upload()"
   ]
  },
  {
   "cell_type": "code",
   "execution_count": null,
   "id": "Z5Ip0FLbl1Vi",
   "metadata": {
    "id": "Z5Ip0FLbl1Vi"
   },
   "outputs": [],
   "source": [
    "# df_n_airbnb = pandas.read_csv('df_airbnb_NormalizadoZipCod.csv')\n",
    "df_n_airbnb = df_airbnb\n"
   ]
  },
  {
   "cell_type": "code",
   "execution_count": null,
   "id": "MnBe75WimMlw",
   "metadata": {
    "colab": {
     "base_uri": "https://localhost:8080/"
    },
    "id": "MnBe75WimMlw",
    "outputId": "ece8b1a3-bec1-4f4c-efb9-8958d84d11c9"
   },
   "outputs": [
    {
     "data": {
      "text/plain": [
       "['description',\n",
       " 'neighborhood_overview',\n",
       " 'street',\n",
       " 'neighborhood',\n",
       " 'city',\n",
       " 'suburb',\n",
       " 'state',\n",
       " 'zipcode',\n",
       " 'latitude',\n",
       " 'longitude',\n",
       " 'price',\n",
       " 'weekly_price',\n",
       " 'monthly_price']"
      ]
     },
     "execution_count": 18,
     "metadata": {},
     "output_type": "execute_result"
    }
   ],
   "source": [
    "list(df_n_airbnb.columns)"
   ]
  },
  {
   "cell_type": "code",
   "execution_count": null,
   "id": "Act58ObImO5y",
   "metadata": {
    "colab": {
     "base_uri": "https://localhost:8080/"
    },
    "id": "Act58ObImO5y",
    "outputId": "36e057a1-8b1e-4bde-a10e-d20e232ec4aa"
   },
   "outputs": [
    {
     "data": {
      "text/plain": [
       "3000.0     3367\n",
       "3006.0     1268\n",
       "3182.0     1135\n",
       "3141.0      881\n",
       "3004.0      728\n",
       "           ... \n",
       "3785.0        1\n",
       "3096.0        1\n",
       "30122.0       1\n",
       "3912.0        1\n",
       "4068.0        1\n",
       "Name: zipcode, Length: 247, dtype: int64"
      ]
     },
     "execution_count": 19,
     "metadata": {},
     "output_type": "execute_result"
    }
   ],
   "source": [
    "df_n_airbnb['zipcode'].value_counts()"
   ]
  },
  {
   "cell_type": "markdown",
   "id": "6cffe5bf-2498-498c-aa06-3e61422d91e6",
   "metadata": {
    "id": "6cffe5bf-2498-498c-aa06-3e61422d91e6"
   },
   "source": [
    "## Ejercicio 1 SQL: \n",
    "\n",
    "1. Crear una base de datos en SQLite utilizando la libreria [SQLalchemy](https://stackoverflow.com/questions/2268050/execute-sql-from-file-in-sqlalchemy).\n",
    "https://docs.sqlalchemy.org/en/14/core/engines.html#sqlite\n",
    "\n",
    "2. Ingestar los datos provistos en 'https://cs.famaf.unc.edu.ar/~mteruel/datasets/diplodatos/melb_data.csv' en una tabla y el dataset generado en clase con datos de airbnb y sus precios por codigo postal en otra.\n",
    "\n",
    "3. Implementar consultas en SQL que respondan con la siguiente información:\n",
    "\n",
    "    - cantidad de registros totales por ciudad.\n",
    "    - cantidad de registros totales por barrio y ciudad.\n",
    "\n",
    "4. Combinar los datasets de ambas tablas ingestadas utilizando el comando JOIN de SQL  para obtener un resultado similar a lo realizado con Pandas en clase.  \n",
    "\n"
   ]
  },
  {
   "cell_type": "code",
   "execution_count": null,
   "id": "KMEIws1KOQt1",
   "metadata": {
    "id": "KMEIws1KOQt1"
   },
   "outputs": [],
   "source": [
    "engine = create_engine('sqlite:///Grupo_27.sqlite3', echo=True)"
   ]
  },
  {
   "cell_type": "code",
   "execution_count": null,
   "id": "Yhnqmtf_OQwv",
   "metadata": {
    "id": "Yhnqmtf_OQwv"
   },
   "outputs": [],
   "source": [
    "df_melb.to_sql('tabla_melb_data', con=engine, if_exists=\"replace\")"
   ]
  },
  {
   "cell_type": "code",
   "execution_count": null,
   "id": "-5Y8OPQ5PHrH",
   "metadata": {
    "id": "-5Y8OPQ5PHrH"
   },
   "outputs": [],
   "source": [
    "q1=\"SELECT *  FROM tabla_melb_data LIMIT 10 \""
   ]
  },
  {
   "cell_type": "code",
   "execution_count": null,
   "id": "9V_P3q7kOQzn",
   "metadata": {
    "id": "9V_P3q7kOQzn"
   },
   "outputs": [],
   "source": [
    "with engine.connect() as con:\n",
    "    #for query in q1:\n",
    "      rs = con.execute(q1)\n",
    "      for row in rs:\n",
    "          print(row)\n",
    "\n",
    "    "
   ]
  },
  {
   "cell_type": "markdown",
   "id": "x4-rHYUl6883",
   "metadata": {
    "id": "x4-rHYUl6883"
   },
   "source": [
    "* Creamos la tabla de airbnb con los ZipCod normalizados"
   ]
  },
  {
   "cell_type": "code",
   "execution_count": null,
   "id": "23HyZTBF6srh",
   "metadata": {
    "id": "23HyZTBF6srh"
   },
   "outputs": [],
   "source": [
    "df_n_airbnb.to_sql('tabla_df_n_airbnb', con=engine, if_exists=\"replace\")"
   ]
  },
  {
   "cell_type": "markdown",
   "id": "6nfdHVzA-UHc",
   "metadata": {
    "id": "6nfdHVzA-UHc"
   },
   "source": [
    "# -**Cantidad de registros totales por ciudad.**\n",
    "\n",
    "\n"
   ]
  },
  {
   "cell_type": "code",
   "execution_count": null,
   "id": "x41uAQQR7IXG",
   "metadata": {
    "id": "x41uAQQR7IXG"
   },
   "outputs": [],
   "source": [
    "C1=\"\"\"\n",
    "SELECT \n",
    "  city,\n",
    "  COUNT(A.city)\n",
    "FROM tabla_df_n_airbnb A INNER JOIN tabla_melb_data b \n",
    "  on a.zipcode=b.Postcode \n",
    "GROUP BY city \"\"\""
   ]
  },
  {
   "cell_type": "code",
   "execution_count": null,
   "id": "ogQ9oAcA7IaA",
   "metadata": {
    "id": "ogQ9oAcA7IaA"
   },
   "outputs": [],
   "source": [
    "with engine.connect() as con:\n",
    "    #for query in q1:\n",
    "      rs = con.execute(C1)\n",
    "      print(' City    Cantidad')\n",
    "      for row in rs:\n",
    "          print(row)"
   ]
  },
  {
   "cell_type": "markdown",
   "id": "Ltfr1W0R-hEM",
   "metadata": {
    "id": "Ltfr1W0R-hEM"
   },
   "source": [
    "# -**Cantidad de registros totales por barrio y ciudad**"
   ]
  },
  {
   "cell_type": "code",
   "execution_count": null,
   "id": "fsnZIeh9-nN6",
   "metadata": {
    "id": "fsnZIeh9-nN6"
   },
   "outputs": [],
   "source": [
    "C2=\"\"\"\n",
    "SELECT\n",
    "  neighborhood,\n",
    "  city,\n",
    "  COUNT(A.city)\n",
    "FROM tabla_df_n_airbnb A INNER JOIN tabla_melb_data b \n",
    "  on a.zipcode=b.Postcode \n",
    "GROUP BY \n",
    "  neighborhood,\n",
    "  city \"\"\""
   ]
  },
  {
   "cell_type": "markdown",
   "id": "LEGfbiDROlmd",
   "metadata": {
    "id": "LEGfbiDROlmd"
   },
   "source": [
    "* Sacamos los barrios  con null"
   ]
  },
  {
   "cell_type": "code",
   "execution_count": null,
   "id": "9ahoM3WcOCYc",
   "metadata": {
    "id": "9ahoM3WcOCYc"
   },
   "outputs": [],
   "source": [
    "C3=\"\"\"\n",
    "SELECT\n",
    "  neighborhood,\n",
    "  city,\n",
    "  COUNT(A.city)\n",
    "FROM tabla_df_n_airbnb A INNER JOIN tabla_melb_data b \n",
    "  on a.zipcode=b.Postcode \n",
    "WHERE neighborhood IS NOT NULL\n",
    "GROUP BY \n",
    "  neighborhood,\n",
    "  city \"\"\""
   ]
  },
  {
   "cell_type": "code",
   "execution_count": null,
   "id": "HiO2Oxuv-nVy",
   "metadata": {
    "id": "HiO2Oxuv-nVy"
   },
   "outputs": [],
   "source": [
    "with engine.connect() as con:\n",
    "    #for query in q1:\n",
    "      rs = con.execute(C2)\n",
    "      print(' neighborhood   city  Cantidad'   )\n",
    "      for row in rs:\n",
    "          print(row)"
   ]
  },
  {
   "cell_type": "markdown",
   "id": "3D24NpLGOVH7",
   "metadata": {
    "id": "3D24NpLGOVH7"
   },
   "source": [
    "* Barrios sin null"
   ]
  },
  {
   "cell_type": "code",
   "execution_count": null,
   "id": "du4kbRqeOM_-",
   "metadata": {
    "id": "du4kbRqeOM_-"
   },
   "outputs": [],
   "source": [
    "with engine.connect() as con:\n",
    "    #for query in q1:\n",
    "      rs = con.execute(C3)\n",
    "      print(' neighborhood   city  Cantidad'   )\n",
    "      for row in rs:\n",
    "          print(row)"
   ]
  },
  {
   "cell_type": "markdown",
   "id": "c5468c4f-5cdf-4df4-a317-60e1fb0c00db",
   "metadata": {
    "id": "c5468c4f-5cdf-4df4-a317-60e1fb0c00db"
   },
   "source": [
    "## Ejercicio 2: \n",
    "\n",
    "1. Seleccionar un subconjunto de columnas que les parezcan relevantes al problema de predicción del valor de la propiedad. Justificar las columnas seleccionadas y las que no lo fueron.\n",
    " - Eliminar los valores extremos que no sean relevantes para la predicción de valores de las propiedades.\n",
    "\n",
    "2. Agregar información adicional respectiva al entorno de una propiedad a partir del [conjunto de datos de AirBnB](https://www.kaggle.com/tylerx/melbourne-airbnb-open-data?select=cleansed_listings_dec18.csv) utilizado en el práctico. \n",
    "  1. Seleccionar qué variables agregar y qué combinaciones aplicar a cada una. Por ejemplo, pueden utilizar solo la columna `price`, o aplicar múltiples transformaciones como la mediana o el mínimo.\n",
    "  1. Utilizar la variable zipcode para unir los conjuntos de datos. Sólo incluir los zipcodes que tengan una cantidad mínima de registros (a elección) como para que la información agregada sea relevante.\n",
    "  2. Investigar al menos otras 2 variables que puedan servir para combinar los datos, y justificar si serían adecuadas o no. Pueden asumir que cuentan con la ayuda de anotadores expertos para encontrar equivalencias entre barrios o direcciones, o que cuentan con algoritmos para encontrar las n ubicaciones más cercanas a una propiedad a partir de sus coordenadas geográficas. **NO** es necesario que realicen la implementación.\n",
    "\n",
    "Pueden leer otras columnas del conjunto de AirBnB además de las que están en `interesting_cols`, si les parecen relevantes."
   ]
  },
  {
   "cell_type": "markdown",
   "id": "9q0qzfep-MIR",
   "metadata": {
    "id": "9q0qzfep-MIR"
   },
   "source": [
    "### Ejercicio 2: 1) Selección de columnas relevantes."
   ]
  },
  {
   "cell_type": "code",
   "execution_count": null,
   "id": "wC6I6aHA1l7I",
   "metadata": {
    "colab": {
     "base_uri": "https://localhost:8080/"
    },
    "id": "wC6I6aHA1l7I",
    "outputId": "e9e74f60-8e1d-4862-e8cf-ff893ae0dd05"
   },
   "outputs": [
    {
     "data": {
      "text/plain": [
       "Index(['Suburb', 'Address', 'Rooms', 'Type', 'Price', 'Method', 'SellerG',\n",
       "       'Date', 'Distance', 'Postcode', 'Bedroom2', 'Bathroom', 'Car',\n",
       "       'Landsize', 'BuildingArea', 'YearBuilt', 'CouncilArea', 'Lattitude',\n",
       "       'Longtitude', 'Regionname', 'Propertycount'],\n",
       "      dtype='object')"
      ]
     },
     "execution_count": 21,
     "metadata": {},
     "output_type": "execute_result"
    }
   ],
   "source": [
    "# Listado de las columnas de df_melb\n",
    "df_melb.columns"
   ]
  },
  {
   "cell_type": "markdown",
   "id": "I9pJZCMr1xHj",
   "metadata": {
    "id": "I9pJZCMr1xHj"
   },
   "source": [
    "Las columnas que creemos relevantes de la base df_melb para predecir el valor de las propiedades son: \n",
    "\n",
    "* **Suburb:**  zona residencial en donde se encuentra ubicada la propiedad.\n",
    "* **Rooms:** cantidad de ambientes que tiene la casa.\n",
    "* **Type:** tipo de vivienda (casa, departamento, chalé, etc.).\n",
    "* **Price:** precio al que fue vendida la propiedad.\n",
    "* **Date:** fecha de venta, ya que tiene que ver con las condiciones del mercado.\n",
    "* **Distance:** distancia al distrito financiero. \n",
    "* **Postcode:** código postal que usaremos para combinar las bases y tiene que ver con la ubicación de la propiedad.\n",
    "* **Bedroom2:** cantidad de habitaciones.\n",
    "* **Bathroom:** cantidad de baños.\n",
    "* **Car:** cantidad de cocheras.\n",
    "* **Landsize:** tamaño del terreno.\n",
    "* **BuildingArea:** tamaño del terreno edificado.\n",
    "* **YearBuilt:** año de construcción de la propiedad.\n",
    "* **Lattitude:** latitud, tiene que ver con la ubicación de la propiedad.\n",
    "* **Longtitude:** longitud, tiene que ver con la ubicación de la propiedad.\n",
    "\n",
    "Las columnas seleccionadas tienen que ver con la ubicación de la propiedad y con las características de la misma, con lo cual creemos que son relevantes para predecir el valor del inmueble. "
   ]
  },
  {
   "cell_type": "markdown",
   "id": "TWymvTWn15K3",
   "metadata": {
    "id": "TWymvTWn15K3"
   },
   "source": [
    "Las columnas que no fueron seleccionadas son:\n",
    "\n",
    "* **Address:** si bien tiene que ver con la ubicación del inmueble (dirección), es una variable difícil de trabajar por su gran variabilidad.\n",
    "* **Method:** tiene que ver con la forma en la que fue vendida la propiedad.\n",
    "* **SellerG:** agencia que llevó a cabo la venta. \n",
    "* **CouncilArea:** esta variable no la seleccionamos ya que creemos que está relacionada con la variable Suburb. "
   ]
  },
  {
   "cell_type": "code",
   "execution_count": null,
   "id": "otmFfp3H2I-i",
   "metadata": {
    "id": "otmFfp3H2I-i"
   },
   "outputs": [],
   "source": [
    "# Columnas relevantes de df_melb\n",
    "relevant_cols = ['Suburb', 'Rooms','Type', 'Price', 'Date','Distance' ,'Postcode','Bedroom2', 'Bathroom','Car','Landsize','BuildingArea','YearBuilt','Lattitude','Longtitude']"
   ]
  },
  {
   "cell_type": "code",
   "execution_count": null,
   "id": "WvP3l7CL2dnh",
   "metadata": {
    "id": "WvP3l7CL2dnh"
   },
   "outputs": [],
   "source": [
    "# Nos quedamos con las columnas relevantes de df_melb\n",
    "df_melb = df_melb[relevant_cols]"
   ]
  },
  {
   "cell_type": "markdown",
   "id": "PZV3BF3V2loO",
   "metadata": {
    "id": "PZV3BF3V2loO"
   },
   "source": [
    "**Exploración de la variable Price**"
   ]
  },
  {
   "cell_type": "code",
   "execution_count": null,
   "id": "Nbx-2uI-2mwe",
   "metadata": {
    "colab": {
     "base_uri": "https://localhost:8080/"
    },
    "id": "Nbx-2uI-2mwe",
    "outputId": "870f14d8-00c0-4e01-c452-340bfce86d87"
   },
   "outputs": [
    {
     "data": {
      "text/plain": [
       "count    1.358000e+04\n",
       "mean     1.075684e+06\n",
       "std      6.393107e+05\n",
       "min      8.500000e+04\n",
       "25%      6.500000e+05\n",
       "50%      9.030000e+05\n",
       "75%      1.330000e+06\n",
       "max      9.000000e+06\n",
       "Name: Price, dtype: float64"
      ]
     },
     "execution_count": 24,
     "metadata": {},
     "output_type": "execute_result"
    }
   ],
   "source": [
    "# Medidas resumen de la variable Price\n",
    "df_melb['Price'].describe()"
   ]
  },
  {
   "cell_type": "code",
   "execution_count": null,
   "id": "R9q4Kyqz2wA9",
   "metadata": {
    "colab": {
     "base_uri": "https://localhost:8080/",
     "height": 164
    },
    "id": "R9q4Kyqz2wA9",
    "outputId": "58701559-581f-46a8-f6fc-e3a3ea705ea7"
   },
   "outputs": [
    {
     "data": {
      "image/png": "[encoded data removed]",
      "text/plain": [
       "<Figure size 2160x360 with 1 Axes>"
      ]
     },
     "metadata": {
      "needs_background": "light"
     },
     "output_type": "display_data"
    }
   ],
   "source": [
    "# Distribución de la variable Price\n",
    "seaborn.displot(df_melb['Price'], aspect=6)\n",
    "plt.ticklabel_format(style='plain', axis='x')"
   ]
  },
  {
   "cell_type": "code",
   "execution_count": null,
   "id": "_yaQxe643Alh",
   "metadata": {
    "colab": {
     "base_uri": "https://localhost:8080/",
     "height": 301
    },
    "id": "_yaQxe643Alh",
    "outputId": "3d89889c-43e8-4746-e5c6-6db09a550c1c"
   },
   "outputs": [
    {
     "data": {
      "image/png": "[encoded data removed]",
      "text/plain": [
       "<Figure size 864x288 with 1 Axes>"
      ]
     },
     "metadata": {
      "needs_background": "light"
     },
     "output_type": "display_data"
    }
   ],
   "source": [
    "# Boxplot para la variable Price\n",
    "plt.figure(figsize=(12, 4))\n",
    "seaborn.boxplot(x=df_melb['Price'])\n",
    "seaborn.despine()"
   ]
  },
  {
   "cell_type": "code",
   "execution_count": null,
   "id": "Cy47ZOOg3J6O",
   "metadata": {
    "colab": {
     "base_uri": "https://localhost:8080/"
    },
    "id": "Cy47ZOOg3J6O",
    "outputId": "c6421658-eb0f-4c04-df62-501dfeeed2c3"
   },
   "outputs": [
    {
     "data": {
      "text/plain": [
       "0.950    2290050.0\n",
       "0.980    2865360.0\n",
       "0.990    3338150.0\n",
       "0.996    4003420.0\n",
       "0.998    4747630.0\n",
       "Name: Price, dtype: float64"
      ]
     },
     "execution_count": 27,
     "metadata": {},
     "output_type": "execute_result"
    }
   ],
   "source": [
    "# Algunos cuantiles de la variable Price\n",
    "df_melb['Price'].quantile([.95, .98, .99, .996, .998])"
   ]
  },
  {
   "cell_type": "markdown",
   "id": "TXGpgi393Pe4",
   "metadata": {
    "id": "TXGpgi393Pe4"
   },
   "source": [
    "Consideramos como valores extremos de la variable Price a aquellos precios que superan al cuantil 0,996. "
   ]
  },
  {
   "cell_type": "code",
   "execution_count": null,
   "id": "zRAgLPWY3RX8",
   "metadata": {
    "id": "zRAgLPWY3RX8"
   },
   "outputs": [],
   "source": [
    "# Eliminamos los valores extremos de la variable Price\n",
    "q996=df_melb['Price'].quantile(0.996)\n",
    "df_melb = df_melb[df_melb['Price']<=q996]"
   ]
  },
  {
   "cell_type": "code",
   "execution_count": null,
   "id": "new71dws3X3v",
   "metadata": {
    "colab": {
     "base_uri": "https://localhost:8080/",
     "height": 301
    },
    "id": "new71dws3X3v",
    "outputId": "86ee9019-4043-4010-a57a-e432970336b8"
   },
   "outputs": [
    {
     "data": {
      "image/png": "[encoded data removed]",
      "text/plain": [
       "<Figure size 864x288 with 1 Axes>"
      ]
     },
     "metadata": {
      "needs_background": "light"
     },
     "output_type": "display_data"
    }
   ],
   "source": [
    "# Boxplot para la variable Price sin valores extremos\n",
    "plt.figure(figsize=(12, 4))\n",
    "seaborn.boxplot(x=df_melb['Price'])\n",
    "seaborn.despine()"
   ]
  },
  {
   "cell_type": "markdown",
   "id": "C3g0hidR3c7U",
   "metadata": {
    "id": "C3g0hidR3c7U"
   },
   "source": [
    "**Exploración de la variable Suburb**"
   ]
  },
  {
   "cell_type": "code",
   "execution_count": null,
   "id": "NlV5eL9j3dxK",
   "metadata": {
    "colab": {
     "base_uri": "https://localhost:8080/",
     "height": 363
    },
    "id": "NlV5eL9j3dxK",
    "outputId": "d369a692-df6a-43ba-fdc0-f95b8d02b993"
   },
   "outputs": [
    {
     "data": {
      "text/html": [
       "\n",
       "  <div id=\"df-78ba181c-c922-46d1-bf18-3dca09d5f5df\">\n",
       "    <div class=\"colab-df-container\">\n",
       "      <div>\n",
       "<style scoped>\n",
       "    .dataframe tbody tr th:only-of-type {\n",
       "        vertical-align: middle;\n",
       "    }\n",
       "\n",
       "    .dataframe tbody tr th {\n",
       "        vertical-align: top;\n",
       "    }\n",
       "\n",
       "    .dataframe thead th {\n",
       "        text-align: right;\n",
       "    }\n",
       "</style>\n",
       "<table border=\"1\" class=\"dataframe\">\n",
       "  <thead>\n",
       "    <tr style=\"text-align: right;\">\n",
       "      <th></th>\n",
       "      <th>Suburb</th>\n",
       "      <th>frequency</th>\n",
       "    </tr>\n",
       "  </thead>\n",
       "  <tbody>\n",
       "    <tr>\n",
       "      <th>0</th>\n",
       "      <td>Reservoir</td>\n",
       "      <td>359</td>\n",
       "    </tr>\n",
       "    <tr>\n",
       "      <th>1</th>\n",
       "      <td>Richmond</td>\n",
       "      <td>260</td>\n",
       "    </tr>\n",
       "    <tr>\n",
       "      <th>2</th>\n",
       "      <td>Bentleigh East</td>\n",
       "      <td>249</td>\n",
       "    </tr>\n",
       "    <tr>\n",
       "      <th>3</th>\n",
       "      <td>Preston</td>\n",
       "      <td>239</td>\n",
       "    </tr>\n",
       "    <tr>\n",
       "      <th>4</th>\n",
       "      <td>Brunswick</td>\n",
       "      <td>222</td>\n",
       "    </tr>\n",
       "    <tr>\n",
       "      <th>5</th>\n",
       "      <td>Essendon</td>\n",
       "      <td>220</td>\n",
       "    </tr>\n",
       "    <tr>\n",
       "      <th>6</th>\n",
       "      <td>South Yarra</td>\n",
       "      <td>201</td>\n",
       "    </tr>\n",
       "    <tr>\n",
       "      <th>7</th>\n",
       "      <td>Glen Iris</td>\n",
       "      <td>195</td>\n",
       "    </tr>\n",
       "    <tr>\n",
       "      <th>8</th>\n",
       "      <td>Coburg</td>\n",
       "      <td>190</td>\n",
       "    </tr>\n",
       "    <tr>\n",
       "      <th>9</th>\n",
       "      <td>Northcote</td>\n",
       "      <td>187</td>\n",
       "    </tr>\n",
       "  </tbody>\n",
       "</table>\n",
       "</div>\n",
       "      <button class=\"colab-df-convert\" onclick=\"convertToInteractive('df-78ba181c-c922-46d1-bf18-3dca09d5f5df')\"\n",
       "              title=\"Convert this dataframe to an interactive table.\"\n",
       "              style=\"display:none;\">\n",
       "        \n",
       "  <svg xmlns=\"http://www.w3.org/2000/svg\" height=\"24px\"viewBox=\"0 0 24 24\"\n",
       "       width=\"24px\">\n",
       "    <path d=\"M0 0h24v24H0V0z\" fill=\"none\"/>\n",
       "    <path d=\"M18.56 5.44l.94 2.06.94-2.06 2.06-.94-2.06-.94-.94-2.06-.94 2.06-2.06.94zm-11 1L8.5 8.5l.94-2.06 2.06-.94-2.06-.94L8.5 2.5l-.94 2.06-2.06.94zm10 10l.94 2.06.94-2.06 2.06-.94-2.06-.94-.94-2.06-.94 2.06-2.06.94z\"/><path d=\"M17.41 7.96l-1.37-1.37c-.4-.4-.92-.59-1.43-.59-.52 0-1.04.2-1.43.59L10.3 9.45l-7.72 7.72c-.78.78-.78 2.05 0 2.83L4 21.41c.39.39.9.59 1.41.59.51 0 1.02-.2 1.41-.59l7.78-7.78 2.81-2.81c.8-.78.8-2.07 0-2.86zM5.41 20L4 18.59l7.72-7.72 1.47 1.35L5.41 20z\"/>\n",
       "  </svg>\n",
       "      </button>\n",
       "      \n",
       "  <style>\n",
       "    .colab-df-container {\n",
       "      display:flex;\n",
       "      flex-wrap:wrap;\n",
       "      gap: 12px;\n",
       "    }\n",
       "\n",
       "    .colab-df-convert {\n",
       "      background-color: #E8F0FE;\n",
       "      border: none;\n",
       "      border-radius: 50%;\n",
       "      cursor: pointer;\n",
       "      display: none;\n",
       "      fill: #1967D2;\n",
       "      height: 32px;\n",
       "      padding: 0 0 0 0;\n",
       "      width: 32px;\n",
       "    }\n",
       "\n",
       "    .colab-df-convert:hover {\n",
       "      background-color: #E2EBFA;\n",
       "      box-shadow: 0px 1px 2px rgba(60, 64, 67, 0.3), 0px 1px 3px 1px rgba(60, 64, 67, 0.15);\n",
       "      fill: #174EA6;\n",
       "    }\n",
       "\n",
       "    [theme=dark] .colab-df-convert {\n",
       "      background-color: #3B4455;\n",
       "      fill: #D2E3FC;\n",
       "    }\n",
       "\n",
       "    [theme=dark] .colab-df-convert:hover {\n",
       "      background-color: #434B5C;\n",
       "      box-shadow: 0px 1px 3px 1px rgba(0, 0, 0, 0.15);\n",
       "      filter: drop-shadow(0px 1px 2px rgba(0, 0, 0, 0.3));\n",
       "      fill: #FFFFFF;\n",
       "    }\n",
       "  </style>\n",
       "\n",
       "      <script>\n",
       "        const buttonEl =\n",
       "          document.querySelector('#df-78ba181c-c922-46d1-bf18-3dca09d5f5df button.colab-df-convert');\n",
       "        buttonEl.style.display =\n",
       "          google.colab.kernel.accessAllowed ? 'block' : 'none';\n",
       "\n",
       "        async function convertToInteractive(key) {\n",
       "          const element = document.querySelector('#df-78ba181c-c922-46d1-bf18-3dca09d5f5df');\n",
       "          const dataTable =\n",
       "            await google.colab.kernel.invokeFunction('convertToInteractive',\n",
       "                                                     [key], {});\n",
       "          if (!dataTable) return;\n",
       "\n",
       "          const docLinkHtml = 'Like what you see? Visit the ' +\n",
       "            '<a target=\"_blank\" href=https://colab.research.google.com/notebooks/data_table.ipynb>data table notebook</a>'\n",
       "            + ' to learn more about interactive tables.';\n",
       "          element.innerHTML = '';\n",
       "          dataTable['output_type'] = 'display_data';\n",
       "          await google.colab.output.renderOutput(dataTable, element);\n",
       "          const docLink = document.createElement('div');\n",
       "          docLink.innerHTML = docLinkHtml;\n",
       "          element.appendChild(docLink);\n",
       "        }\n",
       "      </script>\n",
       "    </div>\n",
       "  </div>\n",
       "  "
      ],
      "text/plain": [
       "           Suburb  frequency\n",
       "0       Reservoir        359\n",
       "1        Richmond        260\n",
       "2  Bentleigh East        249\n",
       "3         Preston        239\n",
       "4       Brunswick        222\n",
       "5        Essendon        220\n",
       "6     South Yarra        201\n",
       "7       Glen Iris        195\n",
       "8          Coburg        190\n",
       "9       Northcote        187"
      ]
     },
     "execution_count": 30,
     "metadata": {},
     "output_type": "execute_result"
    }
   ],
   "source": [
    "# Freciuencias absolutas Suburb para df_melb\n",
    "Suburb_count = df_melb.Suburb.value_counts()\\\n",
    "    .reset_index()\\\n",
    "    .rename(columns={'index': 'Suburb', 'Suburb': 'frequency'})\n",
    "Suburb_count[:10]"
   ]
  },
  {
   "cell_type": "code",
   "execution_count": null,
   "id": "q8EAWw3G3lb6",
   "metadata": {
    "colab": {
     "base_uri": "https://localhost:8080/"
    },
    "id": "q8EAWw3G3lb6",
    "outputId": "650e834e-c753-4f1c-81e3-53e80c589ee2"
   },
   "outputs": [
    {
     "data": {
      "text/plain": [
       "1      21\n",
       "2      15\n",
       "4      14\n",
       "5      10\n",
       "6      10\n",
       "       ..\n",
       "102     1\n",
       "105     1\n",
       "110     1\n",
       "111     1\n",
       "64      1\n",
       "Name: frequency, Length: 115, dtype: int64"
      ]
     },
     "execution_count": 31,
     "metadata": {},
     "output_type": "execute_result"
    }
   ],
   "source": [
    "# Distribución de las frecuencias de Suburb\n",
    "Suburb_count['frequency'].value_counts()"
   ]
  },
  {
   "cell_type": "code",
   "execution_count": null,
   "id": "kO5HyNkV3ocz",
   "metadata": {
    "colab": {
     "base_uri": "https://localhost:8080/"
    },
    "id": "kO5HyNkV3ocz",
    "outputId": "c95009ab-a979-45fe-aec2-ecf51f7f508f"
   },
   "outputs": [
    {
     "data": {
      "text/plain": [
       "count    314.000000\n",
       "mean      43.073248\n",
       "std       54.887550\n",
       "min        1.000000\n",
       "25%        6.250000\n",
       "50%       20.000000\n",
       "75%       58.750000\n",
       "max      359.000000\n",
       "Name: Suburb, dtype: float64"
      ]
     },
     "execution_count": 32,
     "metadata": {},
     "output_type": "execute_result"
    }
   ],
   "source": [
    "# Medidas resumen para la frecuencia de Suburb\n",
    "df_melb.Suburb.value_counts().describe()"
   ]
  },
  {
   "cell_type": "markdown",
   "id": "pLL0-ErL3v-N",
   "metadata": {
    "id": "pLL0-ErL3v-N"
   },
   "source": [
    "Quitamos de la base df_melb los suburbs con frecuencia menor a 4, ya que consideramos que están poco representados."
   ]
  },
  {
   "cell_type": "code",
   "execution_count": null,
   "id": "SFjGJSTl3zF3",
   "metadata": {
    "id": "SFjGJSTl3zF3"
   },
   "outputs": [],
   "source": [
    "# Quitamos de la base df_melb los suburbs con frecuencia menor a 4.\n",
    "Suburb_principales= Suburb_count[Suburb_count['frequency'] >= 4]\n",
    "\n",
    "df_melb = df_melb[df_melb['Suburb'].isin(Suburb_principales['Suburb'])]"
   ]
  },
  {
   "cell_type": "code",
   "execution_count": null,
   "id": "zGaluF_b3808",
   "metadata": {
    "colab": {
     "base_uri": "https://localhost:8080/"
    },
    "id": "zGaluF_b3808",
    "outputId": "e07af1eb-b9b4-4ac3-b444-fc754badb2c3"
   },
   "outputs": [
    {
     "data": {
      "text/plain": [
       "13447"
      ]
     },
     "execution_count": 34,
     "metadata": {},
     "output_type": "execute_result"
    }
   ],
   "source": [
    "len(df_melb)"
   ]
  },
  {
   "cell_type": "markdown",
   "id": "cCH8uUt-4CvA",
   "metadata": {
    "id": "cCH8uUt-4CvA"
   },
   "source": [
    "### Ejercicio 2: 2) Agregado de información adicional de la base df_airbnb."
   ]
  },
  {
   "cell_type": "code",
   "execution_count": null,
   "id": "gd6yuvqN4Epy",
   "metadata": {
    "colab": {
     "base_uri": "https://localhost:8080/"
    },
    "id": "gd6yuvqN4Epy",
    "outputId": "b63c259d-f9bc-4bf1-df87-828598c10beb"
   },
   "outputs": [
    {
     "data": {
      "text/plain": [
       "Index(['description', 'neighborhood_overview', 'street', 'neighborhood',\n",
       "       'city', 'suburb', 'state', 'zipcode', 'latitude', 'longitude', 'price',\n",
       "       'weekly_price', 'monthly_price'],\n",
       "      dtype='object')"
      ]
     },
     "execution_count": 35,
     "metadata": {},
     "output_type": "execute_result"
    }
   ],
   "source": [
    "# Lista de columnas de df_airbnb\n",
    "df_airbnb.columns"
   ]
  },
  {
   "cell_type": "code",
   "execution_count": null,
   "id": "Z8EBeeRg4Ke4",
   "metadata": {
    "id": "Z8EBeeRg4Ke4"
   },
   "outputs": [],
   "source": [
    "# Selección de columnas relevantes de la base df_airbnb\n",
    "relevant_cols = ['zipcode','price',\n",
    "       'weekly_price', 'monthly_price']"
   ]
  },
  {
   "cell_type": "markdown",
   "id": "CKShM2XM4U3E",
   "metadata": {
    "id": "CKShM2XM4U3E"
   },
   "source": [
    "**Exploración de la variable price de df_airbnb**"
   ]
  },
  {
   "cell_type": "code",
   "execution_count": null,
   "id": "MlajRvN34VuO",
   "metadata": {
    "colab": {
     "base_uri": "https://localhost:8080/"
    },
    "id": "MlajRvN34VuO",
    "outputId": "d1185118-d958-42cf-872d-81c0fdd40285"
   },
   "outputs": [
    {
     "data": {
      "text/plain": [
       "count    22895.000000\n",
       "mean       148.004368\n",
       "std        210.883253\n",
       "min          0.000000\n",
       "25%         71.000000\n",
       "50%        111.000000\n",
       "75%        165.000000\n",
       "max      12624.000000\n",
       "Name: price, dtype: float64"
      ]
     },
     "execution_count": 37,
     "metadata": {},
     "output_type": "execute_result"
    }
   ],
   "source": [
    "# Medidas resumen de la variable price\n",
    "df_airbnb['price'].describe()"
   ]
  },
  {
   "cell_type": "code",
   "execution_count": null,
   "id": "ASdPqIPQ4btb",
   "metadata": {
    "colab": {
     "base_uri": "https://localhost:8080/"
    },
    "id": "ASdPqIPQ4btb",
    "outputId": "8d552acf-2490-4da0-f6dd-59280ed0d704"
   },
   "outputs": [
    {
     "data": {
      "text/plain": [
       "0.950     352.0\n",
       "0.980     595.0\n",
       "0.990     800.0\n",
       "0.995     999.0\n",
       "0.998    1501.0\n",
       "Name: price, dtype: float64"
      ]
     },
     "execution_count": 38,
     "metadata": {},
     "output_type": "execute_result"
    }
   ],
   "source": [
    "# Algunos cuantiles de variable price\n",
    "df_airbnb['price'].quantile([.95, .98, .99, .995, .998])"
   ]
  },
  {
   "cell_type": "code",
   "execution_count": null,
   "id": "1-tD0sXT4hi3",
   "metadata": {
    "colab": {
     "base_uri": "https://localhost:8080/",
     "height": 164
    },
    "id": "1-tD0sXT4hi3",
    "outputId": "49252c0f-fea6-489b-97d2-4ef27f5a9ffd"
   },
   "outputs": [
    {
     "data": {
      "image/png": "[encoded data removed]",
      "text/plain": [
       "<Figure size 2160x360 with 1 Axes>"
      ]
     },
     "metadata": {
      "needs_background": "light"
     },
     "output_type": "display_data"
    }
   ],
   "source": [
    "# Distribución de la variable price\n",
    "seaborn.displot(df_airbnb['price'], aspect=6)\n",
    "plt.ticklabel_format(style='plain', axis='x')"
   ]
  },
  {
   "cell_type": "markdown",
   "id": "DQJbrUJq4q9k",
   "metadata": {
    "id": "DQJbrUJq4q9k"
   },
   "source": [
    "Consideramos como valores atípicos para la variable price a aquellos precios que superan al cuantil 0,998."
   ]
  },
  {
   "cell_type": "code",
   "execution_count": null,
   "id": "o8UG8kuA4rz5",
   "metadata": {
    "id": "o8UG8kuA4rz5"
   },
   "outputs": [],
   "source": [
    "# Quitamos los valores atípicos para la variable price\n",
    "q998=df_airbnb['price'].quantile(0.998)\n",
    "\n",
    "df_airbnb = df_airbnb[df_airbnb['price']<=q998]"
   ]
  },
  {
   "cell_type": "code",
   "execution_count": null,
   "id": "yNks8x7y4y7T",
   "metadata": {
    "colab": {
     "base_uri": "https://localhost:8080/",
     "height": 164
    },
    "id": "yNks8x7y4y7T",
    "outputId": "c348a43b-6f1b-409a-a183-413245cccdc0"
   },
   "outputs": [
    {
     "data": {
      "image/png": "[encoded data removed]",
      "text/plain": [
       "<Figure size 2160x360 with 1 Axes>"
      ]
     },
     "metadata": {
      "needs_background": "light"
     },
     "output_type": "display_data"
    }
   ],
   "source": [
    "# Distribución de la variable price sin valores atípicos\n",
    "seaborn.displot(df_airbnb['price'], aspect=6)\n",
    "plt.ticklabel_format(style='plain', axis='x')"
   ]
  },
  {
   "cell_type": "code",
   "execution_count": null,
   "id": "iA6PlSLa46lx",
   "metadata": {
    "colab": {
     "base_uri": "https://localhost:8080/"
    },
    "id": "iA6PlSLa46lx",
    "outputId": "cef0a682-774a-4bc6-b533-d36dfa9b3317"
   },
   "outputs": [
    {
     "data": {
      "text/plain": [
       "count    22852.000000\n",
       "mean       142.640732\n",
       "std        130.043500\n",
       "min          0.000000\n",
       "25%         71.000000\n",
       "50%        109.000000\n",
       "75%        165.000000\n",
       "max       1501.000000\n",
       "Name: price, dtype: float64"
      ]
     },
     "execution_count": 42,
     "metadata": {},
     "output_type": "execute_result"
    }
   ],
   "source": [
    "# Medidas resumen de la variable price sin valores atípicos\n",
    "df_airbnb['price'].describe()"
   ]
  },
  {
   "cell_type": "markdown",
   "id": "vtQ-bdh35DCy",
   "metadata": {
    "id": "vtQ-bdh35DCy"
   },
   "source": [
    "**Exploración de la variable monthly_price**"
   ]
  },
  {
   "cell_type": "code",
   "execution_count": null,
   "id": "sDDc3fXe5Dxv",
   "metadata": {
    "colab": {
     "base_uri": "https://localhost:8080/",
     "height": 164
    },
    "id": "sDDc3fXe5Dxv",
    "outputId": "ac029bfa-44b5-44fc-acbf-f44a17da7041"
   },
   "outputs": [
    {
     "data": {
      "image/png": "[encoded data removed]",
      "text/plain": [
       "<Figure size 2160x360 with 1 Axes>"
      ]
     },
     "metadata": {
      "needs_background": "light"
     },
     "output_type": "display_data"
    }
   ],
   "source": [
    "# Distribución de la variable monthly_price\n",
    "seaborn.displot(df_airbnb['monthly_price'], aspect=6)\n",
    "plt.ticklabel_format(style='plain', axis='x')"
   ]
  },
  {
   "cell_type": "code",
   "execution_count": null,
   "id": "mCXbZcRU5Nbz",
   "metadata": {
    "colab": {
     "base_uri": "https://localhost:8080/"
    },
    "id": "mCXbZcRU5Nbz",
    "outputId": "e05733ff-c2d8-4639-f06e-b56d5f05483f"
   },
   "outputs": [
    {
     "data": {
      "text/plain": [
       "count     1889.000000\n",
       "mean      3200.462679\n",
       "std       2608.618552\n",
       "min        400.000000\n",
       "25%       1700.000000\n",
       "50%       2800.000000\n",
       "75%       3900.000000\n",
       "max      54258.000000\n",
       "Name: monthly_price, dtype: float64"
      ]
     },
     "execution_count": 44,
     "metadata": {},
     "output_type": "execute_result"
    }
   ],
   "source": [
    "# Medidas resumen de la variable monthly_price\n",
    "df_airbnb['monthly_price'].describe()"
   ]
  },
  {
   "cell_type": "markdown",
   "id": "mgxd5gXT5SV-",
   "metadata": {
    "id": "mgxd5gXT5SV-"
   },
   "source": [
    "**Exploración de la variable weekly_price**"
   ]
  },
  {
   "cell_type": "code",
   "execution_count": null,
   "id": "KgqV9Ktd5TSq",
   "metadata": {
    "colab": {
     "base_uri": "https://localhost:8080/",
     "height": 164
    },
    "id": "KgqV9Ktd5TSq",
    "outputId": "083ba8af-b3be-43ad-bd70-594418b50c30"
   },
   "outputs": [
    {
     "data": {
      "image/png": "[encoded data removed]",
      "text/plain": [
       "<Figure size 2160x360 with 1 Axes>"
      ]
     },
     "metadata": {
      "needs_background": "light"
     },
     "output_type": "display_data"
    }
   ],
   "source": [
    "# Distribución de la variable weekly_price\n",
    "seaborn.displot(df_airbnb['weekly_price'], aspect=6)\n",
    "plt.ticklabel_format(style='plain', axis='x')"
   ]
  },
  {
   "cell_type": "code",
   "execution_count": null,
   "id": "nlRPRBXz5X2Z",
   "metadata": {
    "colab": {
     "base_uri": "https://localhost:8080/"
    },
    "id": "nlRPRBXz5X2Z",
    "outputId": "f693f346-cf0d-40f1-87fe-a01da06ba916"
   },
   "outputs": [
    {
     "data": {
      "text/plain": [
       "count    2520.000000\n",
       "mean      891.958333\n",
       "std       729.128422\n",
       "min        91.000000\n",
       "25%       450.000000\n",
       "50%       747.000000\n",
       "75%      1060.000000\n",
       "max      9899.000000\n",
       "Name: weekly_price, dtype: float64"
      ]
     },
     "execution_count": 46,
     "metadata": {},
     "output_type": "execute_result"
    }
   ],
   "source": [
    "# Medidas resumen de la variable weekly_price\n",
    "df_airbnb['weekly_price'].describe()"
   ]
  },
  {
   "cell_type": "markdown",
   "id": "eh65eBEk5bCG",
   "metadata": {
    "id": "eh65eBEk5bCG"
   },
   "source": [
    "Notar que las variables price, monthly_price y weekly_price tienen distribuciones asimétricas a derecha. Por esta razón creemos conveniente utilizar la mediana en lugar de la media como medida de posición central. "
   ]
  },
  {
   "cell_type": "markdown",
   "id": "8Xbi5H-S5da6",
   "metadata": {
    "id": "8Xbi5H-S5da6"
   },
   "source": [
    "**Exploración de la variable zipcode**"
   ]
  },
  {
   "cell_type": "code",
   "execution_count": null,
   "id": "89vPoNRD5jNr",
   "metadata": {
    "colab": {
     "base_uri": "https://localhost:8080/",
     "height": 363
    },
    "id": "89vPoNRD5jNr",
    "outputId": "b5c21c48-a4a8-4fa1-ec83-1fa2f0b7457e"
   },
   "outputs": [
    {
     "data": {
      "text/html": [
       "\n",
       "  <div id=\"df-8102efbd-c679-4ce6-ad85-7e14600df772\">\n",
       "    <div class=\"colab-df-container\">\n",
       "      <div>\n",
       "<style scoped>\n",
       "    .dataframe tbody tr th:only-of-type {\n",
       "        vertical-align: middle;\n",
       "    }\n",
       "\n",
       "    .dataframe tbody tr th {\n",
       "        vertical-align: top;\n",
       "    }\n",
       "\n",
       "    .dataframe thead th {\n",
       "        text-align: right;\n",
       "    }\n",
       "</style>\n",
       "<table border=\"1\" class=\"dataframe\">\n",
       "  <thead>\n",
       "    <tr style=\"text-align: right;\">\n",
       "      <th></th>\n",
       "      <th>Zipcode</th>\n",
       "      <th>frequency</th>\n",
       "    </tr>\n",
       "  </thead>\n",
       "  <tbody>\n",
       "    <tr>\n",
       "      <th>0</th>\n",
       "      <td>3000.0</td>\n",
       "      <td>3363</td>\n",
       "    </tr>\n",
       "    <tr>\n",
       "      <th>1</th>\n",
       "      <td>3006.0</td>\n",
       "      <td>1263</td>\n",
       "    </tr>\n",
       "    <tr>\n",
       "      <th>2</th>\n",
       "      <td>3182.0</td>\n",
       "      <td>1133</td>\n",
       "    </tr>\n",
       "    <tr>\n",
       "      <th>3</th>\n",
       "      <td>3141.0</td>\n",
       "      <td>877</td>\n",
       "    </tr>\n",
       "    <tr>\n",
       "      <th>4</th>\n",
       "      <td>3004.0</td>\n",
       "      <td>727</td>\n",
       "    </tr>\n",
       "    <tr>\n",
       "      <th>5</th>\n",
       "      <td>3121.0</td>\n",
       "      <td>628</td>\n",
       "    </tr>\n",
       "    <tr>\n",
       "      <th>6</th>\n",
       "      <td>3008.0</td>\n",
       "      <td>616</td>\n",
       "    </tr>\n",
       "    <tr>\n",
       "      <th>7</th>\n",
       "      <td>3053.0</td>\n",
       "      <td>538</td>\n",
       "    </tr>\n",
       "    <tr>\n",
       "      <th>8</th>\n",
       "      <td>3181.0</td>\n",
       "      <td>460</td>\n",
       "    </tr>\n",
       "    <tr>\n",
       "      <th>9</th>\n",
       "      <td>3056.0</td>\n",
       "      <td>446</td>\n",
       "    </tr>\n",
       "  </tbody>\n",
       "</table>\n",
       "</div>\n",
       "      <button class=\"colab-df-convert\" onclick=\"convertToInteractive('df-8102efbd-c679-4ce6-ad85-7e14600df772')\"\n",
       "              title=\"Convert this dataframe to an interactive table.\"\n",
       "              style=\"display:none;\">\n",
       "        \n",
       "  <svg xmlns=\"http://www.w3.org/2000/svg\" height=\"24px\"viewBox=\"0 0 24 24\"\n",
       "       width=\"24px\">\n",
       "    <path d=\"M0 0h24v24H0V0z\" fill=\"none\"/>\n",
       "    <path d=\"M18.56 5.44l.94 2.06.94-2.06 2.06-.94-2.06-.94-.94-2.06-.94 2.06-2.06.94zm-11 1L8.5 8.5l.94-2.06 2.06-.94-2.06-.94L8.5 2.5l-.94 2.06-2.06.94zm10 10l.94 2.06.94-2.06 2.06-.94-2.06-.94-.94-2.06-.94 2.06-2.06.94z\"/><path d=\"M17.41 7.96l-1.37-1.37c-.4-.4-.92-.59-1.43-.59-.52 0-1.04.2-1.43.59L10.3 9.45l-7.72 7.72c-.78.78-.78 2.05 0 2.83L4 21.41c.39.39.9.59 1.41.59.51 0 1.02-.2 1.41-.59l7.78-7.78 2.81-2.81c.8-.78.8-2.07 0-2.86zM5.41 20L4 18.59l7.72-7.72 1.47 1.35L5.41 20z\"/>\n",
       "  </svg>\n",
       "      </button>\n",
       "      \n",
       "  <style>\n",
       "    .colab-df-container {\n",
       "      display:flex;\n",
       "      flex-wrap:wrap;\n",
       "      gap: 12px;\n",
       "    }\n",
       "\n",
       "    .colab-df-convert {\n",
       "      background-color: #E8F0FE;\n",
       "      border: none;\n",
       "      border-radius: 50%;\n",
       "      cursor: pointer;\n",
       "      display: none;\n",
       "      fill: #1967D2;\n",
       "      height: 32px;\n",
       "      padding: 0 0 0 0;\n",
       "      width: 32px;\n",
       "    }\n",
       "\n",
       "    .colab-df-convert:hover {\n",
       "      background-color: #E2EBFA;\n",
       "      box-shadow: 0px 1px 2px rgba(60, 64, 67, 0.3), 0px 1px 3px 1px rgba(60, 64, 67, 0.15);\n",
       "      fill: #174EA6;\n",
       "    }\n",
       "\n",
       "    [theme=dark] .colab-df-convert {\n",
       "      background-color: #3B4455;\n",
       "      fill: #D2E3FC;\n",
       "    }\n",
       "\n",
       "    [theme=dark] .colab-df-convert:hover {\n",
       "      background-color: #434B5C;\n",
       "      box-shadow: 0px 1px 3px 1px rgba(0, 0, 0, 0.15);\n",
       "      filter: drop-shadow(0px 1px 2px rgba(0, 0, 0, 0.3));\n",
       "      fill: #FFFFFF;\n",
       "    }\n",
       "  </style>\n",
       "\n",
       "      <script>\n",
       "        const buttonEl =\n",
       "          document.querySelector('#df-8102efbd-c679-4ce6-ad85-7e14600df772 button.colab-df-convert');\n",
       "        buttonEl.style.display =\n",
       "          google.colab.kernel.accessAllowed ? 'block' : 'none';\n",
       "\n",
       "        async function convertToInteractive(key) {\n",
       "          const element = document.querySelector('#df-8102efbd-c679-4ce6-ad85-7e14600df772');\n",
       "          const dataTable =\n",
       "            await google.colab.kernel.invokeFunction('convertToInteractive',\n",
       "                                                     [key], {});\n",
       "          if (!dataTable) return;\n",
       "\n",
       "          const docLinkHtml = 'Like what you see? Visit the ' +\n",
       "            '<a target=\"_blank\" href=https://colab.research.google.com/notebooks/data_table.ipynb>data table notebook</a>'\n",
       "            + ' to learn more about interactive tables.';\n",
       "          element.innerHTML = '';\n",
       "          dataTable['output_type'] = 'display_data';\n",
       "          await google.colab.output.renderOutput(dataTable, element);\n",
       "          const docLink = document.createElement('div');\n",
       "          docLink.innerHTML = docLinkHtml;\n",
       "          element.appendChild(docLink);\n",
       "        }\n",
       "      </script>\n",
       "    </div>\n",
       "  </div>\n",
       "  "
      ],
      "text/plain": [
       "   Zipcode  frequency\n",
       "0   3000.0       3363\n",
       "1   3006.0       1263\n",
       "2   3182.0       1133\n",
       "3   3141.0        877\n",
       "4   3004.0        727\n",
       "5   3121.0        628\n",
       "6   3008.0        616\n",
       "7   3053.0        538\n",
       "8   3181.0        460\n",
       "9   3056.0        446"
      ]
     },
     "execution_count": 47,
     "metadata": {},
     "output_type": "execute_result"
    }
   ],
   "source": [
    "# Freciuencias absolutas zipcode para df_airbnb\n",
    "zipcode_count = df_airbnb.zipcode.value_counts()\\\n",
    "    .reset_index()\\\n",
    "    .rename(columns={'index': 'Zipcode', 'zipcode': 'frequency'})\n",
    "zipcode_count[:10]"
   ]
  },
  {
   "cell_type": "code",
   "execution_count": null,
   "id": "t9MS0bQg5nkT",
   "metadata": {
    "colab": {
     "base_uri": "https://localhost:8080/"
    },
    "id": "t9MS0bQg5nkT",
    "outputId": "456c9962-5a9d-4817-8814-cc606b5f3eba"
   },
   "outputs": [
    {
     "data": {
      "text/plain": [
       "count     247.000000\n",
       "mean       91.931174\n",
       "std       261.520444\n",
       "min         1.000000\n",
       "25%         8.500000\n",
       "50%        27.000000\n",
       "75%        73.000000\n",
       "max      3363.000000\n",
       "Name: zipcode, dtype: float64"
      ]
     },
     "execution_count": 48,
     "metadata": {},
     "output_type": "execute_result"
    }
   ],
   "source": [
    "# Medidas resumen para las frecuencias de zipcode\n",
    "df_airbnb.zipcode.value_counts().describe()"
   ]
  },
  {
   "cell_type": "markdown",
   "id": "RNv5_y_Z5q1T",
   "metadata": {
    "id": "RNv5_y_Z5q1T"
   },
   "source": [
    "Tomaremos aquellos zipcodes con frecuencias mayores o iguales a 9, ya que a partir de esa frecuencias creemos que son relevantes. "
   ]
  },
  {
   "cell_type": "code",
   "execution_count": null,
   "id": "X0AsieGD5sqE",
   "metadata": {
    "id": "X0AsieGD5sqE"
   },
   "outputs": [],
   "source": [
    "# Quitamos de la base df_airbnb aquellos zipcodes con frecuencias menores a 9\n",
    "zipcode_principales= zipcode_count[zipcode_count['frequency'] >= 9]\n",
    "\n",
    "df_airbnb = df_airbnb[df_airbnb['zipcode'].isin(zipcode_principales['Zipcode'])]"
   ]
  },
  {
   "cell_type": "code",
   "execution_count": null,
   "id": "-n168m1D5wht",
   "metadata": {
    "colab": {
     "base_uri": "https://localhost:8080/"
    },
    "id": "-n168m1D5wht",
    "outputId": "e79f7f81-e8ed-4e04-9b7d-7aac0ec8a213"
   },
   "outputs": [
    {
     "data": {
      "text/plain": [
       "count     185.000000\n",
       "mean      121.427027\n",
       "std       296.565882\n",
       "min         9.000000\n",
       "25%        21.000000\n",
       "50%        42.000000\n",
       "75%       104.000000\n",
       "max      3363.000000\n",
       "Name: zipcode, dtype: float64"
      ]
     },
     "execution_count": 50,
     "metadata": {},
     "output_type": "execute_result"
    }
   ],
   "source": [
    "df_airbnb['zipcode'].value_counts().describe()"
   ]
  },
  {
   "cell_type": "markdown",
   "id": "DttjenC05zrT",
   "metadata": {
    "id": "DttjenC05zrT"
   },
   "source": [
    "A continuación agrupamos los precios, precios semanales y precios mensuales por código postal tomando la mediana, ya que vimos en el análisis exploratorio que las distribuciones son asimétricas a derecha. "
   ]
  },
  {
   "cell_type": "code",
   "execution_count": null,
   "id": "mQkz2s9253z2",
   "metadata": {
    "id": "mQkz2s9253z2"
   },
   "outputs": [],
   "source": [
    "# Agrupación de los precios por códigos postales de la base df_airbnb considerando la mediana.\n",
    "relevant_cols = ['price', 'weekly_price', 'monthly_price', 'zipcode']\n",
    "\n",
    "# Pass a dictionary where the keys are the original columns to aggregate and\n",
    "# the values are the operations (or list of operations).\n",
    "airbnb_price_by_zipcode = df_airbnb[relevant_cols].groupby('zipcode')\\\n",
    "  .agg({'price': ['median', 'count'], 'weekly_price': 'median',\n",
    "        'monthly_price': 'median'})\\\n",
    "  .reset_index()\n",
    "# Flatten the two level columns\n",
    "airbnb_price_by_zipcode.columns = [\n",
    "  ' '.join(col).strip()\n",
    "  for col in airbnb_price_by_zipcode.columns.values]\n",
    "# Rename columns\n",
    "airbnb_price_by_zipcode = airbnb_price_by_zipcode.rename(\n",
    "    columns={'price median': 'airbnb_price_median',\n",
    "             'price count': 'airbnb_record_count',\n",
    "             'weekly_price median': 'airbnb_weekly_price_median',\n",
    "             'monthly_price median': 'airbnb_monthly_price_median'}\n",
    ")"
   ]
  },
  {
   "cell_type": "code",
   "execution_count": null,
   "id": "3uX4e1vd5--9",
   "metadata": {
    "colab": {
     "base_uri": "https://localhost:8080/",
     "height": 407
    },
    "id": "3uX4e1vd5--9",
    "outputId": "38ab15d8-c568-485c-b49d-da612e3e6c19"
   },
   "outputs": [
    {
     "data": {
      "text/html": [
       "\n",
       "  <div id=\"df-eb64a7d2-fdd7-498d-9ae8-46c93b2d83c8\">\n",
       "    <div class=\"colab-df-container\">\n",
       "      <div>\n",
       "<style scoped>\n",
       "    .dataframe tbody tr th:only-of-type {\n",
       "        vertical-align: middle;\n",
       "    }\n",
       "\n",
       "    .dataframe tbody tr th {\n",
       "        vertical-align: top;\n",
       "    }\n",
       "\n",
       "    .dataframe thead th {\n",
       "        text-align: right;\n",
       "    }\n",
       "</style>\n",
       "<table border=\"1\" class=\"dataframe\">\n",
       "  <thead>\n",
       "    <tr style=\"text-align: right;\">\n",
       "      <th></th>\n",
       "      <th>zipcode</th>\n",
       "      <th>airbnb_price_median</th>\n",
       "      <th>airbnb_record_count</th>\n",
       "      <th>airbnb_weekly_price_median</th>\n",
       "      <th>airbnb_monthly_price_median</th>\n",
       "    </tr>\n",
       "  </thead>\n",
       "  <tbody>\n",
       "    <tr>\n",
       "      <th>0</th>\n",
       "      <td>3000.0</td>\n",
       "      <td>129.0</td>\n",
       "      <td>3363</td>\n",
       "      <td>857.0</td>\n",
       "      <td>3469.0</td>\n",
       "    </tr>\n",
       "    <tr>\n",
       "      <th>1</th>\n",
       "      <td>3002.0</td>\n",
       "      <td>130.0</td>\n",
       "      <td>196</td>\n",
       "      <td>775.0</td>\n",
       "      <td>3300.0</td>\n",
       "    </tr>\n",
       "    <tr>\n",
       "      <th>2</th>\n",
       "      <td>3003.0</td>\n",
       "      <td>120.0</td>\n",
       "      <td>267</td>\n",
       "      <td>728.0</td>\n",
       "      <td>2500.0</td>\n",
       "    </tr>\n",
       "    <tr>\n",
       "      <th>3</th>\n",
       "      <td>3004.0</td>\n",
       "      <td>130.0</td>\n",
       "      <td>727</td>\n",
       "      <td>1000.0</td>\n",
       "      <td>3895.0</td>\n",
       "    </tr>\n",
       "    <tr>\n",
       "      <th>4</th>\n",
       "      <td>3006.0</td>\n",
       "      <td>150.0</td>\n",
       "      <td>1263</td>\n",
       "      <td>1099.5</td>\n",
       "      <td>3955.0</td>\n",
       "    </tr>\n",
       "    <tr>\n",
       "      <th>5</th>\n",
       "      <td>3008.0</td>\n",
       "      <td>138.0</td>\n",
       "      <td>616</td>\n",
       "      <td>850.0</td>\n",
       "      <td>2902.0</td>\n",
       "    </tr>\n",
       "    <tr>\n",
       "      <th>6</th>\n",
       "      <td>3011.0</td>\n",
       "      <td>65.0</td>\n",
       "      <td>198</td>\n",
       "      <td>350.0</td>\n",
       "      <td>1300.0</td>\n",
       "    </tr>\n",
       "    <tr>\n",
       "      <th>7</th>\n",
       "      <td>3012.0</td>\n",
       "      <td>90.5</td>\n",
       "      <td>76</td>\n",
       "      <td>365.0</td>\n",
       "      <td>1900.0</td>\n",
       "    </tr>\n",
       "    <tr>\n",
       "      <th>8</th>\n",
       "      <td>3013.0</td>\n",
       "      <td>108.5</td>\n",
       "      <td>82</td>\n",
       "      <td>800.0</td>\n",
       "      <td>2000.0</td>\n",
       "    </tr>\n",
       "    <tr>\n",
       "      <th>9</th>\n",
       "      <td>3015.0</td>\n",
       "      <td>96.0</td>\n",
       "      <td>65</td>\n",
       "      <td>559.5</td>\n",
       "      <td>1974.0</td>\n",
       "    </tr>\n",
       "  </tbody>\n",
       "</table>\n",
       "</div>\n",
       "      <button class=\"colab-df-convert\" onclick=\"convertToInteractive('df-eb64a7d2-fdd7-498d-9ae8-46c93b2d83c8')\"\n",
       "              title=\"Convert this dataframe to an interactive table.\"\n",
       "              style=\"display:none;\">\n",
       "        \n",
       "  <svg xmlns=\"http://www.w3.org/2000/svg\" height=\"24px\"viewBox=\"0 0 24 24\"\n",
       "       width=\"24px\">\n",
       "    <path d=\"M0 0h24v24H0V0z\" fill=\"none\"/>\n",
       "    <path d=\"M18.56 5.44l.94 2.06.94-2.06 2.06-.94-2.06-.94-.94-2.06-.94 2.06-2.06.94zm-11 1L8.5 8.5l.94-2.06 2.06-.94-2.06-.94L8.5 2.5l-.94 2.06-2.06.94zm10 10l.94 2.06.94-2.06 2.06-.94-2.06-.94-.94-2.06-.94 2.06-2.06.94z\"/><path d=\"M17.41 7.96l-1.37-1.37c-.4-.4-.92-.59-1.43-.59-.52 0-1.04.2-1.43.59L10.3 9.45l-7.72 7.72c-.78.78-.78 2.05 0 2.83L4 21.41c.39.39.9.59 1.41.59.51 0 1.02-.2 1.41-.59l7.78-7.78 2.81-2.81c.8-.78.8-2.07 0-2.86zM5.41 20L4 18.59l7.72-7.72 1.47 1.35L5.41 20z\"/>\n",
       "  </svg>\n",
       "      </button>\n",
       "      \n",
       "  <style>\n",
       "    .colab-df-container {\n",
       "      display:flex;\n",
       "      flex-wrap:wrap;\n",
       "      gap: 12px;\n",
       "    }\n",
       "\n",
       "    .colab-df-convert {\n",
       "      background-color: #E8F0FE;\n",
       "      border: none;\n",
       "      border-radius: 50%;\n",
       "      cursor: pointer;\n",
       "      display: none;\n",
       "      fill: #1967D2;\n",
       "      height: 32px;\n",
       "      padding: 0 0 0 0;\n",
       "      width: 32px;\n",
       "    }\n",
       "\n",
       "    .colab-df-convert:hover {\n",
       "      background-color: #E2EBFA;\n",
       "      box-shadow: 0px 1px 2px rgba(60, 64, 67, 0.3), 0px 1px 3px 1px rgba(60, 64, 67, 0.15);\n",
       "      fill: #174EA6;\n",
       "    }\n",
       "\n",
       "    [theme=dark] .colab-df-convert {\n",
       "      background-color: #3B4455;\n",
       "      fill: #D2E3FC;\n",
       "    }\n",
       "\n",
       "    [theme=dark] .colab-df-convert:hover {\n",
       "      background-color: #434B5C;\n",
       "      box-shadow: 0px 1px 3px 1px rgba(0, 0, 0, 0.15);\n",
       "      filter: drop-shadow(0px 1px 2px rgba(0, 0, 0, 0.3));\n",
       "      fill: #FFFFFF;\n",
       "    }\n",
       "  </style>\n",
       "\n",
       "      <script>\n",
       "        const buttonEl =\n",
       "          document.querySelector('#df-eb64a7d2-fdd7-498d-9ae8-46c93b2d83c8 button.colab-df-convert');\n",
       "        buttonEl.style.display =\n",
       "          google.colab.kernel.accessAllowed ? 'block' : 'none';\n",
       "\n",
       "        async function convertToInteractive(key) {\n",
       "          const element = document.querySelector('#df-eb64a7d2-fdd7-498d-9ae8-46c93b2d83c8');\n",
       "          const dataTable =\n",
       "            await google.colab.kernel.invokeFunction('convertToInteractive',\n",
       "                                                     [key], {});\n",
       "          if (!dataTable) return;\n",
       "\n",
       "          const docLinkHtml = 'Like what you see? Visit the ' +\n",
       "            '<a target=\"_blank\" href=https://colab.research.google.com/notebooks/data_table.ipynb>data table notebook</a>'\n",
       "            + ' to learn more about interactive tables.';\n",
       "          element.innerHTML = '';\n",
       "          dataTable['output_type'] = 'display_data';\n",
       "          await google.colab.output.renderOutput(dataTable, element);\n",
       "          const docLink = document.createElement('div');\n",
       "          docLink.innerHTML = docLinkHtml;\n",
       "          element.appendChild(docLink);\n",
       "        }\n",
       "      </script>\n",
       "    </div>\n",
       "  </div>\n",
       "  "
      ],
      "text/plain": [
       "   zipcode  airbnb_price_median  airbnb_record_count  \\\n",
       "0   3000.0                129.0                 3363   \n",
       "1   3002.0                130.0                  196   \n",
       "2   3003.0                120.0                  267   \n",
       "3   3004.0                130.0                  727   \n",
       "4   3006.0                150.0                 1263   \n",
       "5   3008.0                138.0                  616   \n",
       "6   3011.0                 65.0                  198   \n",
       "7   3012.0                 90.5                   76   \n",
       "8   3013.0                108.5                   82   \n",
       "9   3015.0                 96.0                   65   \n",
       "\n",
       "   airbnb_weekly_price_median  airbnb_monthly_price_median  \n",
       "0                       857.0                       3469.0  \n",
       "1                       775.0                       3300.0  \n",
       "2                       728.0                       2500.0  \n",
       "3                      1000.0                       3895.0  \n",
       "4                      1099.5                       3955.0  \n",
       "5                       850.0                       2902.0  \n",
       "6                       350.0                       1300.0  \n",
       "7                       365.0                       1900.0  \n",
       "8                       800.0                       2000.0  \n",
       "9                       559.5                       1974.0  "
      ]
     },
     "execution_count": 52,
     "metadata": {},
     "output_type": "execute_result"
    }
   ],
   "source": [
    "airbnb_price_by_zipcode[:10]"
   ]
  },
  {
   "cell_type": "markdown",
   "id": "o__wGLrL6Ccn",
   "metadata": {
    "id": "o__wGLrL6Ccn"
   },
   "source": [
    "Por último combinamos las bases df_melb y df_airbnb a través de un left merge. "
   ]
  },
  {
   "cell_type": "code",
   "execution_count": null,
   "id": "i52AWUqT6FZe",
   "metadata": {
    "colab": {
     "base_uri": "https://localhost:8080/",
     "height": 305
    },
    "id": "i52AWUqT6FZe",
    "outputId": "8a17ec53-1f6b-47d1-b6e2-7e40c5cd59a7"
   },
   "outputs": [
    {
     "data": {
      "text/html": [
       "\n",
       "  <div id=\"df-ec1577ae-9257-4f84-ae67-cc000bc34b61\">\n",
       "    <div class=\"colab-df-container\">\n",
       "      <div>\n",
       "<style scoped>\n",
       "    .dataframe tbody tr th:only-of-type {\n",
       "        vertical-align: middle;\n",
       "    }\n",
       "\n",
       "    .dataframe tbody tr th {\n",
       "        vertical-align: top;\n",
       "    }\n",
       "\n",
       "    .dataframe thead th {\n",
       "        text-align: right;\n",
       "    }\n",
       "</style>\n",
       "<table border=\"1\" class=\"dataframe\">\n",
       "  <thead>\n",
       "    <tr style=\"text-align: right;\">\n",
       "      <th></th>\n",
       "      <th>Suburb</th>\n",
       "      <th>Rooms</th>\n",
       "      <th>Type</th>\n",
       "      <th>Price</th>\n",
       "      <th>Date</th>\n",
       "      <th>Distance</th>\n",
       "      <th>Postcode</th>\n",
       "      <th>Bedroom2</th>\n",
       "      <th>Bathroom</th>\n",
       "      <th>Car</th>\n",
       "      <th>Landsize</th>\n",
       "      <th>BuildingArea</th>\n",
       "      <th>YearBuilt</th>\n",
       "      <th>Lattitude</th>\n",
       "      <th>Longtitude</th>\n",
       "      <th>zipcode</th>\n",
       "      <th>airbnb_price_median</th>\n",
       "      <th>airbnb_record_count</th>\n",
       "      <th>airbnb_weekly_price_median</th>\n",
       "      <th>airbnb_monthly_price_median</th>\n",
       "    </tr>\n",
       "  </thead>\n",
       "  <tbody>\n",
       "    <tr>\n",
       "      <th>6562</th>\n",
       "      <td>Windsor</td>\n",
       "      <td>2</td>\n",
       "      <td>u</td>\n",
       "      <td>623000.0</td>\n",
       "      <td>22/08/2016</td>\n",
       "      <td>5.1</td>\n",
       "      <td>3181.0</td>\n",
       "      <td>2.0</td>\n",
       "      <td>1.0</td>\n",
       "      <td>1.0</td>\n",
       "      <td>0.0</td>\n",
       "      <td>NaN</td>\n",
       "      <td>1963.0</td>\n",
       "      <td>-37.85720</td>\n",
       "      <td>144.99740</td>\n",
       "      <td>3181.0</td>\n",
       "      <td>112.0</td>\n",
       "      <td>460.0</td>\n",
       "      <td>713.0</td>\n",
       "      <td>2699.5</td>\n",
       "    </tr>\n",
       "    <tr>\n",
       "      <th>184</th>\n",
       "      <td>Altona</td>\n",
       "      <td>2</td>\n",
       "      <td>h</td>\n",
       "      <td>535600.0</td>\n",
       "      <td>30/07/2016</td>\n",
       "      <td>13.8</td>\n",
       "      <td>3018.0</td>\n",
       "      <td>2.0</td>\n",
       "      <td>1.0</td>\n",
       "      <td>1.0</td>\n",
       "      <td>154.0</td>\n",
       "      <td>91.0</td>\n",
       "      <td>1996.0</td>\n",
       "      <td>-37.86460</td>\n",
       "      <td>144.82720</td>\n",
       "      <td>3018.0</td>\n",
       "      <td>80.0</td>\n",
       "      <td>37.0</td>\n",
       "      <td>732.5</td>\n",
       "      <td>1550.5</td>\n",
       "    </tr>\n",
       "    <tr>\n",
       "      <th>8514</th>\n",
       "      <td>Airport West</td>\n",
       "      <td>3</td>\n",
       "      <td>h</td>\n",
       "      <td>872500.0</td>\n",
       "      <td>8/04/2017</td>\n",
       "      <td>13.5</td>\n",
       "      <td>3042.0</td>\n",
       "      <td>3.0</td>\n",
       "      <td>1.0</td>\n",
       "      <td>1.0</td>\n",
       "      <td>594.0</td>\n",
       "      <td>NaN</td>\n",
       "      <td>1950.0</td>\n",
       "      <td>-37.72030</td>\n",
       "      <td>144.87570</td>\n",
       "      <td>3042.0</td>\n",
       "      <td>65.0</td>\n",
       "      <td>35.0</td>\n",
       "      <td>400.0</td>\n",
       "      <td>1550.0</td>\n",
       "    </tr>\n",
       "    <tr>\n",
       "      <th>11429</th>\n",
       "      <td>Taylors Lakes</td>\n",
       "      <td>4</td>\n",
       "      <td>h</td>\n",
       "      <td>853000.0</td>\n",
       "      <td>15/07/2017</td>\n",
       "      <td>15.5</td>\n",
       "      <td>3038.0</td>\n",
       "      <td>4.0</td>\n",
       "      <td>3.0</td>\n",
       "      <td>2.0</td>\n",
       "      <td>724.0</td>\n",
       "      <td>330.0</td>\n",
       "      <td>1990.0</td>\n",
       "      <td>-37.70941</td>\n",
       "      <td>144.78730</td>\n",
       "      <td>NaN</td>\n",
       "      <td>NaN</td>\n",
       "      <td>NaN</td>\n",
       "      <td>NaN</td>\n",
       "      <td>NaN</td>\n",
       "    </tr>\n",
       "    <tr>\n",
       "      <th>11278</th>\n",
       "      <td>Footscray</td>\n",
       "      <td>2</td>\n",
       "      <td>h</td>\n",
       "      <td>991000.0</td>\n",
       "      <td>15/07/2017</td>\n",
       "      <td>5.1</td>\n",
       "      <td>3011.0</td>\n",
       "      <td>2.0</td>\n",
       "      <td>1.0</td>\n",
       "      <td>1.0</td>\n",
       "      <td>318.0</td>\n",
       "      <td>106.0</td>\n",
       "      <td>1910.0</td>\n",
       "      <td>-37.79529</td>\n",
       "      <td>144.88453</td>\n",
       "      <td>3011.0</td>\n",
       "      <td>65.0</td>\n",
       "      <td>198.0</td>\n",
       "      <td>350.0</td>\n",
       "      <td>1300.0</td>\n",
       "    </tr>\n",
       "  </tbody>\n",
       "</table>\n",
       "</div>\n",
       "      <button class=\"colab-df-convert\" onclick=\"convertToInteractive('df-ec1577ae-9257-4f84-ae67-cc000bc34b61')\"\n",
       "              title=\"Convert this dataframe to an interactive table.\"\n",
       "              style=\"display:none;\">\n",
       "        \n",
       "  <svg xmlns=\"http://www.w3.org/2000/svg\" height=\"24px\"viewBox=\"0 0 24 24\"\n",
       "       width=\"24px\">\n",
       "    <path d=\"M0 0h24v24H0V0z\" fill=\"none\"/>\n",
       "    <path d=\"M18.56 5.44l.94 2.06.94-2.06 2.06-.94-2.06-.94-.94-2.06-.94 2.06-2.06.94zm-11 1L8.5 8.5l.94-2.06 2.06-.94-2.06-.94L8.5 2.5l-.94 2.06-2.06.94zm10 10l.94 2.06.94-2.06 2.06-.94-2.06-.94-.94-2.06-.94 2.06-2.06.94z\"/><path d=\"M17.41 7.96l-1.37-1.37c-.4-.4-.92-.59-1.43-.59-.52 0-1.04.2-1.43.59L10.3 9.45l-7.72 7.72c-.78.78-.78 2.05 0 2.83L4 21.41c.39.39.9.59 1.41.59.51 0 1.02-.2 1.41-.59l7.78-7.78 2.81-2.81c.8-.78.8-2.07 0-2.86zM5.41 20L4 18.59l7.72-7.72 1.47 1.35L5.41 20z\"/>\n",
       "  </svg>\n",
       "      </button>\n",
       "      \n",
       "  <style>\n",
       "    .colab-df-container {\n",
       "      display:flex;\n",
       "      flex-wrap:wrap;\n",
       "      gap: 12px;\n",
       "    }\n",
       "\n",
       "    .colab-df-convert {\n",
       "      background-color: #E8F0FE;\n",
       "      border: none;\n",
       "      border-radius: 50%;\n",
       "      cursor: pointer;\n",
       "      display: none;\n",
       "      fill: #1967D2;\n",
       "      height: 32px;\n",
       "      padding: 0 0 0 0;\n",
       "      width: 32px;\n",
       "    }\n",
       "\n",
       "    .colab-df-convert:hover {\n",
       "      background-color: #E2EBFA;\n",
       "      box-shadow: 0px 1px 2px rgba(60, 64, 67, 0.3), 0px 1px 3px 1px rgba(60, 64, 67, 0.15);\n",
       "      fill: #174EA6;\n",
       "    }\n",
       "\n",
       "    [theme=dark] .colab-df-convert {\n",
       "      background-color: #3B4455;\n",
       "      fill: #D2E3FC;\n",
       "    }\n",
       "\n",
       "    [theme=dark] .colab-df-convert:hover {\n",
       "      background-color: #434B5C;\n",
       "      box-shadow: 0px 1px 3px 1px rgba(0, 0, 0, 0.15);\n",
       "      filter: drop-shadow(0px 1px 2px rgba(0, 0, 0, 0.3));\n",
       "      fill: #FFFFFF;\n",
       "    }\n",
       "  </style>\n",
       "\n",
       "      <script>\n",
       "        const buttonEl =\n",
       "          document.querySelector('#df-ec1577ae-9257-4f84-ae67-cc000bc34b61 button.colab-df-convert');\n",
       "        buttonEl.style.display =\n",
       "          google.colab.kernel.accessAllowed ? 'block' : 'none';\n",
       "\n",
       "        async function convertToInteractive(key) {\n",
       "          const element = document.querySelector('#df-ec1577ae-9257-4f84-ae67-cc000bc34b61');\n",
       "          const dataTable =\n",
       "            await google.colab.kernel.invokeFunction('convertToInteractive',\n",
       "                                                     [key], {});\n",
       "          if (!dataTable) return;\n",
       "\n",
       "          const docLinkHtml = 'Like what you see? Visit the ' +\n",
       "            '<a target=\"_blank\" href=https://colab.research.google.com/notebooks/data_table.ipynb>data table notebook</a>'\n",
       "            + ' to learn more about interactive tables.';\n",
       "          element.innerHTML = '';\n",
       "          dataTable['output_type'] = 'display_data';\n",
       "          await google.colab.output.renderOutput(dataTable, element);\n",
       "          const docLink = document.createElement('div');\n",
       "          docLink.innerHTML = docLinkHtml;\n",
       "          element.appendChild(docLink);\n",
       "        }\n",
       "      </script>\n",
       "    </div>\n",
       "  </div>\n",
       "  "
      ],
      "text/plain": [
       "              Suburb  Rooms Type     Price        Date  Distance  Postcode  \\\n",
       "6562         Windsor      2    u  623000.0  22/08/2016       5.1    3181.0   \n",
       "184           Altona      2    h  535600.0  30/07/2016      13.8    3018.0   \n",
       "8514    Airport West      3    h  872500.0   8/04/2017      13.5    3042.0   \n",
       "11429  Taylors Lakes      4    h  853000.0  15/07/2017      15.5    3038.0   \n",
       "11278      Footscray      2    h  991000.0  15/07/2017       5.1    3011.0   \n",
       "\n",
       "       Bedroom2  Bathroom  Car  Landsize  BuildingArea  YearBuilt  Lattitude  \\\n",
       "6562        2.0       1.0  1.0       0.0           NaN     1963.0  -37.85720   \n",
       "184         2.0       1.0  1.0     154.0          91.0     1996.0  -37.86460   \n",
       "8514        3.0       1.0  1.0     594.0           NaN     1950.0  -37.72030   \n",
       "11429       4.0       3.0  2.0     724.0         330.0     1990.0  -37.70941   \n",
       "11278       2.0       1.0  1.0     318.0         106.0     1910.0  -37.79529   \n",
       "\n",
       "       Longtitude  zipcode  airbnb_price_median  airbnb_record_count  \\\n",
       "6562    144.99740   3181.0                112.0                460.0   \n",
       "184     144.82720   3018.0                 80.0                 37.0   \n",
       "8514    144.87570   3042.0                 65.0                 35.0   \n",
       "11429   144.78730      NaN                  NaN                  NaN   \n",
       "11278   144.88453   3011.0                 65.0                198.0   \n",
       "\n",
       "       airbnb_weekly_price_median  airbnb_monthly_price_median  \n",
       "6562                        713.0                       2699.5  \n",
       "184                         732.5                       1550.5  \n",
       "8514                        400.0                       1550.0  \n",
       "11429                         NaN                          NaN  \n",
       "11278                       350.0                       1300.0  "
      ]
     },
     "execution_count": 53,
     "metadata": {},
     "output_type": "execute_result"
    }
   ],
   "source": [
    "# Unión de las bases de datos df_melb y airbnb_price_by_zipcode a izquierda\n",
    "merged_sales_df = df_melb.merge(\n",
    "    airbnb_price_by_zipcode, how='left',\n",
    "    left_on='Postcode', right_on='zipcode'\n",
    ")\n",
    "merged_sales_df.sample(5)"
   ]
  },
  {
   "cell_type": "code",
   "execution_count": null,
   "id": "UHQff-ns6Kpg",
   "metadata": {
    "colab": {
     "base_uri": "https://localhost:8080/"
    },
    "id": "UHQff-ns6Kpg",
    "outputId": "deae71c6-2ce5-4118-e09a-6a14c04e672d"
   },
   "outputs": [
    {
     "data": {
      "text/plain": [
       "13447"
      ]
     },
     "execution_count": 54,
     "metadata": {},
     "output_type": "execute_result"
    }
   ],
   "source": [
    "len(merged_sales_df)"
   ]
  },
  {
   "cell_type": "markdown",
   "id": "1E93QUGv6oeg",
   "metadata": {
    "id": "1E93QUGv6oeg"
   },
   "source": [
    "### Ejercicio 2: 3) "
   ]
  },
  {
   "cell_type": "code",
   "execution_count": null,
   "id": "G-klqJ3aXAGA",
   "metadata": {
    "colab": {
     "base_uri": "https://localhost:8080/"
    },
    "id": "G-klqJ3aXAGA",
    "outputId": "3902f497-987d-4ada-feba-a8ece9d7d579"
   },
   "outputs": [
    {
     "name": "stdout",
     "output_type": "stream",
     "text": [
      "Postcode\n",
      "3000.0    1\n",
      "3002.0    1\n",
      "3003.0    1\n",
      "3006.0    1\n",
      "3011.0    2\n",
      "         ..\n",
      "3803.0    1\n",
      "3805.0    1\n",
      "3806.0    1\n",
      "3910.0    1\n",
      "3976.0    1\n",
      "Name: unique, Length: 172, dtype: object\n"
     ]
    }
   ],
   "source": [
    "# Analisis variabilidad de precios por suburbio\n",
    "suburb_list = df_melb.Suburb.unique()\n",
    "df_melb_postcode = df_melb.groupby('Postcode').Suburb.describe().unique\n",
    "print(df_melb_postcode)\n",
    "# plt.figure(figsize=(12, 6))\n",
    "# seaborn.boxplot(data=df_melb, x='Price', y='Suburb',color='orangered')\n",
    "# plt.ticklabel_format(style='plain', axis='x')"
   ]
  },
  {
   "cell_type": "markdown",
   "id": "cajRti40Nb_H",
   "metadata": {
    "id": "cajRti40Nb_H"
   },
   "source": [
    "**Variable 1:** Latitud y Longitud\n",
    "\n",
    "Asumiendo que se cuenta con los algoritmos necesarios para dividir al área que se investiga en subareas cuadradas de igual superficie, definidas por la geoposición (latitud y longitud) de sus cuatro vertices, a cada propiedad le corresponderia estar en determinada área. \n",
    "\n",
    "Si a las dos bases de datos le sumamos una columna llamada \"SubAreaID\" podriamos combinarlas en base a dicha columna. \n",
    "Si bien tiene como ventaja que si se elige un tamaño de area pequeño podremos combinar de mejor manera la base de Airbnb a la de Melbourne, se requiere realizar una operacion de transformación por fila de los valores de longitud y latitud al valor SubAreaID.\n",
    "\n",
    "Más allá del costo computacional que esta combinacion implicaría, creemos que es adecuado hacerla porque se podria hacer una predicción más precisa del precio de determinada propiedad.\n",
    "\n",
    "**Variable 2:** Suburb\n",
    "\n",
    "Si se puede contar con las equivalencias entre suburbios de ambas bases de datos, se podrian combinar mediante la variable \"Suburb\" posterior a hacer la curación necesaria.\n",
    "\n",
    "Consideramos que si se tiene a disposición la gente necesaria para encontrar las equivalencias, la variable puede ser adecuada para realizar la combinación de las bases de datos debido a que un suburbio representa un área geográfica menor o igual al código postal, por lo que al menos la predicción va a ser igual de precisa que el metodo de combinación por código postal.\n"
   ]
  },
  {
   "cell_type": "markdown",
   "id": "c5303f27-3b15-441b-b291-8caf1c734139",
   "metadata": {
    "id": "c5303f27-3b15-441b-b291-8caf1c734139"
   },
   "source": [
    "## Ejercicio 3:\n",
    "\n",
    "Crear y guardar un nuevo conjunto de datos con todas las transformaciones realizadas anteriormente."
   ]
  },
  {
   "cell_type": "code",
   "execution_count": null,
   "id": "Y9OWiZ646Oir",
   "metadata": {
    "id": "Y9OWiZ646Oir"
   },
   "outputs": [],
   "source": [
    "# Creamos el nuevo conjunto de datos\n",
    "merged_sales_df.to_csv(\"melb_data_extended.csv\", index=None)"
   ]
  },
  {
   "cell_type": "code",
   "execution_count": null,
   "id": "f3st6h816QS4",
   "metadata": {
    "id": "f3st6h816QS4"
   },
   "outputs": [],
   "source": [
    "# Guardamos el nuevo conjunto de datos\n",
    "from google.colab import files\n",
    "files.download('melb_data_extended.csv') "
   ]
  },
  {
   "cell_type": "markdown",
   "id": "abfd3eeb-d466-424b-b58e-d1364ac39206",
   "metadata": {
    "id": "abfd3eeb-d466-424b-b58e-d1364ac39206"
   },
   "source": [
    "## Ejercicios opcionales:\n",
    "\n",
    "1. Armar un script en python (archivo .py) [ETL](https://towardsdatascience.com/what-to-log-from-python-etl-pipelines-9e0cfe29950e) que corra los pasos de extraccion, transformacion y carga, armando una funcion para cada etapa del proceso y luego un main que corra todos los pasos requeridos.\n",
    "\n",
    "2. Armar un DAG en Apache Airflow que corra el ETL. (https://airflow.apache.org/docs/apache-airflow/stable/tutorial.html)"
   ]
  },
  {
   "cell_type": "code",
   "execution_count": null,
   "id": "5d210b95-836f-45ac-a52d-1a4dafdb447a",
   "metadata": {
    "id": "5d210b95-836f-45ac-a52d-1a4dafdb447a"
   },
   "outputs": [],
   "source": []
  }
 ],
 "metadata": {
  "colab": {
   "collapsed_sections": [],
   "name": "Entregable_parte_1.ipynb",
   "provenance": [],
   "toc_visible": true
  },
  "kernelspec": {
   "display_name": "Python 3 (ipykernel)",
   "language": "python",
   "name": "python3"
  },
  "language_info": {
   "codemirror_mode": {
    "name": "ipython",
    "version": 3
   },
   "file_extension": ".py",
   "mimetype": "text/x-python",
   "name": "python",
   "nbconvert_exporter": "python",
   "pygments_lexer": "ipython3",
   "version": "3.10.0"
  }
 },
 "nbformat": 4,
 "nbformat_minor": 5
}
