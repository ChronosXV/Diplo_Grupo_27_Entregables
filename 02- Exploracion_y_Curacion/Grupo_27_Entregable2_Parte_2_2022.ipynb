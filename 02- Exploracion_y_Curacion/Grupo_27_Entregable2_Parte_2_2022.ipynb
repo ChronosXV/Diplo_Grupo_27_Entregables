{
  "nbformat": 4,
  "nbformat_minor": 0,
  "metadata": {
    "colab": {
      "name": "Grupo_27_Entregable2_Parte_2_2022.ipynb",
      "provenance": [],
      "collapsed_sections": [],
      "toc_visible": true
    },
    "kernelspec": {
      "name": "python3",
      "display_name": "Python 3"
    },
    "language_info": {
      "name": "python"
    }
  },
  "cells": [
    {
      "cell_type": "markdown",
      "metadata": {
        "id": "view-in-github"
      },
      "source": [
        "<a href=\"https://colab.research.google.com/github/DiploDatos/AnalisisYCuracion/blob/master/Entregable_Parte_2.ipynb\" target=\"_parent\"><img src=\"https://colab.research.google.com/assets/colab-badge.svg\" alt=\"Open In Colab\"/></a>"
      ]
    },
    {
      "cell_type": "markdown",
      "metadata": {
        "id": "zO4bRoxr2Apy"
      },
      "source": [
        "**Diplomatura en Ciencia de Datos, Aprendizaje Automático y sus Aplicaciones**\n",
        "\n",
        "**Exploración y Curación de Datos**\n",
        "\n",
        "*Edición 2022*\n",
        "\n",
        "**Entregable 2 - Parte 2**\n",
        "\n",
        "**Grupo 27:**\n",
        "\n",
        "**Guillermo Alonso**\n",
        "\n",
        "**María Eugenia Bernaschini**\n",
        "\n",
        "**Juan Cruz Bordón**\n",
        "\n",
        "**Javier Carabajal**\n",
        "\n",
        "----\n",
        "\n",
        "# Trabajo práctico entregable - parte 2\n",
        "\n",
        "\n",
        "En el ejercicio 2 de la parte 1 del entregable seleccionaron las filas y columnas relevantes al problema de predicción de precios de una propiedad e imputaron los valores faltantes de las columnas `Suburb` y las columnas obtenidas a partir del conjunto de datos `airbnb`.\n",
        "\n",
        "En esta notebook, **se utilizará resultado de dichas operaciones.** que fue guardado en un archivo (Ejercicio 3 entregable 1). \n"
      ]
    },
    {
      "cell_type": "code",
      "metadata": {
        "id": "4udjxjk1EtVU"
      },
      "source": [
        "import matplotlib.pyplot as plt\n",
        "import numpy\n",
        "import pandas\n",
        "\n",
        "import seaborn\n",
        "seaborn.set_context('talk')\n",
        "\n",
        "from sklearn.decomposition import PCA\n",
        "from sklearn.preprocessing import OneHotEncoder"
      ],
      "execution_count": null,
      "outputs": []
    },
    {
      "cell_type": "code",
      "source": [
        "# Importamos desde nuestra compu la base construida en el entregable 1\n",
        "from google.colab import files\n",
        "uploaded = files.upload()"
      ],
      "metadata": {
        "colab": {
          "resources": {
            "http://localhost:8080/nbextensions/google.colab/files.js": {
              "data": "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",
              "ok": true,
              "headers": [
                [
                  "content-type",
                  "application/javascript"
                ]
              ],
              "status": 200,
              "status_text": ""
            }
          },
          "base_uri": "https://localhost:8080/",
          "height": 73
        },
        "id": "kvyEWvqy2hU4",
        "outputId": "33192790-f45d-4505-e62a-688b35bb4bf8"
      },
      "execution_count": null,
      "outputs": [
        {
          "output_type": "display_data",
          "data": {
            "text/plain": [
              "<IPython.core.display.HTML object>"
            ],
            "text/html": [
              "\n",
              "     <input type=\"file\" id=\"files-9057ad1b-99f5-44c2-a674-8b1f6a85cbe6\" name=\"files[]\" multiple disabled\n",
              "        style=\"border:none\" />\n",
              "     <output id=\"result-9057ad1b-99f5-44c2-a674-8b1f6a85cbe6\">\n",
              "      Upload widget is only available when the cell has been executed in the\n",
              "      current browser session. Please rerun this cell to enable.\n",
              "      </output>\n",
              "      <script src=\"/nbextensions/google.colab/files.js\"></script> "
            ]
          },
          "metadata": {}
        },
        {
          "output_type": "stream",
          "name": "stdout",
          "text": [
            "Saving melb_data_extended.csv to melb_data_extended.csv\n"
          ]
        }
      ]
    },
    {
      "cell_type": "code",
      "source": [
        "# Cargamos la base en pandas del entregable 1 (la llamaremos melb_df_ext)\n",
        "import io\n",
        "melb_df_ext= pandas.read_csv(io.BytesIO(uploaded['melb_data_extended.csv']), encoding='utf-8')\n"
      ],
      "metadata": {
        "id": "-VAZRprk2ihL"
      },
      "execution_count": null,
      "outputs": []
    },
    {
      "cell_type": "markdown",
      "metadata": {
        "id": "s-mixICN22kA"
      },
      "source": [
        "## Ejercicio 1: Encoding\n",
        "\n",
        "1. Seleccionar todas las filas y columnas del conjunto de datos obtenido en la parte 1 del entregable, **excepto** `BuildingArea` y `YearBuilt`, que volveremos a imputar más adelante.\n",
        "\n",
        "2. Aplicar una codificación One-hot encoding a cada fila, tanto para variables numéricas como categóricas. Si lo consideran necesario, pueden volver a reducir el número de categorías únicas.\n",
        "\n",
        "Algunas opciones:\n",
        "  1. Utilizar `OneHotEncoder` junto con el parámetro `categories` para las variables categóricas y luego usar `numpy.hstack` para concatenar el resultado con las variables numéricas. \n",
        "  2. `DictVectorizer` con algunos pasos de pre-proceso previo.\n",
        "\n",
        "Recordar también que el atributo `pandas.DataFrame.values` permite acceder a la matriz de numpy subyacente a un DataFrame.\n"
      ]
    },
    {
      "cell_type": "code",
      "metadata": {
        "id": "K_Qk43aLIl4d"
      },
      "source": [
        "# Selección de variables\n",
        "categorical_cols = ['Date','Type','Suburb','Regionname']\n",
        "numerical_cols = ['Rooms','Price','Distance','Postcode','Bedroom2','Bathroom','Landsize','Lattitude','Longtitude','Propertycount','Car','airbnb_price_median','airbnb_weekly_price_median','airbnb_monthly_price_median','airbnb_record_count']\n",
        "ay_cols = ['BuildingArea','YearBuilt']\n",
        "new_columns = []"
      ],
      "execution_count": null,
      "outputs": []
    },
    {
      "cell_type": "code",
      "metadata": {
        "colab": {
          "base_uri": "https://localhost:8080/"
        },
        "id": "oSNfW1BBJnV0",
        "outputId": "20798eca-1d50-4b4a-9f21-800f07c9a678"
      },
      "source": [
        "# Cantidad de niveles en cada categoría\n",
        "melb_df_ext[categorical_cols].nunique()"
      ],
      "execution_count": null,
      "outputs": [
        {
          "output_type": "execute_result",
          "data": {
            "text/plain": [
              "Date           58\n",
              "Type            3\n",
              "Suburb        212\n",
              "Regionname      7\n",
              "dtype: int64"
            ]
          },
          "metadata": {},
          "execution_count": 45
        }
      ]
    },
    {
      "cell_type": "code",
      "metadata": {
        "colab": {
          "base_uri": "https://localhost:8080/"
        },
        "id": "XPDDOVHNNywn",
        "outputId": "252af5f3-542a-4f7e-bba4-b186cef9f33a"
      },
      "source": [
        "# Cantidad de NAs para las variables categóricas\n",
        "melb_df_ext[categorical_cols].isna().sum()"
      ],
      "execution_count": null,
      "outputs": [
        {
          "output_type": "execute_result",
          "data": {
            "text/plain": [
              "Date          0\n",
              "Type          0\n",
              "Suburb        0\n",
              "Regionname    0\n",
              "dtype: int64"
            ]
          },
          "metadata": {},
          "execution_count": 46
        }
      ]
    },
    {
      "cell_type": "code",
      "source": [
        "# Cantidad de NAs para las variables numéricas\n",
        "melb_df_ext[numerical_cols].isna().sum()"
      ],
      "metadata": {
        "colab": {
          "base_uri": "https://localhost:8080/"
        },
        "id": "PvP0t-CXUFGP",
        "outputId": "9a7132fd-bc8e-493b-8dd3-53f71b2c20ab"
      },
      "execution_count": null,
      "outputs": [
        {
          "output_type": "execute_result",
          "data": {
            "text/plain": [
              "Rooms                             0\n",
              "Price                             0\n",
              "Distance                          0\n",
              "Postcode                          0\n",
              "Bedroom2                          0\n",
              "Bathroom                          0\n",
              "Landsize                          0\n",
              "Lattitude                         0\n",
              "Longtitude                        0\n",
              "Propertycount                     0\n",
              "Car                              60\n",
              "airbnb_price_median             311\n",
              "airbnb_weekly_price_median      926\n",
              "airbnb_monthly_price_median    1243\n",
              "airbnb_record_count             311\n",
              "dtype: int64"
            ]
          },
          "metadata": {},
          "execution_count": 47
        }
      ]
    },
    {
      "cell_type": "markdown",
      "source": [
        "Antes de codificar las variables categóricas vamos a reducir el número de categorías únicas para Suburb. Nos quedaremos con las 50 más frecuentes."
      ],
      "metadata": {
        "id": "ooJ7wT_panKo"
      }
    },
    {
      "cell_type": "code",
      "source": [
        "# Frecuencias absolutas Suburb para melb_df_ext\n",
        "Suburb_count = melb_df_ext.Suburb.value_counts()\\\n",
        "    .reset_index()\\\n",
        "    .rename(columns={'index': 'Suburb', 'Suburb': 'frequency'})\n",
        "Suburb_count[:51]"
      ],
      "metadata": {
        "colab": {
          "base_uri": "https://localhost:8080/",
          "height": 1000
        },
        "id": "1PakJzwGbc0k",
        "outputId": "c05fe421-b746-43b4-b1cb-60a7b9723202"
      },
      "execution_count": null,
      "outputs": [
        {
          "output_type": "execute_result",
          "data": {
            "text/plain": [
              "               Suburb  frequency\n",
              "0           Reservoir        359\n",
              "1            Richmond        260\n",
              "2      Bentleigh East        249\n",
              "3             Preston        239\n",
              "4           Brunswick        222\n",
              "5            Essendon        220\n",
              "6         South Yarra        201\n",
              "7           Glen Iris        195\n",
              "8              Coburg        190\n",
              "9           Northcote        187\n",
              "10           Hawthorn        186\n",
              "11           Brighton        180\n",
              "12       Balwyn North        171\n",
              "13        Pascoe Vale        171\n",
              "14                Kew        169\n",
              "15         Yarraville        164\n",
              "16            Glenroy        159\n",
              "17           St Kilda        159\n",
              "18     Port Melbourne        153\n",
              "19       Moonee Ponds        149\n",
              "20           Carnegie        146\n",
              "21          Bentleigh        139\n",
              "22          Thornbury        139\n",
              "23      Brighton East        138\n",
              "24            Newport        137\n",
              "25          Footscray        132\n",
              "26             Elwood        131\n",
              "27         Ascot Vale        130\n",
              "28            Hampton        130\n",
              "29         Camberwell        129\n",
              "30       Surrey Hills        125\n",
              "31            Prahran        122\n",
              "32        Keilor East        121\n",
              "33      Hawthorn East        119\n",
              "34         Kensington        117\n",
              "35          Doncaster        116\n",
              "36       Malvern East        116\n",
              "37           Sunshine        111\n",
              "38     Brunswick West        110\n",
              "39       Williamstown        107\n",
              "40             Balwyn        107\n",
              "41     West Footscray        105\n",
              "42            Fawkner        102\n",
              "43            Ivanhoe         98\n",
              "44        Maribyrnong         96\n",
              "45             Toorak         95\n",
              "46          Maidstone         94\n",
              "47      Fitzroy North         93\n",
              "48  Templestowe Lower         92\n",
              "49           Armadale         90\n",
              "50     Brunswick East         88"
            ],
            "text/html": [
              "\n",
              "  <div id=\"df-a7b0d2cb-b944-4c89-b04b-cf560ce4de71\">\n",
              "    <div class=\"colab-df-container\">\n",
              "      <div>\n",
              "<style scoped>\n",
              "    .dataframe tbody tr th:only-of-type {\n",
              "        vertical-align: middle;\n",
              "    }\n",
              "\n",
              "    .dataframe tbody tr th {\n",
              "        vertical-align: top;\n",
              "    }\n",
              "\n",
              "    .dataframe thead th {\n",
              "        text-align: right;\n",
              "    }\n",
              "</style>\n",
              "<table border=\"1\" class=\"dataframe\">\n",
              "  <thead>\n",
              "    <tr style=\"text-align: right;\">\n",
              "      <th></th>\n",
              "      <th>Suburb</th>\n",
              "      <th>frequency</th>\n",
              "    </tr>\n",
              "  </thead>\n",
              "  <tbody>\n",
              "    <tr>\n",
              "      <th>0</th>\n",
              "      <td>Reservoir</td>\n",
              "      <td>359</td>\n",
              "    </tr>\n",
              "    <tr>\n",
              "      <th>1</th>\n",
              "      <td>Richmond</td>\n",
              "      <td>260</td>\n",
              "    </tr>\n",
              "    <tr>\n",
              "      <th>2</th>\n",
              "      <td>Bentleigh East</td>\n",
              "      <td>249</td>\n",
              "    </tr>\n",
              "    <tr>\n",
              "      <th>3</th>\n",
              "      <td>Preston</td>\n",
              "      <td>239</td>\n",
              "    </tr>\n",
              "    <tr>\n",
              "      <th>4</th>\n",
              "      <td>Brunswick</td>\n",
              "      <td>222</td>\n",
              "    </tr>\n",
              "    <tr>\n",
              "      <th>5</th>\n",
              "      <td>Essendon</td>\n",
              "      <td>220</td>\n",
              "    </tr>\n",
              "    <tr>\n",
              "      <th>6</th>\n",
              "      <td>South Yarra</td>\n",
              "      <td>201</td>\n",
              "    </tr>\n",
              "    <tr>\n",
              "      <th>7</th>\n",
              "      <td>Glen Iris</td>\n",
              "      <td>195</td>\n",
              "    </tr>\n",
              "    <tr>\n",
              "      <th>8</th>\n",
              "      <td>Coburg</td>\n",
              "      <td>190</td>\n",
              "    </tr>\n",
              "    <tr>\n",
              "      <th>9</th>\n",
              "      <td>Northcote</td>\n",
              "      <td>187</td>\n",
              "    </tr>\n",
              "    <tr>\n",
              "      <th>10</th>\n",
              "      <td>Hawthorn</td>\n",
              "      <td>186</td>\n",
              "    </tr>\n",
              "    <tr>\n",
              "      <th>11</th>\n",
              "      <td>Brighton</td>\n",
              "      <td>180</td>\n",
              "    </tr>\n",
              "    <tr>\n",
              "      <th>12</th>\n",
              "      <td>Balwyn North</td>\n",
              "      <td>171</td>\n",
              "    </tr>\n",
              "    <tr>\n",
              "      <th>13</th>\n",
              "      <td>Pascoe Vale</td>\n",
              "      <td>171</td>\n",
              "    </tr>\n",
              "    <tr>\n",
              "      <th>14</th>\n",
              "      <td>Kew</td>\n",
              "      <td>169</td>\n",
              "    </tr>\n",
              "    <tr>\n",
              "      <th>15</th>\n",
              "      <td>Yarraville</td>\n",
              "      <td>164</td>\n",
              "    </tr>\n",
              "    <tr>\n",
              "      <th>16</th>\n",
              "      <td>Glenroy</td>\n",
              "      <td>159</td>\n",
              "    </tr>\n",
              "    <tr>\n",
              "      <th>17</th>\n",
              "      <td>St Kilda</td>\n",
              "      <td>159</td>\n",
              "    </tr>\n",
              "    <tr>\n",
              "      <th>18</th>\n",
              "      <td>Port Melbourne</td>\n",
              "      <td>153</td>\n",
              "    </tr>\n",
              "    <tr>\n",
              "      <th>19</th>\n",
              "      <td>Moonee Ponds</td>\n",
              "      <td>149</td>\n",
              "    </tr>\n",
              "    <tr>\n",
              "      <th>20</th>\n",
              "      <td>Carnegie</td>\n",
              "      <td>146</td>\n",
              "    </tr>\n",
              "    <tr>\n",
              "      <th>21</th>\n",
              "      <td>Bentleigh</td>\n",
              "      <td>139</td>\n",
              "    </tr>\n",
              "    <tr>\n",
              "      <th>22</th>\n",
              "      <td>Thornbury</td>\n",
              "      <td>139</td>\n",
              "    </tr>\n",
              "    <tr>\n",
              "      <th>23</th>\n",
              "      <td>Brighton East</td>\n",
              "      <td>138</td>\n",
              "    </tr>\n",
              "    <tr>\n",
              "      <th>24</th>\n",
              "      <td>Newport</td>\n",
              "      <td>137</td>\n",
              "    </tr>\n",
              "    <tr>\n",
              "      <th>25</th>\n",
              "      <td>Footscray</td>\n",
              "      <td>132</td>\n",
              "    </tr>\n",
              "    <tr>\n",
              "      <th>26</th>\n",
              "      <td>Elwood</td>\n",
              "      <td>131</td>\n",
              "    </tr>\n",
              "    <tr>\n",
              "      <th>27</th>\n",
              "      <td>Ascot Vale</td>\n",
              "      <td>130</td>\n",
              "    </tr>\n",
              "    <tr>\n",
              "      <th>28</th>\n",
              "      <td>Hampton</td>\n",
              "      <td>130</td>\n",
              "    </tr>\n",
              "    <tr>\n",
              "      <th>29</th>\n",
              "      <td>Camberwell</td>\n",
              "      <td>129</td>\n",
              "    </tr>\n",
              "    <tr>\n",
              "      <th>30</th>\n",
              "      <td>Surrey Hills</td>\n",
              "      <td>125</td>\n",
              "    </tr>\n",
              "    <tr>\n",
              "      <th>31</th>\n",
              "      <td>Prahran</td>\n",
              "      <td>122</td>\n",
              "    </tr>\n",
              "    <tr>\n",
              "      <th>32</th>\n",
              "      <td>Keilor East</td>\n",
              "      <td>121</td>\n",
              "    </tr>\n",
              "    <tr>\n",
              "      <th>33</th>\n",
              "      <td>Hawthorn East</td>\n",
              "      <td>119</td>\n",
              "    </tr>\n",
              "    <tr>\n",
              "      <th>34</th>\n",
              "      <td>Kensington</td>\n",
              "      <td>117</td>\n",
              "    </tr>\n",
              "    <tr>\n",
              "      <th>35</th>\n",
              "      <td>Doncaster</td>\n",
              "      <td>116</td>\n",
              "    </tr>\n",
              "    <tr>\n",
              "      <th>36</th>\n",
              "      <td>Malvern East</td>\n",
              "      <td>116</td>\n",
              "    </tr>\n",
              "    <tr>\n",
              "      <th>37</th>\n",
              "      <td>Sunshine</td>\n",
              "      <td>111</td>\n",
              "    </tr>\n",
              "    <tr>\n",
              "      <th>38</th>\n",
              "      <td>Brunswick West</td>\n",
              "      <td>110</td>\n",
              "    </tr>\n",
              "    <tr>\n",
              "      <th>39</th>\n",
              "      <td>Williamstown</td>\n",
              "      <td>107</td>\n",
              "    </tr>\n",
              "    <tr>\n",
              "      <th>40</th>\n",
              "      <td>Balwyn</td>\n",
              "      <td>107</td>\n",
              "    </tr>\n",
              "    <tr>\n",
              "      <th>41</th>\n",
              "      <td>West Footscray</td>\n",
              "      <td>105</td>\n",
              "    </tr>\n",
              "    <tr>\n",
              "      <th>42</th>\n",
              "      <td>Fawkner</td>\n",
              "      <td>102</td>\n",
              "    </tr>\n",
              "    <tr>\n",
              "      <th>43</th>\n",
              "      <td>Ivanhoe</td>\n",
              "      <td>98</td>\n",
              "    </tr>\n",
              "    <tr>\n",
              "      <th>44</th>\n",
              "      <td>Maribyrnong</td>\n",
              "      <td>96</td>\n",
              "    </tr>\n",
              "    <tr>\n",
              "      <th>45</th>\n",
              "      <td>Toorak</td>\n",
              "      <td>95</td>\n",
              "    </tr>\n",
              "    <tr>\n",
              "      <th>46</th>\n",
              "      <td>Maidstone</td>\n",
              "      <td>94</td>\n",
              "    </tr>\n",
              "    <tr>\n",
              "      <th>47</th>\n",
              "      <td>Fitzroy North</td>\n",
              "      <td>93</td>\n",
              "    </tr>\n",
              "    <tr>\n",
              "      <th>48</th>\n",
              "      <td>Templestowe Lower</td>\n",
              "      <td>92</td>\n",
              "    </tr>\n",
              "    <tr>\n",
              "      <th>49</th>\n",
              "      <td>Armadale</td>\n",
              "      <td>90</td>\n",
              "    </tr>\n",
              "    <tr>\n",
              "      <th>50</th>\n",
              "      <td>Brunswick East</td>\n",
              "      <td>88</td>\n",
              "    </tr>\n",
              "  </tbody>\n",
              "</table>\n",
              "</div>\n",
              "      <button class=\"colab-df-convert\" onclick=\"convertToInteractive('df-a7b0d2cb-b944-4c89-b04b-cf560ce4de71')\"\n",
              "              title=\"Convert this dataframe to an interactive table.\"\n",
              "              style=\"display:none;\">\n",
              "        \n",
              "  <svg xmlns=\"http://www.w3.org/2000/svg\" height=\"24px\"viewBox=\"0 0 24 24\"\n",
              "       width=\"24px\">\n",
              "    <path d=\"M0 0h24v24H0V0z\" fill=\"none\"/>\n",
              "    <path d=\"M18.56 5.44l.94 2.06.94-2.06 2.06-.94-2.06-.94-.94-2.06-.94 2.06-2.06.94zm-11 1L8.5 8.5l.94-2.06 2.06-.94-2.06-.94L8.5 2.5l-.94 2.06-2.06.94zm10 10l.94 2.06.94-2.06 2.06-.94-2.06-.94-.94-2.06-.94 2.06-2.06.94z\"/><path d=\"M17.41 7.96l-1.37-1.37c-.4-.4-.92-.59-1.43-.59-.52 0-1.04.2-1.43.59L10.3 9.45l-7.72 7.72c-.78.78-.78 2.05 0 2.83L4 21.41c.39.39.9.59 1.41.59.51 0 1.02-.2 1.41-.59l7.78-7.78 2.81-2.81c.8-.78.8-2.07 0-2.86zM5.41 20L4 18.59l7.72-7.72 1.47 1.35L5.41 20z\"/>\n",
              "  </svg>\n",
              "      </button>\n",
              "      \n",
              "  <style>\n",
              "    .colab-df-container {\n",
              "      display:flex;\n",
              "      flex-wrap:wrap;\n",
              "      gap: 12px;\n",
              "    }\n",
              "\n",
              "    .colab-df-convert {\n",
              "      background-color: #E8F0FE;\n",
              "      border: none;\n",
              "      border-radius: 50%;\n",
              "      cursor: pointer;\n",
              "      display: none;\n",
              "      fill: #1967D2;\n",
              "      height: 32px;\n",
              "      padding: 0 0 0 0;\n",
              "      width: 32px;\n",
              "    }\n",
              "\n",
              "    .colab-df-convert:hover {\n",
              "      background-color: #E2EBFA;\n",
              "      box-shadow: 0px 1px 2px rgba(60, 64, 67, 0.3), 0px 1px 3px 1px rgba(60, 64, 67, 0.15);\n",
              "      fill: #174EA6;\n",
              "    }\n",
              "\n",
              "    [theme=dark] .colab-df-convert {\n",
              "      background-color: #3B4455;\n",
              "      fill: #D2E3FC;\n",
              "    }\n",
              "\n",
              "    [theme=dark] .colab-df-convert:hover {\n",
              "      background-color: #434B5C;\n",
              "      box-shadow: 0px 1px 3px 1px rgba(0, 0, 0, 0.15);\n",
              "      filter: drop-shadow(0px 1px 2px rgba(0, 0, 0, 0.3));\n",
              "      fill: #FFFFFF;\n",
              "    }\n",
              "  </style>\n",
              "\n",
              "      <script>\n",
              "        const buttonEl =\n",
              "          document.querySelector('#df-a7b0d2cb-b944-4c89-b04b-cf560ce4de71 button.colab-df-convert');\n",
              "        buttonEl.style.display =\n",
              "          google.colab.kernel.accessAllowed ? 'block' : 'none';\n",
              "\n",
              "        async function convertToInteractive(key) {\n",
              "          const element = document.querySelector('#df-a7b0d2cb-b944-4c89-b04b-cf560ce4de71');\n",
              "          const dataTable =\n",
              "            await google.colab.kernel.invokeFunction('convertToInteractive',\n",
              "                                                     [key], {});\n",
              "          if (!dataTable) return;\n",
              "\n",
              "          const docLinkHtml = 'Like what you see? Visit the ' +\n",
              "            '<a target=\"_blank\" href=https://colab.research.google.com/notebooks/data_table.ipynb>data table notebook</a>'\n",
              "            + ' to learn more about interactive tables.';\n",
              "          element.innerHTML = '';\n",
              "          dataTable['output_type'] = 'display_data';\n",
              "          await google.colab.output.renderOutput(dataTable, element);\n",
              "          const docLink = document.createElement('div');\n",
              "          docLink.innerHTML = docLinkHtml;\n",
              "          element.appendChild(docLink);\n",
              "        }\n",
              "      </script>\n",
              "    </div>\n",
              "  </div>\n",
              "  "
            ]
          },
          "metadata": {},
          "execution_count": 48
        }
      ]
    },
    {
      "cell_type": "code",
      "source": [
        "# Quitamos de la base melb_df_ext los suburbs con frecuencia menor a 90 para quedarnos con los 50 suburbs más frecuentes\n",
        "Suburb_principales= Suburb_count[Suburb_count['frequency'] >= 90]\n",
        "\n",
        "melb_df_ext = melb_df_ext[melb_df_ext['Suburb'].isin(Suburb_principales['Suburb'])]"
      ],
      "metadata": {
        "id": "MAc3GCjrcJCs"
      },
      "execution_count": null,
      "outputs": []
    },
    {
      "cell_type": "code",
      "source": [
        "# Cantidad de niveles en cada categoría\n",
        "melb_df_ext[categorical_cols].nunique()"
      ],
      "metadata": {
        "colab": {
          "base_uri": "https://localhost:8080/"
        },
        "id": "S94QYPnbciAM",
        "outputId": "bacf592b-ff80-4dff-cbca-fcbd7fb95588"
      },
      "execution_count": null,
      "outputs": [
        {
          "output_type": "execute_result",
          "data": {
            "text/plain": [
              "Date          58\n",
              "Type           3\n",
              "Suburb        50\n",
              "Regionname     4\n",
              "dtype: int64"
            ]
          },
          "metadata": {},
          "execution_count": 50
        }
      ]
    },
    {
      "cell_type": "code",
      "source": [
        "# Codificación de las variables categóricas\n",
        "encoder = OneHotEncoder(handle_unknown='ignore', sparse=False)\n",
        "X_cat = encoder.fit_transform(melb_df_ext[categorical_cols])\n",
        "for col, col_values in zip(categorical_cols, encoder.categories_):\n",
        "  for col_value in col_values:\n",
        "    new_columns.append('{}={}'.format(col, col_value))\n",
        "print(\"Matrix has shape {}, with columns: {}\".format(X_cat.shape, new_columns))\n"
      ],
      "metadata": {
        "colab": {
          "base_uri": "https://localhost:8080/"
        },
        "id": "RVtecS7XrMuQ",
        "outputId": "3b7cbf05-9abb-4704-e667-8a4736ed9bdc"
      },
      "execution_count": null,
      "outputs": [
        {
          "output_type": "stream",
          "name": "stdout",
          "text": [
            "Matrix has shape (7470, 115), with columns: ['Date=1/07/2017', 'Date=10/09/2016', 'Date=10/12/2016', 'Date=11/02/2017', 'Date=11/03/2017', 'Date=12/06/2016', 'Date=12/08/2017', 'Date=12/11/2016', 'Date=13/05/2017', 'Date=13/08/2016', 'Date=14/05/2016', 'Date=15/07/2017', 'Date=15/10/2016', 'Date=16/04/2016', 'Date=16/07/2016', 'Date=16/09/2017', 'Date=17/06/2017', 'Date=17/09/2016', 'Date=18/03/2017', 'Date=18/06/2016', 'Date=19/08/2017', 'Date=19/11/2016', 'Date=20/05/2017', 'Date=22/04/2017', 'Date=22/05/2016', 'Date=22/07/2017', 'Date=22/08/2016', 'Date=23/04/2016', 'Date=23/09/2017', 'Date=24/06/2017', 'Date=24/09/2016', 'Date=25/02/2017', 'Date=26/07/2016', 'Date=26/08/2017', 'Date=27/05/2017', 'Date=27/06/2016', 'Date=27/11/2016', 'Date=28/01/2016', 'Date=28/05/2016', 'Date=28/08/2016', 'Date=29/04/2017', 'Date=29/07/2017', 'Date=3/06/2017', 'Date=3/09/2016', 'Date=3/09/2017', 'Date=3/12/2016', 'Date=30/07/2016', 'Date=4/02/2016', 'Date=4/03/2017', 'Date=4/06/2016', 'Date=6/05/2017', 'Date=6/08/2016', 'Date=7/05/2016', 'Date=7/11/2016', 'Date=8/04/2017', 'Date=8/07/2017', 'Date=8/10/2016', 'Date=9/09/2017', 'Type=h', 'Type=t', 'Type=u', 'Suburb=Armadale', 'Suburb=Ascot Vale', 'Suburb=Balwyn', 'Suburb=Balwyn North', 'Suburb=Bentleigh', 'Suburb=Bentleigh East', 'Suburb=Brighton', 'Suburb=Brighton East', 'Suburb=Brunswick', 'Suburb=Brunswick West', 'Suburb=Camberwell', 'Suburb=Carnegie', 'Suburb=Coburg', 'Suburb=Doncaster', 'Suburb=Elwood', 'Suburb=Essendon', 'Suburb=Fawkner', 'Suburb=Fitzroy North', 'Suburb=Footscray', 'Suburb=Glen Iris', 'Suburb=Glenroy', 'Suburb=Hampton', 'Suburb=Hawthorn', 'Suburb=Hawthorn East', 'Suburb=Ivanhoe', 'Suburb=Keilor East', 'Suburb=Kensington', 'Suburb=Kew', 'Suburb=Maidstone', 'Suburb=Malvern East', 'Suburb=Maribyrnong', 'Suburb=Moonee Ponds', 'Suburb=Newport', 'Suburb=Northcote', 'Suburb=Pascoe Vale', 'Suburb=Port Melbourne', 'Suburb=Prahran', 'Suburb=Preston', 'Suburb=Reservoir', 'Suburb=Richmond', 'Suburb=South Yarra', 'Suburb=St Kilda', 'Suburb=Sunshine', 'Suburb=Surrey Hills', 'Suburb=Templestowe Lower', 'Suburb=Thornbury', 'Suburb=Toorak', 'Suburb=West Footscray', 'Suburb=Williamstown', 'Suburb=Yarraville', 'Regionname=Eastern Metropolitan', 'Regionname=Northern Metropolitan', 'Regionname=Southern Metropolitan', 'Regionname=Western Metropolitan']\n"
          ]
        }
      ]
    },
    {
      "cell_type": "code",
      "source": [
        "len(new_columns)"
      ],
      "metadata": {
        "colab": {
          "base_uri": "https://localhost:8080/"
        },
        "id": "542l_G17zpJd",
        "outputId": "51d2171f-2060-4bca-e6eb-b367cddf312c"
      },
      "execution_count": null,
      "outputs": [
        {
          "output_type": "execute_result",
          "data": {
            "text/plain": [
              "115"
            ]
          },
          "metadata": {},
          "execution_count": 52
        }
      ]
    },
    {
      "cell_type": "code",
      "source": [
        "X_cat[:10]"
      ],
      "metadata": {
        "colab": {
          "base_uri": "https://localhost:8080/"
        },
        "id": "Gr2njn80rsTU",
        "outputId": "1041faa2-efb2-4df5-b76f-a070636fcef3"
      },
      "execution_count": null,
      "outputs": [
        {
          "output_type": "execute_result",
          "data": {
            "text/plain": [
              "array([[0., 0., 0., ..., 0., 1., 0.],\n",
              "       [0., 0., 0., ..., 0., 1., 0.],\n",
              "       [0., 0., 0., ..., 0., 1., 0.],\n",
              "       ...,\n",
              "       [0., 0., 0., ..., 0., 1., 0.],\n",
              "       [0., 0., 0., ..., 0., 1., 0.],\n",
              "       [0., 0., 0., ..., 0., 1., 0.]])"
            ]
          },
          "metadata": {},
          "execution_count": 53
        }
      ]
    },
    {
      "cell_type": "code",
      "source": [
        "# Agregado de las variables numéricas\n",
        "X = numpy.hstack([X_cat, melb_df_ext[numerical_cols].values])\n",
        "new_columns.extend(numerical_cols)\n",
        "print(\"Matrix has shape {}, with columns: {}\".format(X.shape, new_columns))\n"
      ],
      "metadata": {
        "colab": {
          "base_uri": "https://localhost:8080/"
        },
        "id": "muaspa5YsjHj",
        "outputId": "80ebe627-6bb4-4a9f-bc4f-085698aa91c3"
      },
      "execution_count": null,
      "outputs": [
        {
          "output_type": "stream",
          "name": "stdout",
          "text": [
            "Matrix has shape (7470, 130), with columns: ['Date=1/07/2017', 'Date=10/09/2016', 'Date=10/12/2016', 'Date=11/02/2017', 'Date=11/03/2017', 'Date=12/06/2016', 'Date=12/08/2017', 'Date=12/11/2016', 'Date=13/05/2017', 'Date=13/08/2016', 'Date=14/05/2016', 'Date=15/07/2017', 'Date=15/10/2016', 'Date=16/04/2016', 'Date=16/07/2016', 'Date=16/09/2017', 'Date=17/06/2017', 'Date=17/09/2016', 'Date=18/03/2017', 'Date=18/06/2016', 'Date=19/08/2017', 'Date=19/11/2016', 'Date=20/05/2017', 'Date=22/04/2017', 'Date=22/05/2016', 'Date=22/07/2017', 'Date=22/08/2016', 'Date=23/04/2016', 'Date=23/09/2017', 'Date=24/06/2017', 'Date=24/09/2016', 'Date=25/02/2017', 'Date=26/07/2016', 'Date=26/08/2017', 'Date=27/05/2017', 'Date=27/06/2016', 'Date=27/11/2016', 'Date=28/01/2016', 'Date=28/05/2016', 'Date=28/08/2016', 'Date=29/04/2017', 'Date=29/07/2017', 'Date=3/06/2017', 'Date=3/09/2016', 'Date=3/09/2017', 'Date=3/12/2016', 'Date=30/07/2016', 'Date=4/02/2016', 'Date=4/03/2017', 'Date=4/06/2016', 'Date=6/05/2017', 'Date=6/08/2016', 'Date=7/05/2016', 'Date=7/11/2016', 'Date=8/04/2017', 'Date=8/07/2017', 'Date=8/10/2016', 'Date=9/09/2017', 'Type=h', 'Type=t', 'Type=u', 'Suburb=Armadale', 'Suburb=Ascot Vale', 'Suburb=Balwyn', 'Suburb=Balwyn North', 'Suburb=Bentleigh', 'Suburb=Bentleigh East', 'Suburb=Brighton', 'Suburb=Brighton East', 'Suburb=Brunswick', 'Suburb=Brunswick West', 'Suburb=Camberwell', 'Suburb=Carnegie', 'Suburb=Coburg', 'Suburb=Doncaster', 'Suburb=Elwood', 'Suburb=Essendon', 'Suburb=Fawkner', 'Suburb=Fitzroy North', 'Suburb=Footscray', 'Suburb=Glen Iris', 'Suburb=Glenroy', 'Suburb=Hampton', 'Suburb=Hawthorn', 'Suburb=Hawthorn East', 'Suburb=Ivanhoe', 'Suburb=Keilor East', 'Suburb=Kensington', 'Suburb=Kew', 'Suburb=Maidstone', 'Suburb=Malvern East', 'Suburb=Maribyrnong', 'Suburb=Moonee Ponds', 'Suburb=Newport', 'Suburb=Northcote', 'Suburb=Pascoe Vale', 'Suburb=Port Melbourne', 'Suburb=Prahran', 'Suburb=Preston', 'Suburb=Reservoir', 'Suburb=Richmond', 'Suburb=South Yarra', 'Suburb=St Kilda', 'Suburb=Sunshine', 'Suburb=Surrey Hills', 'Suburb=Templestowe Lower', 'Suburb=Thornbury', 'Suburb=Toorak', 'Suburb=West Footscray', 'Suburb=Williamstown', 'Suburb=Yarraville', 'Regionname=Eastern Metropolitan', 'Regionname=Northern Metropolitan', 'Regionname=Southern Metropolitan', 'Regionname=Western Metropolitan', 'Rooms', 'Price', 'Distance', 'Postcode', 'Bedroom2', 'Bathroom', 'Landsize', 'Lattitude', 'Longtitude', 'Propertycount', 'Car', 'airbnb_price_median', 'airbnb_weekly_price_median', 'airbnb_monthly_price_median', 'airbnb_record_count']\n"
          ]
        }
      ]
    },
    {
      "cell_type": "code",
      "source": [
        "len(new_columns)"
      ],
      "metadata": {
        "colab": {
          "base_uri": "https://localhost:8080/"
        },
        "id": "CSEqZ58-zx43",
        "outputId": "4309a9f8-9b9d-4736-e70f-70fb8f5114f5"
      },
      "execution_count": null,
      "outputs": [
        {
          "output_type": "execute_result",
          "data": {
            "text/plain": [
              "130"
            ]
          },
          "metadata": {},
          "execution_count": 55
        }
      ]
    },
    {
      "cell_type": "code",
      "source": [
        "X[:10]"
      ],
      "metadata": {
        "colab": {
          "base_uri": "https://localhost:8080/"
        },
        "id": "wzWkJRvasqKG",
        "outputId": "316ba1fe-424a-47b9-c5b2-a470ec2aa278"
      },
      "execution_count": null,
      "outputs": [
        {
          "output_type": "execute_result",
          "data": {
            "text/plain": [
              "array([[   0.,    0.,    0., ...,  550., 2390.,   68.],\n",
              "       [   0.,    0.,    0., ...,  550., 2390.,   68.],\n",
              "       [   0.,    0.,    0., ...,  550., 2390.,   68.],\n",
              "       ...,\n",
              "       [   0.,    0.,    0., ...,  550., 2390.,   68.],\n",
              "       [   0.,    0.,    0., ...,  550., 2390.,   68.],\n",
              "       [   0.,    0.,    0., ...,  550., 2390.,   68.]])"
            ]
          },
          "metadata": {},
          "execution_count": 56
        }
      ]
    },
    {
      "cell_type": "markdown",
      "metadata": {
        "id": "ismngxPcfoWb"
      },
      "source": [
        "## Ejercicio 2: Imputación por KNN\n",
        "\n",
        "En el teórico se presentó el método `IterativeImputer` para imputar valores faltantes en variables numéricas. Sin embargo, los ejemplos presentados sólo utilizaban algunas variables numéricas presentes en el conjunto de datos. En este ejercicio, utilizaremos la matriz de datos codificada para imputar datos faltantes de manera más precisa.\n",
        "\n",
        "1. Agregue a la matriz obtenida en el punto anterior las columnas `YearBuilt` y `BuildingArea`.\n",
        "2. Aplique una instancia de `IterativeImputer` con un estimador `KNeighborsRegressor` para imputar los valores de las variables. ¿Es necesario estandarizar o escalar los datos previamente?\n",
        "3. Realice un gráfico mostrando la distribución de cada variable antes de ser imputada, y con ambos métodos de imputación."
      ]
    },
    {
      "cell_type": "code",
      "source": [
        "# Agregamos las columnas YearBuilt y BuildingArea\n",
        "X2 = numpy.hstack([X, melb_df_ext[ay_cols].values])\n",
        "new_columns.extend(ay_cols)\n",
        "print(\"Matrix has shape {}, with columns: {}\".format(X2.shape, new_columns))\n"
      ],
      "metadata": {
        "colab": {
          "base_uri": "https://localhost:8080/"
        },
        "id": "lYFh4VC3s62l",
        "outputId": "3ad54205-f027-4ce3-99b9-b77ad60d3be1"
      },
      "execution_count": null,
      "outputs": [
        {
          "output_type": "stream",
          "name": "stdout",
          "text": [
            "Matrix has shape (7470, 132), with columns: ['Date=1/07/2017', 'Date=10/09/2016', 'Date=10/12/2016', 'Date=11/02/2017', 'Date=11/03/2017', 'Date=12/06/2016', 'Date=12/08/2017', 'Date=12/11/2016', 'Date=13/05/2017', 'Date=13/08/2016', 'Date=14/05/2016', 'Date=15/07/2017', 'Date=15/10/2016', 'Date=16/04/2016', 'Date=16/07/2016', 'Date=16/09/2017', 'Date=17/06/2017', 'Date=17/09/2016', 'Date=18/03/2017', 'Date=18/06/2016', 'Date=19/08/2017', 'Date=19/11/2016', 'Date=20/05/2017', 'Date=22/04/2017', 'Date=22/05/2016', 'Date=22/07/2017', 'Date=22/08/2016', 'Date=23/04/2016', 'Date=23/09/2017', 'Date=24/06/2017', 'Date=24/09/2016', 'Date=25/02/2017', 'Date=26/07/2016', 'Date=26/08/2017', 'Date=27/05/2017', 'Date=27/06/2016', 'Date=27/11/2016', 'Date=28/01/2016', 'Date=28/05/2016', 'Date=28/08/2016', 'Date=29/04/2017', 'Date=29/07/2017', 'Date=3/06/2017', 'Date=3/09/2016', 'Date=3/09/2017', 'Date=3/12/2016', 'Date=30/07/2016', 'Date=4/02/2016', 'Date=4/03/2017', 'Date=4/06/2016', 'Date=6/05/2017', 'Date=6/08/2016', 'Date=7/05/2016', 'Date=7/11/2016', 'Date=8/04/2017', 'Date=8/07/2017', 'Date=8/10/2016', 'Date=9/09/2017', 'Type=h', 'Type=t', 'Type=u', 'Suburb=Armadale', 'Suburb=Ascot Vale', 'Suburb=Balwyn', 'Suburb=Balwyn North', 'Suburb=Bentleigh', 'Suburb=Bentleigh East', 'Suburb=Brighton', 'Suburb=Brighton East', 'Suburb=Brunswick', 'Suburb=Brunswick West', 'Suburb=Camberwell', 'Suburb=Carnegie', 'Suburb=Coburg', 'Suburb=Doncaster', 'Suburb=Elwood', 'Suburb=Essendon', 'Suburb=Fawkner', 'Suburb=Fitzroy North', 'Suburb=Footscray', 'Suburb=Glen Iris', 'Suburb=Glenroy', 'Suburb=Hampton', 'Suburb=Hawthorn', 'Suburb=Hawthorn East', 'Suburb=Ivanhoe', 'Suburb=Keilor East', 'Suburb=Kensington', 'Suburb=Kew', 'Suburb=Maidstone', 'Suburb=Malvern East', 'Suburb=Maribyrnong', 'Suburb=Moonee Ponds', 'Suburb=Newport', 'Suburb=Northcote', 'Suburb=Pascoe Vale', 'Suburb=Port Melbourne', 'Suburb=Prahran', 'Suburb=Preston', 'Suburb=Reservoir', 'Suburb=Richmond', 'Suburb=South Yarra', 'Suburb=St Kilda', 'Suburb=Sunshine', 'Suburb=Surrey Hills', 'Suburb=Templestowe Lower', 'Suburb=Thornbury', 'Suburb=Toorak', 'Suburb=West Footscray', 'Suburb=Williamstown', 'Suburb=Yarraville', 'Regionname=Eastern Metropolitan', 'Regionname=Northern Metropolitan', 'Regionname=Southern Metropolitan', 'Regionname=Western Metropolitan', 'Rooms', 'Price', 'Distance', 'Postcode', 'Bedroom2', 'Bathroom', 'Landsize', 'Lattitude', 'Longtitude', 'Propertycount', 'Car', 'airbnb_price_median', 'airbnb_weekly_price_median', 'airbnb_monthly_price_median', 'airbnb_record_count', 'BuildingArea', 'YearBuilt']\n"
          ]
        }
      ]
    },
    {
      "cell_type": "code",
      "source": [
        "len(new_columns)"
      ],
      "metadata": {
        "colab": {
          "base_uri": "https://localhost:8080/"
        },
        "id": "weFDp9141ZOP",
        "outputId": "34ae60d3-736b-4d60-c519-856069eda179"
      },
      "execution_count": null,
      "outputs": [
        {
          "output_type": "execute_result",
          "data": {
            "text/plain": [
              "132"
            ]
          },
          "metadata": {},
          "execution_count": 58
        }
      ]
    },
    {
      "cell_type": "code",
      "source": [
        "X2[:10]"
      ],
      "metadata": {
        "colab": {
          "base_uri": "https://localhost:8080/"
        },
        "id": "5Y7DZwP1xccE",
        "outputId": "822772d9-a072-4e91-c0c7-7c7f6be91945"
      },
      "execution_count": null,
      "outputs": [
        {
          "output_type": "execute_result",
          "data": {
            "text/plain": [
              "array([[   0.,    0.,    0., ...,   68.,   76., 1964.],\n",
              "       [   0.,    0.,    0., ...,   68.,   nan,   nan],\n",
              "       [   0.,    0.,    0., ...,   68.,  100., 1998.],\n",
              "       ...,\n",
              "       [   0.,    0.,    0., ...,   68.,   nan,   nan],\n",
              "       [   0.,    0.,    0., ...,   68.,  165., 1995.],\n",
              "       [   0.,    0.,    0., ...,   68.,   nan,   nan]])"
            ]
          },
          "metadata": {},
          "execution_count": 59
        }
      ]
    },
    {
      "cell_type": "markdown",
      "source": [
        "A continuación escalamos la matriz X2 entre 0 y 1 para luego implementar la imputación:"
      ],
      "metadata": {
        "id": "cVEg_TYwASl7"
      }
    },
    {
      "cell_type": "code",
      "source": [
        "# Escalado de la matriz\n",
        "from sklearn.preprocessing import MinMaxScaler\n",
        "scaler = MinMaxScaler(feature_range=(0, 1))\n",
        "scaled_X2 = scaler.fit_transform(X2)\n",
        "numpy.max(scaled_X2), numpy.min(scaled_X2)"
      ],
      "metadata": {
        "colab": {
          "base_uri": "https://localhost:8080/"
        },
        "id": "Wf1YdEgExMqq",
        "outputId": "e88869f7-b8a1-43fa-ae42-8427854fe5ff"
      },
      "execution_count": null,
      "outputs": [
        {
          "output_type": "execute_result",
          "data": {
            "text/plain": [
              "(nan, nan)"
            ]
          },
          "metadata": {},
          "execution_count": 60
        }
      ]
    },
    {
      "cell_type": "code",
      "source": [
        "scaled_X2[:10]"
      ],
      "metadata": {
        "colab": {
          "base_uri": "https://localhost:8080/"
        },
        "id": "76X5XwPcyx4p",
        "outputId": "51c0f219-5541-4e37-f857-055c67773b8a"
      },
      "execution_count": null,
      "outputs": [
        {
          "output_type": "execute_result",
          "data": {
            "text/plain": [
              "array([[0.        , 0.        , 0.        , ..., 0.0524911 , 0.02136031,\n",
              "        0.67857143],\n",
              "       [0.        , 0.        , 0.        , ..., 0.0524911 ,        nan,\n",
              "               nan],\n",
              "       [0.        , 0.        , 0.        , ..., 0.0524911 , 0.02810568,\n",
              "        0.88095238],\n",
              "       ...,\n",
              "       [0.        , 0.        , 0.        , ..., 0.0524911 ,        nan,\n",
              "               nan],\n",
              "       [0.        , 0.        , 0.        , ..., 0.0524911 , 0.04637437,\n",
              "        0.86309524],\n",
              "       [0.        , 0.        , 0.        , ..., 0.0524911 ,        nan,\n",
              "               nan]])"
            ]
          },
          "metadata": {},
          "execution_count": 61
        }
      ]
    },
    {
      "cell_type": "markdown",
      "source": [
        "A continuación realizamos la imputación IterativeImputer con un estimador KNeighborsRegressor utilizando todas las columnas de la matriz. Al resultado lo llamaremos X_scaled_mice_full (full)."
      ],
      "metadata": {
        "id": "JEe4zGorBgYf"
      }
    },
    {
      "cell_type": "code",
      "source": [
        "# Imputamos utilizando toda la matriz (full)\n",
        "from sklearn.experimental import enable_iterative_imputer\n",
        "from sklearn.neighbors import KNeighborsRegressor\n",
        "from sklearn.impute import IterativeImputer\n",
        "\n",
        "X_scaled_mice_full = scaled_X2.copy()\n",
        "\n",
        "mice_imputer = IterativeImputer(random_state=0, estimator=KNeighborsRegressor())\n",
        "X_scaled_mice_full = mice_imputer.fit_transform(\n",
        "    X_scaled_mice_full)"
      ],
      "metadata": {
        "colab": {
          "base_uri": "https://localhost:8080/"
        },
        "id": "xgyxtOsTEZsc",
        "outputId": "757c2b44-f4f0-4dc5-d575-c4b3db7af296"
      },
      "execution_count": null,
      "outputs": [
        {
          "output_type": "stream",
          "name": "stderr",
          "text": [
            "/usr/local/lib/python3.7/dist-packages/sklearn/impute/_iterative.py:701: ConvergenceWarning: [IterativeImputer] Early stopping criterion not reached.\n",
            "  ConvergenceWarning,\n"
          ]
        }
      ]
    },
    {
      "cell_type": "code",
      "source": [
        "# Matriz con las imputaciones utilizando todas las columnas (full)\n",
        "X_scaled_mice_full[:10]"
      ],
      "metadata": {
        "colab": {
          "base_uri": "https://localhost:8080/"
        },
        "id": "-7Guy7z1E2Ib",
        "outputId": "129c09bd-56be-48fe-9101-a51a7e0a3138"
      },
      "execution_count": null,
      "outputs": [
        {
          "output_type": "execute_result",
          "data": {
            "text/plain": [
              "array([[0.        , 0.        , 0.        , ..., 0.0524911 , 0.02136031,\n",
              "        0.67857143],\n",
              "       [0.        , 0.        , 0.        , ..., 0.0524911 , 0.02237212,\n",
              "        0.74880952],\n",
              "       [0.        , 0.        , 0.        , ..., 0.0524911 , 0.02810568,\n",
              "        0.88095238],\n",
              "       ...,\n",
              "       [0.        , 0.        , 0.        , ..., 0.0524911 , 0.02124789,\n",
              "        0.70119048],\n",
              "       [0.        , 0.        , 0.        , ..., 0.0524911 , 0.04637437,\n",
              "        0.86309524],\n",
              "       [0.        , 0.        , 0.        , ..., 0.0524911 , 0.02197864,\n",
              "        0.70119048]])"
            ]
          },
          "metadata": {},
          "execution_count": 63
        }
      ]
    },
    {
      "cell_type": "markdown",
      "source": [
        "A continuación realizamos la imputación IterativeImputer con un estimador KNeighborsRegressor utilizando sólo todas las columnas que posee NANs  (YearBuilt, BuildingArea, car, airbnb_price_median, airbnb_weekly_price_median, airbnb_monthly_price_median y airbnb_record_count\n",
        "from sklearn.experimental import enable_iterative_imputer). Al resultado lo llamaremos X_scaled_mice_nan (nan). "
      ],
      "metadata": {
        "id": "38S7Q6dVBxkp"
      }
    },
    {
      "cell_type": "code",
      "source": [
        "# Imputamos utilizando las variables YearBuilt y BuildingArea y también las variables car, airbnb_price_median, airbnb_weekly_price_median, airbnb_monthly_price_median y airbnb_record_count\n",
        "from sklearn.experimental import enable_iterative_imputer\n",
        "from sklearn.neighbors import KNeighborsRegressor\n",
        "from sklearn.impute import IterativeImputer\n",
        "\n",
        "X_scaled_mice_nan = scaled_X2.copy()\n",
        "\n",
        "mice_imputer = IterativeImputer(random_state=0, estimator=KNeighborsRegressor())\n",
        "X_scaled_mice_nan[:, [-7, -6, -5, -4, -3, -2, -1]] = mice_imputer.fit_transform(\n",
        "    X_scaled_mice_nan[:, [-7, -6, -5, -4, -3, -2, -1]])"
      ],
      "metadata": {
        "colab": {
          "base_uri": "https://localhost:8080/"
        },
        "id": "qIJPtIRjzIi0",
        "outputId": "a851d029-d92d-42a9-b6d0-631b94ec98b5"
      },
      "execution_count": null,
      "outputs": [
        {
          "output_type": "stream",
          "name": "stderr",
          "text": [
            "/usr/local/lib/python3.7/dist-packages/sklearn/impute/_iterative.py:701: ConvergenceWarning: [IterativeImputer] Early stopping criterion not reached.\n",
            "  ConvergenceWarning,\n"
          ]
        }
      ]
    },
    {
      "cell_type": "code",
      "source": [
        "# Matriz con las imputaciones utilizando sólo todas las columnas que tiene nans (nan)\n",
        "X_scaled_mice_nan[:10]"
      ],
      "metadata": {
        "colab": {
          "base_uri": "https://localhost:8080/"
        },
        "id": "FcTBsl8WzcOf",
        "outputId": "29be6eab-4efd-4e8f-a7a2-1a37df04afa2"
      },
      "execution_count": null,
      "outputs": [
        {
          "output_type": "execute_result",
          "data": {
            "text/plain": [
              "array([[0.        , 0.        , 0.        , ..., 0.0524911 , 0.02136031,\n",
              "        0.67857143],\n",
              "       [0.        , 0.        , 0.        , ..., 0.0524911 , 0.04721754,\n",
              "        0.52619048],\n",
              "       [0.        , 0.        , 0.        , ..., 0.0524911 , 0.02810568,\n",
              "        0.88095238],\n",
              "       ...,\n",
              "       [0.        , 0.        , 0.        , ..., 0.0524911 , 0.05193929,\n",
              "        0.49880952],\n",
              "       [0.        , 0.        , 0.        , ..., 0.0524911 , 0.04637437,\n",
              "        0.86309524],\n",
              "       [0.        , 0.        , 0.        , ..., 0.0524911 , 0.01416526,\n",
              "        0.77857143]])"
            ]
          },
          "metadata": {},
          "execution_count": 65
        }
      ]
    },
    {
      "cell_type": "markdown",
      "source": [
        "A continuación realizamos la imputación IterativeImputer con un estimador KNeighborsRegressor utilizando sólo las columnas YearBuilt y BuildingArea. Al resultado lo llamaremos X_scaled_mice_nan2 (nan2)."
      ],
      "metadata": {
        "id": "dIBHKOevCdfP"
      }
    },
    {
      "cell_type": "code",
      "source": [
        "# Imputamos utilizando sólo las variables YearBuilt y BuildingArea (nan2)\n",
        "from sklearn.experimental import enable_iterative_imputer\n",
        "from sklearn.neighbors import KNeighborsRegressor\n",
        "from sklearn.impute import IterativeImputer\n",
        "\n",
        "X_scaled_mice_nan2 = scaled_X2.copy()\n",
        "\n",
        "mice_imputer = IterativeImputer(random_state=0, estimator=KNeighborsRegressor())\n",
        "X_scaled_mice_nan2[:, [-2, -1]] = mice_imputer.fit_transform(\n",
        "    X_scaled_mice_nan2[:, [-2, -1]])"
      ],
      "metadata": {
        "colab": {
          "base_uri": "https://localhost:8080/"
        },
        "id": "adQgRIdp-T-l",
        "outputId": "15a09c87-274f-4612-c389-92ddcae4f835"
      },
      "execution_count": null,
      "outputs": [
        {
          "output_type": "stream",
          "name": "stderr",
          "text": [
            "/usr/local/lib/python3.7/dist-packages/sklearn/impute/_iterative.py:701: ConvergenceWarning: [IterativeImputer] Early stopping criterion not reached.\n",
            "  ConvergenceWarning,\n"
          ]
        }
      ]
    },
    {
      "cell_type": "code",
      "source": [
        "# Matriz con las imputaciones utilizando sólo las columnas YearBuilt y BuildingArea (nan2)\n",
        "X_scaled_mice_nan2[:10]"
      ],
      "metadata": {
        "colab": {
          "base_uri": "https://localhost:8080/"
        },
        "id": "Z2rb5rcz-hWj",
        "outputId": "c73b1be2-3c59-456d-a616-3ee17be13bea"
      },
      "execution_count": null,
      "outputs": [
        {
          "output_type": "execute_result",
          "data": {
            "text/plain": [
              "array([[0.        , 0.        , 0.        , ..., 0.0524911 , 0.02136031,\n",
              "        0.67857143],\n",
              "       [0.        , 0.        , 0.        , ..., 0.0524911 , 0.0613828 ,\n",
              "        0.57142857],\n",
              "       [0.        , 0.        , 0.        , ..., 0.0524911 , 0.02810568,\n",
              "        0.88095238],\n",
              "       ...,\n",
              "       [0.        , 0.        , 0.        , ..., 0.0524911 , 0.0613828 ,\n",
              "        0.57142857],\n",
              "       [0.        , 0.        , 0.        , ..., 0.0524911 , 0.04637437,\n",
              "        0.86309524],\n",
              "       [0.        , 0.        , 0.        , ..., 0.0524911 , 0.0613828 ,\n",
              "        0.57142857]])"
            ]
          },
          "metadata": {},
          "execution_count": 67
        }
      ]
    },
    {
      "cell_type": "code",
      "source": [
        "# Gráfico comparativo de distribuciones YearBuilt\n",
        "melb_year_built = pandas.DataFrame(scaled_X2[:,-1])\n",
        "melb_year_built.columns = ['YearBuilt']\n",
        "\n",
        "mice_year_built_nan = pandas.DataFrame(X_scaled_mice_nan[:,-1])\n",
        "mice_year_built_nan.columns = ['YearBuilt']\n",
        "\n",
        "mice_year_built_nan2 = pandas.DataFrame(X_scaled_mice_nan2[:,-1])\n",
        "mice_year_built_nan2.columns = ['YearBuilt']\n",
        "\n",
        "mice_year_built_full = pandas.DataFrame(X_scaled_mice_full[:,-1])\n",
        "mice_year_built_full.columns = ['YearBuilt']\n",
        "\n",
        "mice_year_built_nan['Imputation'] = 'KNN over YearBuilt nan'\n",
        "mice_year_built_nan2['Imputation'] = 'KNN over YearBuilt nan2'\n",
        "mice_year_built_full['Imputation'] = 'KNN over YearBuilt full'\n",
        "melb_year_built['Imputation'] = 'Original'\n",
        "data = pandas.concat([mice_year_built_nan, mice_year_built_nan2, mice_year_built_full, melb_year_built], ignore_index= True)\n",
        "\n",
        "fig = plt.figure(figsize=(8, 5))\n",
        "g = seaborn.kdeplot(data=data, x='YearBuilt', hue='Imputation')"
      ],
      "metadata": {
        "id": "nQd88zybzkOY",
        "colab": {
          "base_uri": "https://localhost:8080/",
          "height": 355
        },
        "outputId": "818ce770-4121-451c-c8a7-794066b66eb5"
      },
      "execution_count": null,
      "outputs": [
        {
          "output_type": "display_data",
          "data": {
            "text/plain": [
              "<Figure size 576x360 with 1 Axes>"
            ],
            "image/png": "[encoded data removed]"
          },
          "metadata": {
            "needs_background": "light"
          }
        }
      ]
    },
    {
      "cell_type": "markdown",
      "source": [
        "Para la variable YearBuilt se observa del gráfico que la imputación que utiliza toda la matriz (full) es mejor que la que utiliza todas las columnas que tienen NANs (nan) y que la que utiliza sólo las columnas YearBuilt y BuldingArea (nan2). "
      ],
      "metadata": {
        "id": "gkDqVlVo5aOb"
      }
    },
    {
      "cell_type": "code",
      "source": [
        "# Gráfico comparativo de distribuciones BuildingArea\n",
        "mice_building_area_nan = pandas.DataFrame(X_scaled_mice_nan[:,-2])\n",
        "mice_building_area_nan.columns = ['BuildingArea']\n",
        "\n",
        "mice_building_area_nan2 = pandas.DataFrame(X_scaled_mice_nan2[:,-2])\n",
        "mice_building_area_nan2.columns = ['BuildingArea']\n",
        "\n",
        "mice_building_area_full = pandas.DataFrame(X_scaled_mice_full[:,-2])\n",
        "mice_building_area_full.columns = ['BuildingArea']\n",
        "\n",
        "melb_building_area = pandas.DataFrame(scaled_X2[:,-2])\n",
        "melb_building_area.columns = ['BuildingArea']\n",
        "\n",
        "\n",
        "mice_building_area_nan['Imputation'] = 'KNN over BuildingArea nan'\n",
        "mice_building_area_nan2['Imputation'] = 'KNN over BuildingArea nan2'\n",
        "mice_building_area_full['Imputation'] = 'KNN over BuildingArea full'\n",
        "melb_building_area['Imputation'] = 'Original'\n",
        "data = pandas.concat([mice_building_area_nan, mice_building_area_nan2, mice_building_area_full, melb_building_area],ignore_index= True)\n",
        "\n",
        "fig = plt.figure(figsize=(8, 5))\n",
        "g = seaborn.kdeplot(data=data, x='BuildingArea', hue='Imputation')\n"
      ],
      "metadata": {
        "colab": {
          "base_uri": "https://localhost:8080/",
          "height": 358
        },
        "id": "OoG5I91KCGnB",
        "outputId": "0faa234b-130b-4576-b458-42177fc9b697"
      },
      "execution_count": null,
      "outputs": [
        {
          "output_type": "display_data",
          "data": {
            "text/plain": [
              "<Figure size 576x360 with 1 Axes>"
            ],
            "image/png": "[encoded data removed]"
          },
          "metadata": {
            "needs_background": "light"
          }
        }
      ]
    },
    {
      "cell_type": "markdown",
      "source": [
        "Para la variable BuildingArea se observa del gráfico que la imputación full es muy próxima a la imputación nan y ambas mejores que nan2."
      ],
      "metadata": {
        "id": "mzOqrZ1A6sxT"
      }
    },
    {
      "cell_type": "markdown",
      "metadata": {
        "id": "NBN7-5OIxjJW"
      },
      "source": [
        "## Ejercicio 3: Reducción de dimensionalidad.\n",
        "\n",
        "Utilizando la matriz obtenida en el ejercicio anterior:\n",
        "1. Aplique `PCA` para obtener $n$ componentes principales de la matriz, donde `n = min(20, X.shape[0])`. ¿Es necesario estandarizar o escalar los datos?\n",
        "2. Grafique la varianza capturada por los primeros $n$ componentes principales, para cada $n$.\n",
        "3. En base al gráfico, seleccione las primeras $m$ columnas de la matriz transformada para agregar como nuevas características al conjunto de datos."
      ]
    },
    {
      "cell_type": "code",
      "source": [
        "X_scaled_mice_full.shape[0]"
      ],
      "metadata": {
        "colab": {
          "base_uri": "https://localhost:8080/"
        },
        "id": "SbY_GKnz66Bw",
        "outputId": "02629a8e-cbc9-4fcc-8742-9076bf33d82d"
      },
      "execution_count": null,
      "outputs": [
        {
          "output_type": "execute_result",
          "data": {
            "text/plain": [
              "7470"
            ]
          },
          "metadata": {},
          "execution_count": 71
        }
      ]
    },
    {
      "cell_type": "code",
      "source": [
        "# Cálculo de la cantidad de componentes principales\n",
        "n = min(20, X_scaled_mice_full.shape[0])\n",
        "n"
      ],
      "metadata": {
        "colab": {
          "base_uri": "https://localhost:8080/"
        },
        "id": "DcOACzDrAbS2",
        "outputId": "663e1f7a-74d5-4f07-d3d3-be9471e396ef"
      },
      "execution_count": null,
      "outputs": [
        {
          "output_type": "execute_result",
          "data": {
            "text/plain": [
              "20"
            ]
          },
          "metadata": {},
          "execution_count": 72
        }
      ]
    },
    {
      "cell_type": "markdown",
      "source": [
        "Es recomendable estandarizar o escalar la matriz original para asegurar de que todas las variables estén en las mismas unidades y ninguna tenga un peso demasiado grande. Como vimos en la teoría, para este caso conviene realizar el escalado.\n",
        "\n",
        "Utilizamos la matrix X_scaled_mice_full que ya se encuentra escalada y no tiene nans.\n",
        "\n",
        "\n",
        "\n"
      ],
      "metadata": {
        "id": "LdHqILsoUhXf"
      }
    },
    {
      "cell_type": "code",
      "source": [
        "# Cálculo de las 20 componentes principales\n",
        "from sklearn.decomposition import PCA\n",
        "pca = PCA(n_components=20)\n",
        "pca.fit(X_scaled_mice_full)\n",
        "proyected_features = pca.transform(X_scaled_mice_full)\n",
        "proyected_features.shape"
      ],
      "metadata": {
        "colab": {
          "base_uri": "https://localhost:8080/"
        },
        "id": "rwuHoXxDY7My",
        "outputId": "418d09ba-52f1-4b05-b8e6-f313fb9d0c29"
      },
      "execution_count": null,
      "outputs": [
        {
          "output_type": "execute_result",
          "data": {
            "text/plain": [
              "(7470, 20)"
            ]
          },
          "metadata": {},
          "execution_count": 73
        }
      ]
    },
    {
      "cell_type": "code",
      "source": [
        "# Variabilidad explicada por cada componente\n",
        "pca.explained_variance_ratio_"
      ],
      "metadata": {
        "colab": {
          "base_uri": "https://localhost:8080/"
        },
        "id": "W0g6QIMRZMcx",
        "outputId": "8e70430c-c856-4247-bf0d-579ec26205c7"
      },
      "execution_count": null,
      "outputs": [
        {
          "output_type": "execute_result",
          "data": {
            "text/plain": [
              "array([0.15470282, 0.10430978, 0.08347529, 0.04375154, 0.03164117,\n",
              "       0.02465988, 0.01916823, 0.01572499, 0.0124153 , 0.01029144,\n",
              "       0.00989663, 0.00916629, 0.0086865 , 0.0084556 , 0.00805698,\n",
              "       0.00799845, 0.00769522, 0.00746434, 0.00727506, 0.00699357])"
            ]
          },
          "metadata": {},
          "execution_count": 74
        }
      ]
    },
    {
      "cell_type": "code",
      "source": [
        "proyected_features[:,[0,1,2,3,4]]"
      ],
      "metadata": {
        "colab": {
          "base_uri": "https://localhost:8080/"
        },
        "id": "-HqVixOqPEid",
        "outputId": "07aa8a3b-c137-485b-fee1-661e8b426a99"
      },
      "execution_count": null,
      "outputs": [
        {
          "output_type": "execute_result",
          "data": {
            "text/plain": [
              "array([[ 1.10627598,  0.50054578,  0.16319298,  0.0368274 , -0.27443234],\n",
              "       [ 1.11604853,  0.50861688,  0.17284158,  0.05562993, -0.27844969],\n",
              "       [ 1.11014612,  0.4607866 ,  0.17974848,  0.09867448, -0.24154052],\n",
              "       ...,\n",
              "       [-0.57470256, -0.32480483,  0.93761562, -0.39473535,  0.19416065],\n",
              "       [-0.59679195, -0.47520032,  0.89464112, -0.50048251,  0.18026888],\n",
              "       [-0.70543361, -0.35156435,  0.9092914 , -0.43758805,  0.07177537]])"
            ]
          },
          "metadata": {},
          "execution_count": 75
        }
      ]
    },
    {
      "cell_type": "code",
      "source": [
        "# Gráfico de la varianza capturada por cada componente\n",
        "seaborn.lineplot(x=range(pca.n_components),\n",
        "                 y=pca.explained_variance_ratio_, label='Scaled')\n",
        "plt.ylabel(\"Ratio of variance explained\")\n",
        "plt.xlabel(\"Components\")\n",
        "plt.legend()"
      ],
      "metadata": {
        "colab": {
          "base_uri": "https://localhost:8080/",
          "height": 333
        },
        "id": "A7YKeUl0bZgr",
        "outputId": "bcd6c05c-1194-4ebc-b0bb-27b4f8416c5e"
      },
      "execution_count": null,
      "outputs": [
        {
          "output_type": "execute_result",
          "data": {
            "text/plain": [
              "<matplotlib.legend.Legend at 0x7f43bdaa6950>"
            ]
          },
          "metadata": {},
          "execution_count": 76
        },
        {
          "output_type": "display_data",
          "data": {
            "text/plain": [
              "<Figure size 432x288 with 1 Axes>"
            ],
            "image/png": "[encoded data removed]"
          },
          "metadata": {
            "needs_background": "light"
          }
        }
      ]
    },
    {
      "cell_type": "markdown",
      "source": [
        "En base al gráfico seleccionamos las primeras 5 componentes principales que mayor explican la variabilidad. "
      ],
      "metadata": {
        "id": "2373NsKvdSrf"
      }
    },
    {
      "cell_type": "code",
      "source": [
        "# Armado de la matriz con las 5 componentes principales escaladas elegidas\n",
        "X_pca = numpy.hstack([X_scaled_mice_full, proyected_features[:,[0,1,2,3,4]]])\n",
        "new_columns.extend(['pca1_scaled', 'pca2_scaled','pca3_scaled','pca4_scaled','pca5_scaled'])\n",
        "#new_columns.extend(['pca1_scaled', 'pca2_scaled','pca3_scaled','pca4_scaled','pca5_scaled','pca6_scaled','pca7_scaled','pca8_scaled','pca9_scaled','pca10_scaled','pca11_scaled', 'pca12_scaled','pca13_scaled','pca14_scaled','pca15_scaled','pca16_scaled','pca17_scaled','pca18_scaled','pca19_scaled','pca20_scaled'])"
      ],
      "metadata": {
        "id": "DqVpVM4yZqAS"
      },
      "execution_count": null,
      "outputs": []
    },
    {
      "cell_type": "markdown",
      "metadata": {
        "id": "WrZTYmG_ZyDy"
      },
      "source": [
        "## Ejercicio 4: Composición del resultado\n",
        "\n",
        "Transformar nuevamente el conjunto de datos procesado en un `pandas.DataFrame` y guardarlo en un archivo.\n",
        "\n",
        "Para eso, será necesario recordar el nombre original de cada columna de la matriz, en el orden correcto. Tener en cuenta:\n",
        "1. El método `OneHotEncoder.get_feature_names` o el atributo `OneHotEncoder.categories_` permiten obtener una lista con los valores de la categoría que le corresponde a cada índice de la matriz.\n",
        "2. Ninguno de los métodos aplicados intercambia de lugar las columnas o las filas de la matriz."
      ]
    },
    {
      "cell_type": "code",
      "source": [
        "# Armado del data frame\n",
        "df_pca = pandas.DataFrame(data=X_pca, columns=new_columns)\n",
        "df_pca.head()"
      ],
      "metadata": {
        "colab": {
          "base_uri": "https://localhost:8080/",
          "height": 300
        },
        "id": "z5UtMo_gPnP2",
        "outputId": "dfe9cd75-4790-4970-aad8-7893ba6ce123"
      },
      "execution_count": null,
      "outputs": [
        {
          "output_type": "execute_result",
          "data": {
            "text/plain": [
              "   Date=1/07/2017  Date=10/09/2016  Date=10/12/2016  Date=11/02/2017  \\\n",
              "0             0.0              0.0              0.0              0.0   \n",
              "1             0.0              0.0              0.0              0.0   \n",
              "2             0.0              0.0              0.0              0.0   \n",
              "3             0.0              0.0              0.0              0.0   \n",
              "4             0.0              0.0              0.0              0.0   \n",
              "\n",
              "   Date=11/03/2017  Date=12/06/2016  Date=12/08/2017  Date=12/11/2016  \\\n",
              "0              0.0              0.0              0.0              0.0   \n",
              "1              0.0              0.0              0.0              0.0   \n",
              "2              0.0              0.0              0.0              0.0   \n",
              "3              0.0              0.0              0.0              0.0   \n",
              "4              0.0              0.0              0.0              0.0   \n",
              "\n",
              "   Date=13/05/2017  Date=13/08/2016  ...  airbnb_weekly_price_median  \\\n",
              "0              0.0              0.0  ...                    0.342105   \n",
              "1              0.0              0.0  ...                    0.342105   \n",
              "2              0.0              0.0  ...                    0.342105   \n",
              "3              0.0              0.0  ...                    0.342105   \n",
              "4              0.0              0.0  ...                    0.342105   \n",
              "\n",
              "   airbnb_monthly_price_median  airbnb_record_count  BuildingArea  YearBuilt  \\\n",
              "0                     0.372917             0.052491      0.021360   0.678571   \n",
              "1                     0.372917             0.052491      0.022372   0.748810   \n",
              "2                     0.372917             0.052491      0.028106   0.880952   \n",
              "3                     0.372917             0.052491      0.029511   0.892857   \n",
              "4                     0.372917             0.052491      0.042159   0.232143   \n",
              "\n",
              "   pca1_scaled  pca2_scaled  pca3_scaled  pca4_scaled  pca5_scaled  \n",
              "0     1.106276     0.500546     0.163193     0.036827    -0.274432  \n",
              "1     1.116049     0.508617     0.172842     0.055630    -0.278450  \n",
              "2     1.110146     0.460787     0.179748     0.098674    -0.241541  \n",
              "3     0.829645     0.011239     0.124377     0.562910     0.906767  \n",
              "4     0.453414    -0.794808    -0.112038    -0.187591    -0.056405  \n",
              "\n",
              "[5 rows x 137 columns]"
            ],
            "text/html": [
              "\n",
              "  <div id=\"df-824b1c63-f72a-4415-a001-ec7cd430a53e\">\n",
              "    <div class=\"colab-df-container\">\n",
              "      <div>\n",
              "<style scoped>\n",
              "    .dataframe tbody tr th:only-of-type {\n",
              "        vertical-align: middle;\n",
              "    }\n",
              "\n",
              "    .dataframe tbody tr th {\n",
              "        vertical-align: top;\n",
              "    }\n",
              "\n",
              "    .dataframe thead th {\n",
              "        text-align: right;\n",
              "    }\n",
              "</style>\n",
              "<table border=\"1\" class=\"dataframe\">\n",
              "  <thead>\n",
              "    <tr style=\"text-align: right;\">\n",
              "      <th></th>\n",
              "      <th>Date=1/07/2017</th>\n",
              "      <th>Date=10/09/2016</th>\n",
              "      <th>Date=10/12/2016</th>\n",
              "      <th>Date=11/02/2017</th>\n",
              "      <th>Date=11/03/2017</th>\n",
              "      <th>Date=12/06/2016</th>\n",
              "      <th>Date=12/08/2017</th>\n",
              "      <th>Date=12/11/2016</th>\n",
              "      <th>Date=13/05/2017</th>\n",
              "      <th>Date=13/08/2016</th>\n",
              "      <th>...</th>\n",
              "      <th>airbnb_weekly_price_median</th>\n",
              "      <th>airbnb_monthly_price_median</th>\n",
              "      <th>airbnb_record_count</th>\n",
              "      <th>BuildingArea</th>\n",
              "      <th>YearBuilt</th>\n",
              "      <th>pca1_scaled</th>\n",
              "      <th>pca2_scaled</th>\n",
              "      <th>pca3_scaled</th>\n",
              "      <th>pca4_scaled</th>\n",
              "      <th>pca5_scaled</th>\n",
              "    </tr>\n",
              "  </thead>\n",
              "  <tbody>\n",
              "    <tr>\n",
              "      <th>0</th>\n",
              "      <td>0.0</td>\n",
              "      <td>0.0</td>\n",
              "      <td>0.0</td>\n",
              "      <td>0.0</td>\n",
              "      <td>0.0</td>\n",
              "      <td>0.0</td>\n",
              "      <td>0.0</td>\n",
              "      <td>0.0</td>\n",
              "      <td>0.0</td>\n",
              "      <td>0.0</td>\n",
              "      <td>...</td>\n",
              "      <td>0.342105</td>\n",
              "      <td>0.372917</td>\n",
              "      <td>0.052491</td>\n",
              "      <td>0.021360</td>\n",
              "      <td>0.678571</td>\n",
              "      <td>1.106276</td>\n",
              "      <td>0.500546</td>\n",
              "      <td>0.163193</td>\n",
              "      <td>0.036827</td>\n",
              "      <td>-0.274432</td>\n",
              "    </tr>\n",
              "    <tr>\n",
              "      <th>1</th>\n",
              "      <td>0.0</td>\n",
              "      <td>0.0</td>\n",
              "      <td>0.0</td>\n",
              "      <td>0.0</td>\n",
              "      <td>0.0</td>\n",
              "      <td>0.0</td>\n",
              "      <td>0.0</td>\n",
              "      <td>0.0</td>\n",
              "      <td>0.0</td>\n",
              "      <td>0.0</td>\n",
              "      <td>...</td>\n",
              "      <td>0.342105</td>\n",
              "      <td>0.372917</td>\n",
              "      <td>0.052491</td>\n",
              "      <td>0.022372</td>\n",
              "      <td>0.748810</td>\n",
              "      <td>1.116049</td>\n",
              "      <td>0.508617</td>\n",
              "      <td>0.172842</td>\n",
              "      <td>0.055630</td>\n",
              "      <td>-0.278450</td>\n",
              "    </tr>\n",
              "    <tr>\n",
              "      <th>2</th>\n",
              "      <td>0.0</td>\n",
              "      <td>0.0</td>\n",
              "      <td>0.0</td>\n",
              "      <td>0.0</td>\n",
              "      <td>0.0</td>\n",
              "      <td>0.0</td>\n",
              "      <td>0.0</td>\n",
              "      <td>0.0</td>\n",
              "      <td>0.0</td>\n",
              "      <td>0.0</td>\n",
              "      <td>...</td>\n",
              "      <td>0.342105</td>\n",
              "      <td>0.372917</td>\n",
              "      <td>0.052491</td>\n",
              "      <td>0.028106</td>\n",
              "      <td>0.880952</td>\n",
              "      <td>1.110146</td>\n",
              "      <td>0.460787</td>\n",
              "      <td>0.179748</td>\n",
              "      <td>0.098674</td>\n",
              "      <td>-0.241541</td>\n",
              "    </tr>\n",
              "    <tr>\n",
              "      <th>3</th>\n",
              "      <td>0.0</td>\n",
              "      <td>0.0</td>\n",
              "      <td>0.0</td>\n",
              "      <td>0.0</td>\n",
              "      <td>0.0</td>\n",
              "      <td>0.0</td>\n",
              "      <td>0.0</td>\n",
              "      <td>0.0</td>\n",
              "      <td>0.0</td>\n",
              "      <td>0.0</td>\n",
              "      <td>...</td>\n",
              "      <td>0.342105</td>\n",
              "      <td>0.372917</td>\n",
              "      <td>0.052491</td>\n",
              "      <td>0.029511</td>\n",
              "      <td>0.892857</td>\n",
              "      <td>0.829645</td>\n",
              "      <td>0.011239</td>\n",
              "      <td>0.124377</td>\n",
              "      <td>0.562910</td>\n",
              "      <td>0.906767</td>\n",
              "    </tr>\n",
              "    <tr>\n",
              "      <th>4</th>\n",
              "      <td>0.0</td>\n",
              "      <td>0.0</td>\n",
              "      <td>0.0</td>\n",
              "      <td>0.0</td>\n",
              "      <td>0.0</td>\n",
              "      <td>0.0</td>\n",
              "      <td>0.0</td>\n",
              "      <td>0.0</td>\n",
              "      <td>0.0</td>\n",
              "      <td>0.0</td>\n",
              "      <td>...</td>\n",
              "      <td>0.342105</td>\n",
              "      <td>0.372917</td>\n",
              "      <td>0.052491</td>\n",
              "      <td>0.042159</td>\n",
              "      <td>0.232143</td>\n",
              "      <td>0.453414</td>\n",
              "      <td>-0.794808</td>\n",
              "      <td>-0.112038</td>\n",
              "      <td>-0.187591</td>\n",
              "      <td>-0.056405</td>\n",
              "    </tr>\n",
              "  </tbody>\n",
              "</table>\n",
              "<p>5 rows × 137 columns</p>\n",
              "</div>\n",
              "      <button class=\"colab-df-convert\" onclick=\"convertToInteractive('df-824b1c63-f72a-4415-a001-ec7cd430a53e')\"\n",
              "              title=\"Convert this dataframe to an interactive table.\"\n",
              "              style=\"display:none;\">\n",
              "        \n",
              "  <svg xmlns=\"http://www.w3.org/2000/svg\" height=\"24px\"viewBox=\"0 0 24 24\"\n",
              "       width=\"24px\">\n",
              "    <path d=\"M0 0h24v24H0V0z\" fill=\"none\"/>\n",
              "    <path d=\"M18.56 5.44l.94 2.06.94-2.06 2.06-.94-2.06-.94-.94-2.06-.94 2.06-2.06.94zm-11 1L8.5 8.5l.94-2.06 2.06-.94-2.06-.94L8.5 2.5l-.94 2.06-2.06.94zm10 10l.94 2.06.94-2.06 2.06-.94-2.06-.94-.94-2.06-.94 2.06-2.06.94z\"/><path d=\"M17.41 7.96l-1.37-1.37c-.4-.4-.92-.59-1.43-.59-.52 0-1.04.2-1.43.59L10.3 9.45l-7.72 7.72c-.78.78-.78 2.05 0 2.83L4 21.41c.39.39.9.59 1.41.59.51 0 1.02-.2 1.41-.59l7.78-7.78 2.81-2.81c.8-.78.8-2.07 0-2.86zM5.41 20L4 18.59l7.72-7.72 1.47 1.35L5.41 20z\"/>\n",
              "  </svg>\n",
              "      </button>\n",
              "      \n",
              "  <style>\n",
              "    .colab-df-container {\n",
              "      display:flex;\n",
              "      flex-wrap:wrap;\n",
              "      gap: 12px;\n",
              "    }\n",
              "\n",
              "    .colab-df-convert {\n",
              "      background-color: #E8F0FE;\n",
              "      border: none;\n",
              "      border-radius: 50%;\n",
              "      cursor: pointer;\n",
              "      display: none;\n",
              "      fill: #1967D2;\n",
              "      height: 32px;\n",
              "      padding: 0 0 0 0;\n",
              "      width: 32px;\n",
              "    }\n",
              "\n",
              "    .colab-df-convert:hover {\n",
              "      background-color: #E2EBFA;\n",
              "      box-shadow: 0px 1px 2px rgba(60, 64, 67, 0.3), 0px 1px 3px 1px rgba(60, 64, 67, 0.15);\n",
              "      fill: #174EA6;\n",
              "    }\n",
              "\n",
              "    [theme=dark] .colab-df-convert {\n",
              "      background-color: #3B4455;\n",
              "      fill: #D2E3FC;\n",
              "    }\n",
              "\n",
              "    [theme=dark] .colab-df-convert:hover {\n",
              "      background-color: #434B5C;\n",
              "      box-shadow: 0px 1px 3px 1px rgba(0, 0, 0, 0.15);\n",
              "      filter: drop-shadow(0px 1px 2px rgba(0, 0, 0, 0.3));\n",
              "      fill: #FFFFFF;\n",
              "    }\n",
              "  </style>\n",
              "\n",
              "      <script>\n",
              "        const buttonEl =\n",
              "          document.querySelector('#df-824b1c63-f72a-4415-a001-ec7cd430a53e button.colab-df-convert');\n",
              "        buttonEl.style.display =\n",
              "          google.colab.kernel.accessAllowed ? 'block' : 'none';\n",
              "\n",
              "        async function convertToInteractive(key) {\n",
              "          const element = document.querySelector('#df-824b1c63-f72a-4415-a001-ec7cd430a53e');\n",
              "          const dataTable =\n",
              "            await google.colab.kernel.invokeFunction('convertToInteractive',\n",
              "                                                     [key], {});\n",
              "          if (!dataTable) return;\n",
              "\n",
              "          const docLinkHtml = 'Like what you see? Visit the ' +\n",
              "            '<a target=\"_blank\" href=https://colab.research.google.com/notebooks/data_table.ipynb>data table notebook</a>'\n",
              "            + ' to learn more about interactive tables.';\n",
              "          element.innerHTML = '';\n",
              "          dataTable['output_type'] = 'display_data';\n",
              "          await google.colab.output.renderOutput(dataTable, element);\n",
              "          const docLink = document.createElement('div');\n",
              "          docLink.innerHTML = docLinkHtml;\n",
              "          element.appendChild(docLink);\n",
              "        }\n",
              "      </script>\n",
              "    </div>\n",
              "  </div>\n",
              "  "
            ]
          },
          "metadata": {},
          "execution_count": 78
        }
      ]
    },
    {
      "cell_type": "code",
      "source": [
        "# Creamos un .csv para el nuevo conjunto de datos\n",
        "df_pca.to_csv(\"df_pca.csv\", index=None)"
      ],
      "metadata": {
        "id": "OndfiMS1ZGti"
      },
      "execution_count": null,
      "outputs": []
    },
    {
      "cell_type": "code",
      "source": [
        "# Guardamos el nuevo conjunto de datos\n",
        "from google.colab import files\n",
        "files.download('df_pca.csv') "
      ],
      "metadata": {
        "colab": {
          "base_uri": "https://localhost:8080/",
          "height": 17
        },
        "id": "8nKjUhb_ZQV1",
        "outputId": "860219bc-c73e-4d3b-a8c9-41459b191265"
      },
      "execution_count": null,
      "outputs": [
        {
          "output_type": "display_data",
          "data": {
            "text/plain": [
              "<IPython.core.display.Javascript object>"
            ],
            "application/javascript": [
              "\n",
              "    async function download(id, filename, size) {\n",
              "      if (!google.colab.kernel.accessAllowed) {\n",
              "        return;\n",
              "      }\n",
              "      const div = document.createElement('div');\n",
              "      const label = document.createElement('label');\n",
              "      label.textContent = `Downloading \"${filename}\": `;\n",
              "      div.appendChild(label);\n",
              "      const progress = document.createElement('progress');\n",
              "      progress.max = size;\n",
              "      div.appendChild(progress);\n",
              "      document.body.appendChild(div);\n",
              "\n",
              "      const buffers = [];\n",
              "      let downloaded = 0;\n",
              "\n",
              "      const channel = await google.colab.kernel.comms.open(id);\n",
              "      // Send a message to notify the kernel that we're ready.\n",
              "      channel.send({})\n",
              "\n",
              "      for await (const message of channel.messages) {\n",
              "        // Send a message to notify the kernel that we're ready.\n",
              "        channel.send({})\n",
              "        if (message.buffers) {\n",
              "          for (const buffer of message.buffers) {\n",
              "            buffers.push(buffer);\n",
              "            downloaded += buffer.byteLength;\n",
              "            progress.value = downloaded;\n",
              "          }\n",
              "        }\n",
              "      }\n",
              "      const blob = new Blob(buffers, {type: 'application/binary'});\n",
              "      const a = document.createElement('a');\n",
              "      a.href = window.URL.createObjectURL(blob);\n",
              "      a.download = filename;\n",
              "      div.appendChild(a);\n",
              "      a.click();\n",
              "      div.remove();\n",
              "    }\n",
              "  "
            ]
          },
          "metadata": {}
        },
        {
          "output_type": "display_data",
          "data": {
            "text/plain": [
              "<IPython.core.display.Javascript object>"
            ],
            "application/javascript": [
              "download(\"download_4b21ff3e-4f7f-4c87-b0e3-728bd1cd854d\", \"df_pca.csv\", 6374505)"
            ]
          },
          "metadata": {}
        }
      ]
    },
    {
      "cell_type": "markdown",
      "metadata": {
        "id": "mVBLFc8PhRtW"
      },
      "source": [
        "## Ejercicio 5: Documentación\n",
        "\n",
        "En un documento `.pdf` o `.md` realizar un reporte de las operaciones que realizaron para obtener el conjunto de datos final. Se debe incluir:\n",
        "  1. Criterios de exclusión (o inclusión) de filas\n",
        "  2. Interpretación de las columnas presentes\n",
        "  2. Todas las transofrmaciones realizadas\n",
        "\n",
        "Este documento es de uso técnico exclusivamente, y su objetivo es permitir que otres desarrolladores puedan reproducir los mismos pasos y obtener el mismo resultado. Debe ser detallado pero consiso. Por ejemplo:\n",
        "\n",
        "```\n",
        "  ## Criterios de exclusión de ejemplos\n",
        "  1. Se eliminan ejemplos donde el año de construcción es previo a 1900\n",
        "\n",
        "  ## Características seleccionadas\n",
        "  ### Características categóricas\n",
        "  1. Type: tipo de propiedad. 3 valores posibles\n",
        "  2. ...\n",
        "  Todas las características categóricas fueron codificadas con un\n",
        "  método OneHotEncoding utilizando como máximo sus 30 valores más \n",
        "  frecuentes.\n",
        "  \n",
        "  ### Características numéricas\n",
        "  1. Rooms: Cantidad de habitaciones\n",
        "  2. Distance: Distancia al centro de la ciudad.\n",
        "  3. airbnb_mean_price: Se agrega el precio promedio diario de \n",
        "     publicaciones de la plataforma AirBnB en el mismo código \n",
        "     postal. [Link al repositorio con datos externos].\n",
        "\n",
        "  ### Transformaciones:\n",
        "  1. Todas las características numéricas fueron estandarizadas.\n",
        "  2. La columna `Suburb` fue imputada utilizando el método ...\n",
        "  3. Las columnas `YearBuilt` y ... fueron imputadas utilizando el \n",
        "     algoritmo ...\n",
        "  4. ...\n",
        "\n",
        "  ### Datos aumentados\n",
        "  1. Se agregan las 5 primeras columnas obtenidas a través del\n",
        "     método de PCA, aplicado sobre el conjunto de datos\n",
        "     totalmente procesado.\n",
        "```\n"
      ]
    },
    {
      "cell_type": "markdown",
      "metadata": {
        "id": "Bq7nuPg2HIYx"
      },
      "source": [
        ""
      ]
    }
  ]
}